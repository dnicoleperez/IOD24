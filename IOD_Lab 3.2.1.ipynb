{
 "cells": [
  {
   "cell_type": "markdown",
   "metadata": {
    "id": "fneIB8BIGtiY"
   },
   "source": [
    "<div>\n",
    "<img src=https://www.institutedata.com/wp-content/uploads/2019/10/iod_h_tp_primary_c.svg width=\"300\">\n",
    "</div>"
   ]
  },
  {
   "cell_type": "markdown",
   "metadata": {
    "id": "rdipUchUGtih"
   },
   "source": [
    "# Lab 3.2.1\n",
    "# *Querying the International Space Station*"
   ]
  },
  {
   "cell_type": "markdown",
   "metadata": {
    "id": "b2RLpeJNGtil"
   },
   "source": [
    "## The OpenNotify API"
   ]
  },
  {
   "cell_type": "markdown",
   "metadata": {
    "id": "rrunXmMNGtip"
   },
   "source": [
    "The OpenNotify API exposes a few attributes of the International Space Station (ISS) via a simple, authentication-free interface. The simplicity of this API precludes any need for a dedicated Python library. However, as with many APIs, it accepts requests according to HTTP standards and returns responses in JSON format, so the Python libraries request and json will make managing the I/O simpler still."
   ]
  },
  {
   "cell_type": "code",
   "execution_count": 31,
   "metadata": {
    "id": "xz4PaIIjGtis"
   },
   "outputs": [],
   "source": [
    "import requests\n",
    "import json\n",
    "from datetime import datetime, date, time"
   ]
  },
  {
   "cell_type": "markdown",
   "metadata": {
    "id": "tE2vsQo3Gti0"
   },
   "source": [
    "This request fetches the latest position of the international space station:"
   ]
  },
  {
   "cell_type": "code",
   "execution_count": 33,
   "metadata": {
    "id": "bXBJ6YSPGti3"
   },
   "outputs": [],
   "source": [
    "response = requests.get(\"http://api.open-notify.org/iss-now.json\")"
   ]
  },
  {
   "cell_type": "markdown",
   "metadata": {
    "id": "wTbnWjPGGti-"
   },
   "source": [
    "Print the status code and text of the response:"
   ]
  },
  {
   "cell_type": "code",
   "execution_count": 35,
   "metadata": {
    "colab": {
     "base_uri": "https://localhost:8080/"
    },
    "executionInfo": {
     "elapsed": 349,
     "status": "ok",
     "timestamp": 1656486719496,
     "user": {
      "displayName": "Muru Raj",
      "userId": "16263509272652930332"
     },
     "user_tz": -480
    },
    "id": "_I6hU3-AGtjA",
    "outputId": "063d1285-3a8f-409a-aed5-76511912fb1c"
   },
   "outputs": [
    {
     "name": "stdout",
     "output_type": "stream",
     "text": [
      "The ISS is currently at latitude: -31.8481 and longitude: 118.4646\n"
     ]
    }
   ],
   "source": [
    "#ANSWER\n",
    "import requests\n",
    "\n",
    "# API endpoint\n",
    "url = \"http://api.open-notify.org/iss-now.json\"\n",
    "\n",
    "# Send a GET request to the API\n",
    "response = requests.get(url)\n",
    "\n",
    "# Check if the request was successful\n",
    "if response.status_code == 200:\n",
    "    # Parse the JSON response\n",
    "    data = response.json()\n",
    "    position = data['iss_position']\n",
    "    latitude = position['latitude']\n",
    "    longitude = position['longitude']\n",
    "    \n",
    "    # Print the current position of the ISS\n",
    "    print(f\"The ISS is currently at latitude: {latitude} and longitude: {longitude}\")\n",
    "else:\n",
    "    print(f\"Failed to get data from API. Status code: {response.status_code}\")\n"
   ]
  },
  {
   "cell_type": "markdown",
   "metadata": {
    "id": "eiziNer-GtjF"
   },
   "source": [
    "We can use another API to request the current position of the ISS and the next few times at which it will be over a certain location. The latitude and longitude of Sydney are (-33.87, 151.21)."
   ]
  },
  {
   "cell_type": "code",
   "execution_count": 37,
   "metadata": {
    "id": "2XZ-ygFkGtjH"
   },
   "outputs": [],
   "source": [
    "response = requests.get(\"https://api.g7vrd.co.uk/v1/satellite-passes/25544/-33.87/151.21.json?minelevation=0&hours=24\")"
   ]
  },
  {
   "cell_type": "markdown",
   "metadata": {
    "id": "aEl3pwmHGtjN"
   },
   "source": [
    "Print the response header:"
   ]
  },
  {
   "cell_type": "code",
   "execution_count": 41,
   "metadata": {
    "id": "6rsz7gwbGtjP"
   },
   "outputs": [
    {
     "name": "stdout",
     "output_type": "stream",
     "text": [
      "Response Headers:\n",
      "Date: Mon, 05 Aug 2024 21:46:30 GMT\n",
      "Server: Apache\n",
      "Vary: Origin,Access-Control-Request-Method,Access-Control-Request-Headers\n",
      "Access-Control-Allow-Origin: *\n",
      "X-Content-Type-Options: nosniff\n",
      "X-XSS-Protection: 0\n",
      "Cache-Control: no-cache, no-store, max-age=0, must-revalidate\n",
      "Pragma: no-cache\n",
      "Expires: 0\n",
      "X-Frame-Options: DENY\n",
      "Content-Type: application/json\n",
      "Keep-Alive: timeout=5, max=100\n",
      "Connection: Keep-Alive\n",
      "Transfer-Encoding: chunked\n"
     ]
    }
   ],
   "source": [
    "#ANSWER\n",
    "import requests\n",
    "\n",
    "# API endpoint\n",
    "url = \"https://api.g7vrd.co.uk/v1/satellite-passes/25544/-33.87/151.21.json?minelevation=0&hours=24\"\n",
    "\n",
    "# Send a GET request to the API\n",
    "response = requests.get(url)\n",
    "\n",
    "# Print the response headers\n",
    "print(\"Response Headers:\")\n",
    "for key, value in response.headers.items():\n",
    "    print(f\"{key}: {value}\")\n",
    "\n"
   ]
  },
  {
   "cell_type": "markdown",
   "metadata": {
    "id": "W6tqlzySGtjR"
   },
   "source": [
    "Print the content of the response (the data that the server returned):"
   ]
  },
  {
   "cell_type": "code",
   "execution_count": 43,
   "metadata": {
    "id": "HbxepzDZGtjS"
   },
   "outputs": [
    {
     "name": "stdout",
     "output_type": "stream",
     "text": [
      "Response Data (JSON):\n",
      "{'api_status': 'ALPHA', 'request_timestamp': '2024-08-05T21:47:00.104759290Z', 'norad_id': 25544, 'satellite_name': 'ISS', 'tle_last_retrieved': '2024-08-04T22:42:27.368742051Z', 'lat': -33.87, 'lon': 151.21, 'hours': 24, 'min_elevation': 0, 'query_ms': 24, 'passes': [{'start': '2024-08-06T09:36:50.081Z', 'tca': '2024-08-06T09:39:50.081Z', 'end': '2024-08-06T09:43:05.081Z', 'aos_azimuth': 22, 'los_azimuth': 93, 'max_elevation': 4.0}, {'start': '2024-08-06T11:10:40.081Z', 'tca': '2024-08-06T11:16:10.081Z', 'end': '2024-08-06T11:21:35.081Z', 'aos_azimuth': 319, 'los_azimuth': 130, 'max_elevation': 68.0}, {'start': '2024-08-06T12:48:25.081Z', 'tca': '2024-08-06T12:52:55.081Z', 'end': '2024-08-06T12:58:00.081Z', 'aos_azimuth': 269, 'los_azimuth': 148, 'max_elevation': 14.0}, {'start': '2024-08-06T14:28:10.081Z', 'tca': '2024-08-06T14:31:10.081Z', 'end': '2024-08-06T14:34:25.081Z', 'aos_azimuth': 223, 'los_azimuth': 154, 'max_elevation': 4.0}, {'start': '2024-08-06T16:06:30.081Z', 'tca': '2024-08-06T16:10:00.081Z', 'end': '2024-08-06T16:13:10.081Z', 'aos_azimuth': 205, 'los_azimuth': 130, 'max_elevation': 4.0}, {'start': '2024-08-06T17:42:50.081Z', 'tca': '2024-08-06T17:47:50.081Z', 'end': '2024-08-06T17:52:50.081Z', 'aos_azimuth': 213, 'los_azimuth': 83, 'max_elevation': 17.0}, {'start': '2024-08-06T19:19:20.081Z', 'tca': '2024-08-06T19:24:50.081Z', 'end': '2024-08-06T19:30:15.081Z', 'aos_azimuth': 232, 'los_azimuth': 33, 'max_elevation': 48.0}, {'start': '2024-08-06T20:58:40.081Z', 'tca': '2024-08-06T21:00:40.081Z', 'end': '2024-08-06T21:03:00.081Z', 'aos_azimuth': 277, 'los_azimuth': 324, 'max_elevation': 2.0}, {'start': '2024-08-07T10:22:50.081Z', 'tca': '2024-08-07T10:27:50.081Z', 'end': '2024-08-07T10:33:25.081Z', 'aos_azimuth': 333, 'los_azimuth': 124, 'max_elevation': 34.0}]}\n"
     ]
    }
   ],
   "source": [
    "#ANSWER\n",
    "import requests\n",
    "\n",
    "# API endpoint\n",
    "url = \"https://api.g7vrd.co.uk/v1/satellite-passes/25544/-33.87/151.21.json?minelevation=0&hours=24\"\n",
    "\n",
    "# Send a GET request to the API\n",
    "response = requests.get(url)\n",
    "\n",
    "# Check if the request was successful\n",
    "if response.status_code == 200:\n",
    "    # Print the JSON content of the response\n",
    "    data = response.json()\n",
    "    print(\"Response Data (JSON):\")\n",
    "    print(data)\n",
    "else:\n",
    "    print(f\"Failed to get data from API. Status code: {response.status_code}\")\n"
   ]
  },
  {
   "cell_type": "markdown",
   "metadata": {
    "id": "N7tHPQzDGtjU"
   },
   "source": [
    "Note that this is a Python byte string:"
   ]
  },
  {
   "cell_type": "code",
   "execution_count": 18,
   "metadata": {
    "id": "k8AMo0yWGtjV"
   },
   "outputs": [
    {
     "name": "stdout",
     "output_type": "stream",
     "text": [
      "<class 'bytes'>\n"
     ]
    }
   ],
   "source": [
    "print(type(response.content))"
   ]
  },
  {
   "cell_type": "markdown",
   "metadata": {
    "id": "5tvv9ht_GtjX"
   },
   "source": [
    "Print just the \"content-type\" value from the header:"
   ]
  },
  {
   "cell_type": "code",
   "execution_count": 45,
   "metadata": {
    "id": "nxWxxLI7GtjX"
   },
   "outputs": [
    {
     "name": "stdout",
     "output_type": "stream",
     "text": [
      "Content-Type: application/json\n"
     ]
    }
   ],
   "source": [
    "#ANSWER\n",
    "import requests\n",
    "\n",
    "# API endpoint\n",
    "url = \"https://api.g7vrd.co.uk/v1/satellite-passes/25544/-33.87/151.21.json?minelevation=0&hours=24\"\n",
    "\n",
    "# Send a GET request to the API\n",
    "response = requests.get(url)\n",
    "\n",
    "# Print the \"Content-Type\" value from the response headers\n",
    "content_type = response.headers.get('Content-Type')\n",
    "print(f\"Content-Type: {content_type}\")\n"
   ]
  },
  {
   "cell_type": "markdown",
   "metadata": {
    "id": "7lPlgn_hGtjZ"
   },
   "source": [
    "JSON was designed to be easy for computers to read, not for people. The `requests` library can decode the JSON byte string:"
   ]
  },
  {
   "cell_type": "code",
   "execution_count": 47,
   "metadata": {
    "id": "nGVtgDaqGtja"
   },
   "outputs": [
    {
     "name": "stdout",
     "output_type": "stream",
     "text": [
      "{'api_status': 'ALPHA', 'request_timestamp': '2024-08-05T21:47:28.408371504Z', 'norad_id': 25544, 'satellite_name': 'ISS', 'tle_last_retrieved': '2024-08-04T22:42:27.368742051Z', 'lat': -33.87, 'lon': 151.21, 'hours': 24, 'min_elevation': 0, 'query_ms': 24, 'passes': [{'start': '2024-08-06T09:36:53.384Z', 'tca': '2024-08-06T09:39:53.384Z', 'end': '2024-08-06T09:43:03.384Z', 'aos_azimuth': 22, 'los_azimuth': 93, 'max_elevation': 4.0}, {'start': '2024-08-06T11:10:38.384Z', 'tca': '2024-08-06T11:16:08.384Z', 'end': '2024-08-06T11:21:33.384Z', 'aos_azimuth': 319, 'los_azimuth': 130, 'max_elevation': 69.0}, {'start': '2024-08-06T12:48:23.384Z', 'tca': '2024-08-06T12:52:53.384Z', 'end': '2024-08-06T12:57:58.384Z', 'aos_azimuth': 269, 'los_azimuth': 148, 'max_elevation': 14.0}, {'start': '2024-08-06T14:28:08.384Z', 'tca': '2024-08-06T14:31:08.384Z', 'end': '2024-08-06T14:34:28.384Z', 'aos_azimuth': 224, 'los_azimuth': 153, 'max_elevation': 4.0}, {'start': '2024-08-06T16:06:28.384Z', 'tca': '2024-08-06T16:09:58.384Z', 'end': '2024-08-06T16:13:13.384Z', 'aos_azimuth': 205, 'los_azimuth': 129, 'max_elevation': 4.0}, {'start': '2024-08-06T17:42:48.384Z', 'tca': '2024-08-06T17:47:48.384Z', 'end': '2024-08-06T17:52:48.384Z', 'aos_azimuth': 213, 'los_azimuth': 83, 'max_elevation': 17.0}, {'start': '2024-08-06T19:19:18.384Z', 'tca': '2024-08-06T19:24:48.384Z', 'end': '2024-08-06T19:30:13.384Z', 'aos_azimuth': 232, 'los_azimuth': 33, 'max_elevation': 48.0}, {'start': '2024-08-06T20:58:43.384Z', 'tca': '2024-08-06T21:00:43.384Z', 'end': '2024-08-06T21:02:58.384Z', 'aos_azimuth': 278, 'los_azimuth': 324, 'max_elevation': 2.0}, {'start': '2024-08-07T10:22:48.384Z', 'tca': '2024-08-07T10:27:48.384Z', 'end': '2024-08-07T10:33:23.384Z', 'aos_azimuth': 333, 'los_azimuth': 124, 'max_elevation': 33.0}]}\n"
     ]
    }
   ],
   "source": [
    "overheads = response.json()\n",
    "print(overheads)"
   ]
  },
  {
   "cell_type": "markdown",
   "metadata": {
    "id": "l9GOdNK5Gtjc"
   },
   "source": [
    "What kind of object did this give us?"
   ]
  },
  {
   "cell_type": "code",
   "execution_count": 24,
   "metadata": {
    "id": "JBS4nRmSGtjd"
   },
   "outputs": [],
   "source": [
    "#ANSWER:\n",
    "type(content_type) confirms that the content_type variable is a string.\n",
    "print(content_type) displays the actual content type as returned by the server."
   ]
  },
  {
   "cell_type": "markdown",
   "metadata": {
    "id": "2ZYJabXQGtjg"
   },
   "source": [
    "Python dicts are easier to work with, but the data we want is still buried in that data structure, so we have to dig it out. First, extract the `passes` value to a separate list:"
   ]
  },
  {
   "cell_type": "code",
   "execution_count": 52,
   "metadata": {
    "id": "0u8LZg4dGtjh"
   },
   "outputs": [
    {
     "name": "stdout",
     "output_type": "stream",
     "text": [
      "Extracted 'passes' list:\n",
      "[{'start': '2024-08-06T09:36:51.516Z', 'tca': '2024-08-06T09:39:51.516Z', 'end': '2024-08-06T09:43:06.516Z', 'aos_azimuth': 22, 'los_azimuth': 93, 'max_elevation': 4.0}, {'start': '2024-08-06T11:10:41.516Z', 'tca': '2024-08-06T11:16:11.516Z', 'end': '2024-08-06T11:21:36.516Z', 'aos_azimuth': 319, 'los_azimuth': 130, 'max_elevation': 68.0}, {'start': '2024-08-06T12:48:26.516Z', 'tca': '2024-08-06T12:52:56.516Z', 'end': '2024-08-06T12:58:01.516Z', 'aos_azimuth': 269, 'los_azimuth': 147, 'max_elevation': 14.0}, {'start': '2024-08-06T14:28:11.516Z', 'tca': '2024-08-06T14:31:11.516Z', 'end': '2024-08-06T14:34:26.516Z', 'aos_azimuth': 223, 'los_azimuth': 153, 'max_elevation': 4.0}, {'start': '2024-08-06T16:06:31.516Z', 'tca': '2024-08-06T16:10:01.516Z', 'end': '2024-08-06T16:13:11.516Z', 'aos_azimuth': 204, 'los_azimuth': 129, 'max_elevation': 4.0}, {'start': '2024-08-06T17:42:51.516Z', 'tca': '2024-08-06T17:47:51.516Z', 'end': '2024-08-06T17:52:51.516Z', 'aos_azimuth': 213, 'los_azimuth': 83, 'max_elevation': 17.0}, {'start': '2024-08-06T19:19:21.516Z', 'tca': '2024-08-06T19:24:51.516Z', 'end': '2024-08-06T19:30:11.516Z', 'aos_azimuth': 232, 'los_azimuth': 33, 'max_elevation': 48.0}, {'start': '2024-08-06T20:58:41.516Z', 'tca': '2024-08-06T21:00:41.516Z', 'end': '2024-08-06T21:02:56.516Z', 'aos_azimuth': 278, 'los_azimuth': 324, 'max_elevation': 2.0}, {'start': '2024-08-07T10:22:46.516Z', 'tca': '2024-08-07T10:27:46.516Z', 'end': '2024-08-07T10:33:21.516Z', 'aos_azimuth': 333, 'los_azimuth': 124, 'max_elevation': 33.0}]\n"
     ]
    }
   ],
   "source": [
    "#ANSWER:\n",
    "import requests\n",
    "\n",
    "# API endpoint\n",
    "url = \"https://api.g7vrd.co.uk/v1/satellite-passes/25544/-33.87/151.21.json?minelevation=0&hours=24\"\n",
    "\n",
    "# Send a GET request to the API\n",
    "response = requests.get(url)\n",
    "\n",
    "# Check if the request was successful\n",
    "if response.status_code == 200:\n",
    "    # Parse the JSON response\n",
    "    data = response.json()\n",
    "    \n",
    "    # Extract the 'passes' value\n",
    "    passes = data.get('passes', [])\n",
    "    \n",
    "    # Print the extracted 'passes' list\n",
    "    print(\"Extracted 'passes' list:\")\n",
    "    print(passes)\n",
    "else:\n",
    "    print(f\"Failed to get data from API. Status code: {response.status_code}\")\n"
   ]
  },
  {
   "cell_type": "markdown",
   "metadata": {
    "id": "hMHzLrfoGtjj"
   },
   "source": [
    "Now extract the `start` strings into an array called `srisetimes`:"
   ]
  },
  {
   "cell_type": "code",
   "execution_count": 58,
   "metadata": {
    "id": "nXqJ8_F2Gtjj"
   },
   "outputs": [],
   "source": [
    "#ANSWER:\n",
    "import requests\n",
    "\n",
    "# API endpoint\n",
    "url = \"https://api.g7vrd.co.uk/v1/satellite-passes/25544/-33.87/151.21.json?minelevation=0&hours=24\"\n",
    "\n",
    "# Send a GET request to the API\n",
    "response = requests.get(url)\n",
    "\n",
    "# Check if the request was successful\n",
    "if response.status_code == 200:\n",
    "    # Parse the JSON response\n",
    "    data = response.json()\n",
    "    \n",
    "    # Extract the 'passes' value\n",
    "    passes = data.get('passes', [])\n",
    "    \n",
    "    # Extract 'start' strings into the 'srise\n"
   ]
  },
  {
   "cell_type": "markdown",
   "metadata": {
    "id": "RItuBRt-Gtjl"
   },
   "source": [
    "These are strings. We convert these to an array of Python `datetime` values called `risetimes`:"
   ]
  },
  {
   "cell_type": "code",
   "execution_count": 64,
   "metadata": {
    "id": "8rzyAcLTGtjm"
   },
   "outputs": [
    {
     "data": {
      "text/plain": [
       "[datetime.datetime(2024, 8, 6, 9, 36, 50, 597000),\n",
       " datetime.datetime(2024, 8, 6, 11, 10, 40, 597000),\n",
       " datetime.datetime(2024, 8, 6, 12, 48, 25, 597000),\n",
       " datetime.datetime(2024, 8, 6, 14, 28, 10, 597000),\n",
       " datetime.datetime(2024, 8, 6, 16, 6, 30, 597000),\n",
       " datetime.datetime(2024, 8, 6, 17, 42, 50, 597000),\n",
       " datetime.datetime(2024, 8, 6, 19, 19, 20, 597000),\n",
       " datetime.datetime(2024, 8, 6, 20, 58, 40, 597000),\n",
       " datetime.datetime(2024, 8, 7, 10, 22, 50, 597000)]"
      ]
     },
     "execution_count": 64,
     "metadata": {},
     "output_type": "execute_result"
    }
   ],
   "source": [
    "risetimes = [datetime.strptime(xpass['start'], \"%Y-%m-%dT%H:%M:%S.%fZ\") for xpass in passes]\n",
    "risetimes"
   ]
  },
  {
   "cell_type": "markdown",
   "metadata": {
    "id": "l1EmKOFqGtjn"
   },
   "source": [
    "Finally, use `risetime.strftime` to print these in a format that people understand:\n",
    "\n",
    "```\n",
    "e.g.\n",
    "18/10/22 07:05\n",
    "18/10/22 08:41\n",
    "18/10/22 10:20\n",
    "18/10/22 12:00\n",
    "18/10/22 01:37\n",
    "18/10/22 03:13\n",
    "```\n",
    "\n"
   ]
  },
  {
   "cell_type": "code",
   "execution_count": 73,
   "metadata": {
    "id": "AkBE76VqGtjo"
   },
   "outputs": [
    {
     "name": "stdout",
     "output_type": "stream",
     "text": [
      "Warning: Could not parse datetime from string: 2024-08-06T09:36:52.202Z\n",
      "Warning: Could not parse datetime from string: 2024-08-06T11:10:42.202Z\n",
      "Warning: Could not parse datetime from string: 2024-08-06T12:48:27.202Z\n",
      "Warning: Could not parse datetime from string: 2024-08-06T14:28:07.202Z\n",
      "Warning: Could not parse datetime from string: 2024-08-06T16:06:32.202Z\n",
      "Warning: Could not parse datetime from string: 2024-08-06T17:42:52.202Z\n",
      "Warning: Could not parse datetime from string: 2024-08-06T19:19:22.202Z\n",
      "Warning: Could not parse datetime from string: 2024-08-06T20:58:42.202Z\n",
      "Warning: Could not parse datetime from string: 2024-08-07T10:22:47.202Z\n",
      "Formatted 'risetimes':\n"
     ]
    }
   ],
   "source": [
    "#ANSWER:\n",
    "import requests\n",
    "from datetime import datetime\n",
    "\n",
    "# API endpoint\n",
    "url = \"https://api.g7vrd.co.uk/v1/satellite-passes/25544/-33.87/151.21.json?minelevation=0&hours=24\"\n",
    "\n",
    "# Send a GET request to the API\n",
    "response = requests.get(url)\n",
    "\n",
    "# Check if the request was successful\n",
    "if response.status_code == 200:\n",
    "    # Parse the JSON response\n",
    "    data = response.json()\n",
    "    \n",
    "    # Extract the 'passes' value\n",
    "    passes = data.get('passes', [])\n",
    "    \n",
    "    # Extract 'start' strings into the 'srisetimes' array\n",
    "    srisetimes = [item.get('start', '') for item in passes]\n",
    "    \n",
    "    # Convert 'start' strings to datetime objects\n",
    "    risetimes = []\n",
    "    for start_time in srisetimes:\n",
    "        try:\n",
    "            # Parse the string into a datetime object\n",
    "            datetime_obj = datetime.strptime(start_time, '%Y-%m-%dT%H:%M:%SZ')\n",
    "            risetimes.append(datetime_obj)\n",
    "        except ValueError:\n",
    "            # Handle the case where the string cannot be parsed\n",
    "            print(f\"Warning: Could not parse datetime from string: {start_time}\")\n",
    "    \n",
    "    # Print the 'risetimes' in a human-readable format\n",
    "    print(\"Formatted 'risetimes':\")\n",
    "    for risetime in risetimes:\n",
    "        print(risetime.strftime('%d/%m/%y %H:%M'))\n",
    "else:\n",
    "    print(f\"Failed to get data from API. Status code: {response.status_code}\")\n"
   ]
  },
  {
   "cell_type": "markdown",
   "metadata": {
    "id": "iNm6GjX3Gtjq"
   },
   "source": [
    "Finally, here is an endpoint that tells us who is on board:"
   ]
  },
  {
   "cell_type": "code",
   "execution_count": 68,
   "metadata": {
    "id": "12yXs_OgGtjs"
   },
   "outputs": [],
   "source": [
    "response = requests.get(\"http://api.open-notify.org/astros.json\")"
   ]
  },
  {
   "cell_type": "markdown",
   "metadata": {
    "id": "0Np4S0aAGtj0"
   },
   "source": [
    "Referring to the methods used above, extract the number of astronauts and their names:"
   ]
  },
  {
   "cell_type": "code",
   "execution_count": 71,
   "metadata": {
    "id": "Oqx5L19_Gtj1"
   },
   "outputs": [
    {
     "name": "stdout",
     "output_type": "stream",
     "text": [
      "Number of astronauts: 12\n",
      "Names of astronauts:\n",
      "Oleg Kononenko\n",
      "Nikolai Chub\n",
      "Tracy Caldwell Dyson\n",
      "Matthew Dominick\n",
      "Michael Barratt\n",
      "Jeanette Epps\n",
      "Alexander Grebenkin\n",
      "Butch Wilmore\n",
      "Sunita Williams\n",
      "Li Guangsu\n",
      "Li Cong\n",
      "Ye Guangfu\n"
     ]
    }
   ],
   "source": [
    "#ANSWER:\n",
    "import requests\n",
    "\n",
    "# API endpoint\n",
    "url = \"http://api.open-notify.org/astros.json\"\n",
    "\n",
    "# Send a GET request to the API\n",
    "response = requests.get(url)\n",
    "\n",
    "# Check if the request was successful\n",
    "if response.status_code == 200:\n",
    "    # Parse the JSON response\n",
    "    data = response.json()\n",
    "    \n",
    "    # Extract the number of astronauts\n",
    "    number_of_astronauts = data.get('number', 0)\n",
    "    \n",
    "    # Extract the list of astronauts\n",
    "    astronauts = data.get('people', [])\n",
    "    \n",
    "    # Extract the names of the astronauts\n",
    "    astronaut_names = [astronaut.get('name', 'Unknown') for astronaut in astronauts]\n",
    "    \n",
    "    # Print the number of astronauts and their names\n",
    "    print(f\"Number of astronauts: {number_of_astronauts}\")\n",
    "    print(\"Names of astronauts:\")\n",
    "    for name in astronaut_names:\n",
    "        print(name)\n",
    "else:\n",
    "    print(f\"Failed to get data from API. Status code: {response.status_code}\")\n"
   ]
  },
  {
   "cell_type": "markdown",
   "metadata": {
    "id": "A4-DBw_bGtj2"
   },
   "source": [
    "## HOMEWORK\n"
   ]
  },
  {
   "cell_type": "markdown",
   "metadata": {
    "id": "c134mC6WGtj3"
   },
   "source": [
    "1. Write a simple handler for the response status code (refer to lab resources slide for HTTP response codes). As this Jupyter Notebook is an interactive device, the handler does not need to manage subsequent code execution (i.e. by branching or aborting execution), although it should return something that could be used to do so if deployed in a Python program."
   ]
  },
  {
   "cell_type": "code",
   "execution_count": null,
   "metadata": {
    "id": "FZM2NAWuGtj4"
   },
   "outputs": [],
   "source": [
    "#ANSWER:\n",
    "def handleResponse(response, verbose = False):\n",
    "    '''\n",
    "    Returns Boolean Value, Status Code,\n",
    "    '''\n",
    "  # if Status Code is 200 return false, and status code\n",
    "  # Otherwise Return True and Status Code"
   ]
  },
  {
   "cell_type": "markdown",
   "metadata": {
    "id": "9aPstlTIGtj5"
   },
   "source": [
    "2. Test your response handler on some correct and incorrect API calls."
   ]
  },
  {
   "cell_type": "code",
   "execution_count": 49,
   "metadata": {
    "id": "GYT1LAb8Gtj6"
   },
   "outputs": [
    {
     "ename": "NameError",
     "evalue": "name 'handleResponse' is not defined",
     "output_type": "error",
     "traceback": [
      "\u001b[0;31m---------------------------------------------------------------------------\u001b[0m",
      "\u001b[0;31mNameError\u001b[0m                                 Traceback (most recent call last)",
      "Cell \u001b[0;32mIn[49], line 2\u001b[0m\n\u001b[1;32m      1\u001b[0m response \u001b[38;5;241m=\u001b[39m requests\u001b[38;5;241m.\u001b[39mget(\u001b[38;5;124m\"\u001b[39m\u001b[38;5;124mhttp://api.open-notify.org/astros.json\u001b[39m\u001b[38;5;124m\"\u001b[39m)\n\u001b[0;32m----> 2\u001b[0m \u001b[38;5;28;01mif\u001b[39;00m handleResponse(response)[\u001b[38;5;241m0\u001b[39m]:\n\u001b[1;32m      3\u001b[0m     \u001b[38;5;28mprint\u001b[39m(\u001b[38;5;124m'\u001b[39m\u001b[38;5;124mAPI call failed. Resolve issue before continuing!\u001b[39m\u001b[38;5;124m'\u001b[39m)\n\u001b[1;32m      5\u001b[0m response \u001b[38;5;241m=\u001b[39m requests\u001b[38;5;241m.\u001b[39mget(\u001b[38;5;124m\"\u001b[39m\u001b[38;5;124mhttp://api.open-notify.org/iss-now.json\u001b[39m\u001b[38;5;124m\"\u001b[39m)\n",
      "\u001b[0;31mNameError\u001b[0m: name 'handleResponse' is not defined"
     ]
    }
   ],
   "source": [
    "response = requests.get(\"http://api.open-notify.org/astros.json\")\n",
    "if handleResponse(response)[0]:\n",
    "    print('API call failed. Resolve issue before continuing!')\n",
    "\n",
    "response = requests.get(\"http://api.open-notify.org/iss-now.json\")\n",
    "handleResponse(response, True)[0]"
   ]
  },
  {
   "cell_type": "markdown",
   "metadata": {
    "id": "k0AWq0rIIPza"
   },
   "source": [
    ">"
   ]
  },
  {
   "cell_type": "markdown",
   "metadata": {
    "id": "561tVw5LITP8"
   },
   "source": [
    ">"
   ]
  },
  {
   "cell_type": "markdown",
   "metadata": {
    "id": "H8Z7AkhTIUi3"
   },
   "source": [
    ">"
   ]
  },
  {
   "cell_type": "markdown",
   "metadata": {
    "id": "2lHXfE7KIHQp"
   },
   "source": [
    "\n",
    "\n",
    "---\n",
    "\n",
    "\n",
    "\n",
    "---\n",
    "\n",
    "\n",
    "\n",
    "> > > > > > > > > © 2024 Institute of Data\n",
    "\n",
    "\n",
    "---\n",
    "\n",
    "\n",
    "\n",
    "---\n",
    "\n",
    "\n",
    "\n"
   ]
  }
 ],
 "metadata": {
  "colab": {
   "provenance": [
    {
     "file_id": "1RknypYS3TD4wPumGiPV69EWtkq-3UBwF",
     "timestamp": 1553136072736
    }
   ]
  },
  "kernelspec": {
   "display_name": "Python 3 (ipykernel)",
   "language": "python",
   "name": "python3"
  },
  "language_info": {
   "codemirror_mode": {
    "name": "ipython",
    "version": 3
   },
   "file_extension": ".py",
   "mimetype": "text/x-python",
   "name": "python",
   "nbconvert_exporter": "python",
   "pygments_lexer": "ipython3",
   "version": "3.12.4"
  }
 },
 "nbformat": 4,
 "nbformat_minor": 4
}
