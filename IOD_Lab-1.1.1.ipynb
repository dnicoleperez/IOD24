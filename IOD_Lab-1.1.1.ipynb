{
 "cells": [
  {
   "cell_type": "markdown",
   "metadata": {
    "id": "7KeNKtNL2Ix-"
   },
   "source": [
    "<div>\n",
    "<img src=https://www.institutedata.com/wp-content/uploads/2019/10/iod_h_tp_primary_c.svg width=\"300\">\n",
    "</div>\n",
    "\n",
    "# Python - Lab 1.1.1\n",
    "\n",
    "## Learning objectives\n",
    "\n",
    "This lab provides practice in:\n",
    "\n",
    "1. Creating and manipulating lists\n",
    "2. For loops\n",
    "3. Creating dictionaries\n",
    "4. Importing modules and functions\n",
    "5. Plotting line, bar, and histogram charts using `matplotlib`\n",
    "6. Simple customisations when creating visualisations\n",
    "7. Using the `pandas` module for data import and analysis\n",
    "8. Using the `seaborn` module for data visualisation\n",
    "\n",
    "## Instructions:\n",
    "\n",
    "1. Replace ??? with the appropriate code\n",
    "2. Press Shift + Enter to execute cell\n",
    "\n"
   ]
  },
  {
   "cell_type": "markdown",
   "metadata": {
    "id": "HZ_JC2K58kco"
   },
   "source": [
    "This is an example cell for text."
   ]
  },
  {
   "cell_type": "code",
   "execution_count": null,
   "metadata": {
    "id": "G34nwJwe8iW3"
   },
   "outputs": [],
   "source": [
    "# This is an example cell for code."
   ]
  },
  {
   "cell_type": "markdown",
   "metadata": {
    "id": "f23h5k2XBGiY"
   },
   "source": [
    "## Working with lists"
   ]
  },
  {
   "cell_type": "code",
   "execution_count": 15,
   "metadata": {
    "id": "NaRcNY1l2LbD"
   },
   "outputs": [],
   "source": [
    "# below is a list of 10 students (using just first name)\n",
    "students = ['Alice','Ben','Cathy','Dawn','Emily','Fern','Emma','Sean','Felix','Hugh']"
   ]
  },
  {
   "cell_type": "code",
   "execution_count": 17,
   "metadata": {
    "id": "lyMlOgoUZ2R4"
   },
   "outputs": [
    {
     "name": "stdout",
     "output_type": "stream",
     "text": [
      "Student list: ['Alice', 'Ben', 'Cathy', 'Dawn', 'Emily', 'Fern', 'Emma', 'Sean', 'Felix', 'Hugh']\n"
     ]
    }
   ],
   "source": [
    "# Print the list\n",
    "print(f'Student list: {students}')"
   ]
  },
  {
   "cell_type": "code",
   "execution_count": 19,
   "metadata": {
    "id": "LtbLA_T811kr"
   },
   "outputs": [
    {
     "name": "stdout",
     "output_type": "stream",
     "text": [
      "Index 01 \t Alice\n",
      "Index 02 \t Ben\n",
      "Index 03 \t Cathy\n",
      "Index 04 \t Dawn\n",
      "Index 05 \t Emily\n",
      "Index 06 \t Fern\n",
      "Index 07 \t Emma\n",
      "Index 08 \t Sean\n",
      "Index 09 \t Felix\n",
      "Index 10 \t Hugh\n"
     ]
    }
   ],
   "source": [
    "# Print the list of students in the following format\n",
    "# Index 01 \t Alice\n",
    "# Index 02 \t Ben\n",
    "# Index 03 \t Cathy\n",
    "# ...\n",
    "for i, student in enumerate(students):\n",
    "    print(f'Index {i+1:02d} \\t {student}')"
   ]
  },
  {
   "cell_type": "code",
   "execution_count": 21,
   "metadata": {
    "id": "OF5sj3CX1lHl"
   },
   "outputs": [
    {
     "name": "stdout",
     "output_type": "stream",
     "text": [
      "Index 01 \t Hugh\n",
      "Index 02 \t Felix\n",
      "Index 03 \t Sean\n",
      "Index 04 \t Emma\n",
      "Index 05 \t Fern\n",
      "Index 06 \t Emily\n",
      "Index 07 \t Dawn\n",
      "Index 08 \t Cathy\n",
      "Index 09 \t Ben\n",
      "Index 10 \t Alice\n"
     ]
    }
   ],
   "source": [
    "# print the list of students in reverse order one student in a line with its index\n",
    "# google search how to print list in reverse order\n",
    "students_reversed = students.copy()\n",
    "students_reversed.reverse()\n",
    "for i, student in enumerate(students_reversed):\n",
    "    print(f'Index {i+1:02d} \\t {student}')"
   ]
  },
  {
   "cell_type": "code",
   "execution_count": 23,
   "metadata": {
    "id": "eAdtim4G1pyV"
   },
   "outputs": [
    {
     "name": "stdout",
     "output_type": "stream",
     "text": [
      "Index 01 \t Ben\n",
      "Index 02 \t Cathy\n",
      "Index 03 \t Alice\n",
      "Index 04 \t Felix\n",
      "Index 05 \t Emily\n",
      "Index 06 \t Sean\n",
      "Index 07 \t Fern\n",
      "Index 08 \t Dawn\n",
      "Index 09 \t Emma\n",
      "Index 10 \t Hugh\n"
     ]
    }
   ],
   "source": [
    "# print the student list in random order\n",
    "# hint look up the function random.sample\n",
    "import random\n",
    "students_random = random.sample(students, len(students))\n",
    "for i, student in enumerate(students_random):\n",
    "    print(f'Index {i+1:02d} \\t {student}')"
   ]
  },
  {
   "cell_type": "code",
   "execution_count": 27,
   "metadata": {
    "colab": {
     "base_uri": "https://localhost:8080/"
    },
    "executionInfo": {
     "elapsed": 301,
     "status": "ok",
     "timestamp": 1684804333142,
     "user": {
      "displayName": "Chaitanya Rao",
      "userId": "16367114639785284684"
     },
     "user_tz": -600
    },
    "id": "sfKkL5dt1tqG",
    "outputId": "a7623863-4f0d-4300-adaf-a344ec1fcc81"
   },
   "outputs": [
    {
     "name": "stdout",
     "output_type": "stream",
     "text": [
      "Students and their marks: \n",
      " {'Alice': 87, 'Ben': 45, 'Cathy': 76, 'Dawn': 64, 'Emily': 66, 'Fern': 90, 'Emma': 55, 'Sean': 73, 'Felix': 69, 'Hugh': 75}\n",
      "Fern      :90\n",
      "Alice     :87\n",
      "Cathy     :76\n",
      "Hugh      :75\n",
      "Sean      :73\n",
      "Felix     :69\n",
      "Emily     :66\n",
      "Dawn      :64\n",
      "Emma      :55\n",
      "Ben       :45\n"
     ]
    }
   ],
   "source": [
    "# list students in decreasing order of their exam marks given their marks below\n",
    "# hint: look up the 'sorted' function\n",
    "marks = [87,45,76,64,66,90,55,73,69,75]\n",
    "studentsAndMarks = dict(zip(students, marks))\n",
    "\n",
    "def value_getter(item):\n",
    "    return item[0]\n",
    "\n",
    "print(f\"Students and their marks: \\n {studentsAndMarks}\")\n",
    "for student in sorted(studentsAndMarks, key=studentsAndMarks.get, reverse=True ):\n",
    "    print(f\"{student:10s}:{studentsAndMarks[student]}\")"
   ]
  },
  {
   "cell_type": "code",
   "execution_count": null,
   "metadata": {
    "colab": {
     "base_uri": "https://localhost:8080/"
    },
    "executionInfo": {
     "elapsed": 308,
     "status": "ok",
     "timestamp": 1684804345867,
     "user": {
      "displayName": "Chaitanya Rao",
      "userId": "16367114639785284684"
     },
     "user_tz": -600
    },
    "id": "IPQQHA2h_MrC",
    "outputId": "ec8ff5c1-c702-43c1-90e2-421cf9130eb5"
   },
   "outputs": [
    {
     "data": {
      "text/plain": [
       "['fern',\n",
       " 'alice',\n",
       " 'cathy',\n",
       " 'hugh',\n",
       " 'sean',\n",
       " 'felix',\n",
       " 'emily',\n",
       " 'dawn',\n",
       " 'emma',\n",
       " 'ben']"
      ]
     },
     "execution_count": 7,
     "metadata": {},
     "output_type": "execute_result"
    }
   ],
   "source": [
    "#desired output:"
   ]
  },
  {
   "cell_type": "markdown",
   "metadata": {
    "id": "D8OrPDV39LLc"
   },
   "source": [
    "## Using matplotlib"
   ]
  },
  {
   "cell_type": "code",
   "execution_count": 29,
   "metadata": {
    "colab": {
     "base_uri": "https://localhost:8080/"
    },
    "executionInfo": {
     "elapsed": 4,
     "status": "ok",
     "timestamp": 1716332041179,
     "user": {
      "displayName": "Chaitanya Rao",
      "userId": "16367114639785284684"
     },
     "user_tz": -600
    },
    "id": "Qd1HkoOy9X3y",
    "outputId": "4bea4515-2e14-41f3-ff38-880bbae26d17"
   },
   "outputs": [
    {
     "name": "stdout",
     "output_type": "stream",
     "text": [
      "[ 0.   0.1  0.2  0.3  0.4  0.5  0.6  0.7  0.8  0.9  1.   1.1  1.2  1.3\n",
      "  1.4  1.5  1.6  1.7  1.8  1.9  2.   2.1  2.2  2.3  2.4  2.5  2.6  2.7\n",
      "  2.8  2.9  3.   3.1  3.2  3.3  3.4  3.5  3.6  3.7  3.8  3.9  4.   4.1\n",
      "  4.2  4.3  4.4  4.5  4.6  4.7  4.8  4.9  5.   5.1  5.2  5.3  5.4  5.5\n",
      "  5.6  5.7  5.8  5.9  6.   6.1  6.2  6.3  6.4  6.5  6.6  6.7  6.8  6.9\n",
      "  7.   7.1  7.2  7.3  7.4  7.5  7.6  7.7  7.8  7.9  8.   8.1  8.2  8.3\n",
      "  8.4  8.5  8.6  8.7  8.8  8.9  9.   9.1  9.2  9.3  9.4  9.5  9.6  9.7\n",
      "  9.8  9.9 10. ]\n"
     ]
    }
   ],
   "source": [
    "import numpy as np\n",
    "import matplotlib.pyplot as plt\n",
    "\n",
    "# Create a set of x values\n",
    "x = np.linspace(0, 10, 101)\n",
    "# Print the inputs\n",
    "print(x)"
   ]
  },
  {
   "cell_type": "code",
   "execution_count": null,
   "metadata": {
    "colab": {
     "base_uri": "https://localhost:8080/",
     "height": 447
    },
    "executionInfo": {
     "elapsed": 573,
     "status": "ok",
     "timestamp": 1708389632773,
     "user": {
      "displayName": "Chaitanya Rao",
      "userId": "16367114639785284684"
     },
     "user_tz": -660
    },
    "id": "uZui6ynK9FTK",
    "outputId": "ee908095-8c78-4e57-a193-77de53012d8f"
   },
   "outputs": [
    {
     "data": {
      "text/plain": [
       "[<matplotlib.lines.Line2D at 0x7ba39009f4c0>]"
      ]
     },
     "execution_count": 1,
     "metadata": {},
     "output_type": "execute_result"
    },
    {
     "data": {
      "image/png": "[encoded data removed]",
      "text/plain": [
       "<Figure size 640x480 with 1 Axes>"
      ]
     },
     "metadata": {},
     "output_type": "display_data"
    }
   ],
   "source": [
    "# Create a figure using plt.figure\n",
    "#fig = plt.figure()\n",
    "# Plot the sine of x\n",
    "plt.plot(x, np.sin(x), '-')\n",
    "# Plot the cosine of x\n",
    "plt.plot(x, np.cos(x), '.')\n",
    "plt.show()"
   ]
  },
  {
   "cell_type": "markdown",
   "metadata": {
    "id": "K-d9J1FD-L5-"
   },
   "source": [
    "## Plotting bar charts"
   ]
  },
  {
   "cell_type": "code",
   "execution_count": 31,
   "metadata": {
    "id": "jrntbIKZ9pTz"
   },
   "outputs": [
    {
     "data": {
      "image/png": "[encoded data removed]",
      "text/plain": [
       "<Figure size 640x480 with 1 Axes>"
      ]
     },
     "metadata": {},
     "output_type": "display_data"
    }
   ],
   "source": [
    "# Create two lists of 5 arbitrary numbers\n",
    "array1 = [2, 7, 1, 9, 4]\n",
    "array2 = [5, 3, 8, 6, 0]\n",
    "\n",
    "# Plot two bar charts using plt.bar and the lists you've created above\n",
    "# Label them \"Example one\" and \"example two\"\n",
    "# X-axis values\n",
    "x = np.array([0, 1, 2, 4, 5])\n",
    "plt.bar(np.arange(2*len(array1))[::2]+1, array1, label=\"Example one\", width=0.4)\n",
    "plt.bar(np.arange(2*len(array1))[::2], array2, label=\"Example two\", color='g', width=0.4)\n",
    "\n",
    "plt.legend()\n",
    "# Label x axis \"Bar number\"\n",
    "plt.xlabel('X')\n",
    "# Label y axis \"Bar height\"\n",
    "plt.ylabel('Y')\n",
    "# Set title \"Bar Graph\"\n",
    "plt.title(\"Bar Graph\")\n",
    "# Show the chart\n",
    "plt.show()"
   ]
  },
  {
   "cell_type": "markdown",
   "metadata": {
    "id": "wDqLvipU99wJ"
   },
   "source": [
    "Run the following two cells to understand the inputs of the plt.bar function above."
   ]
  },
  {
   "cell_type": "code",
   "execution_count": 33,
   "metadata": {
    "id": "1Dsdudva94r7"
   },
   "outputs": [
    {
     "data": {
      "text/plain": [
       "array([0, 2, 4, 6, 8])"
      ]
     },
     "execution_count": 33,
     "metadata": {},
     "output_type": "execute_result"
    }
   ],
   "source": [
    "np.arange(2*len(array1))[::2]"
   ]
  },
  {
   "cell_type": "code",
   "execution_count": 43,
   "metadata": {
    "id": "2YEgG_z195Yn"
   },
   "outputs": [
    {
     "data": {
      "text/plain": [
       "array([1, 3, 5, 7, 9])"
      ]
     },
     "execution_count": 43,
     "metadata": {},
     "output_type": "execute_result"
    }
   ],
   "source": [
    "np.arange(2*len(array1))[::2]+1"
   ]
  },
  {
   "cell_type": "code",
   "execution_count": 47,
   "metadata": {
    "id": "Ldjmc9KH-U2c"
   },
   "outputs": [
    {
     "data": {
      "image/png": "[encoded data removed]",
      "text/plain": [
       "<Figure size 640x480 with 1 Axes>"
      ]
     },
     "metadata": {},
     "output_type": "display_data"
    }
   ],
   "source": [
    "# Histogram Code\n",
    "# Create an array of a random Laplace distribution (a type of random number generator)\n",
    "d = np.random.laplace(loc=15, scale=3, size=100)\n",
    "# Create a histogram using plt.hist()\n",
    "n, bins, patches = plt.hist(x=d, bins='auto', color='#0504aa',\n",
    "                            alpha=0.7, rwidth=0.85)\n",
    "# Set grid for x and y\n",
    "# set transperancy of the grid using alpha=0.5\n",
    "plt.grid(axis='both', alpha=0.5)\n",
    "plt.grid(axis='x', alpha=0.5)\n",
    "plt.xlabel('Value')\n",
    "plt.ylabel('Frequency')\n",
    "plt.title('My First Histogram Ever')\n",
    "plt.text(23, 45, r'$\\mu=15, b=3$')\n",
    "maxfreq = n.max()\n",
    "# Set a clean upper y-axis limit.\n",
    "plt.ylim(ymax=np.ceil(maxfreq / 10) * 10 if maxfreq % 10 else maxfreq + 10)\n",
    "plt.show()"
   ]
  },
  {
   "cell_type": "code",
   "execution_count": null,
   "metadata": {
    "id": "Qisj1sWW-a42"
   },
   "outputs": [],
   "source": [
    "# Bonus: Create a scatter plot of random data\n"
   ]
  },
  {
   "cell_type": "code",
   "execution_count": null,
   "metadata": {
    "id": "qhSWS2VK-j_s"
   },
   "outputs": [],
   "source": [
    "# Load data from 'https://raw.githubusercontent.com/alanjones2/dataviz/master/london2018.csv'\n",
    "# and print it\n",
    "# First import libraries numpy, and pandas and matplotlib.pyplot\n",
    "??? numpy as np\n",
    "import ??? as pd\n",
    "???\n",
    "# Load data from the above url using pandas read_csv\n",
    "weather = ???(???)\n",
    "# Print the top 10 rows\n",
    "print(???)"
   ]
  },
  {
   "cell_type": "code",
   "execution_count": null,
   "metadata": {
    "id": "3IXXB-ed-k0p"
   },
   "outputs": [],
   "source": [
    "# Use pandas describe() function to describe the data loaded above\n",
    "???"
   ]
  },
  {
   "cell_type": "code",
   "execution_count": null,
   "metadata": {
    "id": "QovDyBwQ-uCH"
   },
   "outputs": [],
   "source": [
    "# Plot temperature min and max\n",
    "weather.plot(y=[???], x='Month');"
   ]
  },
  {
   "cell_type": "code",
   "execution_count": null,
   "metadata": {
    "id": "vQCQxkdp-z12"
   },
   "outputs": [],
   "source": [
    "# Plot the rain as above\n",
    "weather.???"
   ]
  },
  {
   "cell_type": "code",
   "execution_count": null,
   "metadata": {
    "id": "tXgjwRPk-4ge"
   },
   "outputs": [],
   "source": [
    "# Plot the sun column\n",
    "weather.???"
   ]
  },
  {
   "cell_type": "markdown",
   "metadata": {
    "id": "ZOmq7ZNN_JGS"
   },
   "source": [
    "## Visualising the iris dataset with seaborn"
   ]
  },
  {
   "cell_type": "code",
   "execution_count": null,
   "metadata": {
    "id": "cRnBCaaa_EjO"
   },
   "outputs": [],
   "source": [
    "# Import seaborn library\n",
    "import ??? as sns\n",
    "# Import load_iris\n",
    "from sklearn.datasets import load_iris\n",
    "# Load the dataset\n",
    "dataset=load_iris()\n",
    "# Place in pandas dataframe\n",
    "data=pd.DataFrame(dataset[\"data\"],columns=[\"Petal length\",\"Petal Width\",\"Sepal Length\",\"Sepal Width\"])\n",
    "data[\"Species\"]=dataset[\"target\"]\n",
    "data[\"Species\"]=data[\"Species\"].apply(lambda x: dataset[\"target_names\"][x])\n",
    "# Print top 10 rows\n",
    "???"
   ]
  },
  {
   "cell_type": "code",
   "execution_count": null,
   "metadata": {
    "id": "ujIDRPE3_fEI"
   },
   "outputs": [],
   "source": [
    "# Describe the dataframe\n",
    "???"
   ]
  },
  {
   "cell_type": "code",
   "execution_count": null,
   "metadata": {
    "id": "4kxqcprp_iy-"
   },
   "outputs": [],
   "source": [
    "# use seaborn pairplot function to plot relationship between variables\n",
    "sns.???(data, hue=\"Species\")"
   ]
  },
  {
   "cell_type": "markdown",
   "metadata": {
    "id": "1sXaEeYiyju-"
   },
   "source": [
    "\n",
    "\n",
    "---\n",
    "\n",
    "\n",
    "\n",
    "---\n",
    "\n",
    "\n",
    "\n",
    "> > > > > > > > > © 2024 Institute of Data\n",
    "\n",
    "\n",
    "---\n",
    "\n",
    "\n",
    "\n",
    "---\n",
    "\n",
    "\n",
    "\n"
   ]
  }
 ],
 "metadata": {
  "colab": {
   "provenance": [],
   "toc_visible": true
  },
  "kernelspec": {
   "display_name": "Python 3 (ipykernel)",
   "language": "python",
   "name": "python3"
  },
  "language_info": {
   "codemirror_mode": {
    "name": "ipython",
    "version": 3
   },
   "file_extension": ".py",
   "mimetype": "text/x-python",
   "name": "python",
   "nbconvert_exporter": "python",
   "pygments_lexer": "ipython3",
   "version": "3.12.4"
  }
 },
 "nbformat": 4,
 "nbformat_minor": 4
}
