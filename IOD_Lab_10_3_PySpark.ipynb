{
  "cells": [
    {
      "cell_type": "markdown",
      "metadata": {
        "id": "view-in-github",
        "colab_type": "text"
      },
      "source": [
        "<a href=\"https://colab.research.google.com/github/dnicoleperez/IOD24/blob/main/IOD_Lab_10_3_PySpark.ipynb\" target=\"_parent\"><img src=\"https://colab.research.google.com/assets/colab-badge.svg\" alt=\"Open In Colab\"/></a>"
      ]
    },
    {
      "cell_type": "markdown",
      "metadata": {
        "id": "x0wJ6ih0dGue"
      },
      "source": [
        "<div>\n",
        "<img src=https://www.institutedata.com/wp-content/uploads/2019/10/iod_h_tp_primary_c.svg width=\"300\">\n",
        "</div>"
      ]
    },
    {
      "cell_type": "markdown",
      "metadata": {
        "id": "q9ROjAGE3Xwe"
      },
      "source": [
        "# Lab 10.3 PySpark for Big Data"
      ]
    },
    {
      "cell_type": "markdown",
      "metadata": {
        "id": "b1x0a8wS36Dg"
      },
      "source": [
        "## Introduction\n",
        "\n",
        "**Note**: this notebook is to be run in Google Colab on your Google Drive. It will not work locally on your computer.\n",
        "\n",
        "The purpose of this lab is to gain further exposure to cloud computing, often necessary when datasets become too large to manage on a local machine. You will learn how to work with a large dataset through the PySpark Python library with Google Colaboratory (Colab).\n",
        "\n",
        "In Google Colab, a virtual machine is automatically set up to execute your code. The maximum lifetime of such a machine is 12 hours. Note that notebooks will be disconnected from virtual machines if left idle. If this happens simple click on the Connect button to reconnect. If the kernel needs to be restarted (via the Runtime menu), variables may be lost but packages would not need to be reinstalled unless a new machine is assigned.\n",
        "\n",
        "https://research.google.com/colaboratory/faq.html"
      ]
    },
    {
      "cell_type": "markdown",
      "metadata": {
        "id": "9Aofk5PAOjiy"
      },
      "source": [
        "Sign into colab.research.google.com and choose the Upload tab and upload this notebook.  This will automatically create a folder called \"Colab Notebooks\" in your Google Drive (if it does not already exist)."
      ]
    },
    {
      "cell_type": "markdown",
      "metadata": {
        "id": "Q9D2nLzvpvXG"
      },
      "source": [
        "Apache Spark is an open-source cluster-computing framework, able to work with large datasets quickly by performing in-memory caching and computation. Pyspark is a Python API for Spark commonly used to manipulate big data. For reference one useful cheat sheet is available at https://s3.amazonaws.com/assets.datacamp.com/blog_assets/PySpark_SQL_Cheat_Sheet_Python.pdf\n",
        "\n",
        "\n",
        "Fortunately Pyspark is straightforward to setup in Google Colab:"
      ]
    },
    {
      "cell_type": "code",
      "execution_count": 4,
      "metadata": {
        "colab": {
          "base_uri": "https://localhost:8080/"
        },
        "id": "0OjLwFBPiHjE",
        "outputId": "2876e2b6-c2ed-410c-9cc2-24da8ee5ea66"
      },
      "outputs": [
        {
          "output_type": "stream",
          "name": "stdout",
          "text": [
            "Requirement already satisfied: pyspark in /usr/local/lib/python3.10/dist-packages (3.5.3)\n",
            "Requirement already satisfied: py4j in /usr/local/lib/python3.10/dist-packages (0.10.9.7)\n"
          ]
        }
      ],
      "source": [
        "!pip install pyspark py4j"
      ]
    },
    {
      "cell_type": "markdown",
      "metadata": {
        "id": "AqVKUUfaPAFk"
      },
      "source": [
        "To work with Spark DataFrames we firstly need to create a Spark DataFrame:"
      ]
    },
    {
      "cell_type": "code",
      "execution_count": 5,
      "metadata": {
        "id": "EVkw1kauisG7"
      },
      "outputs": [],
      "source": [
        "from pyspark.sql import SparkSession\n",
        "from pyspark.sql.functions import col, trim, avg, round, when\n",
        "from pyspark import SparkFiles\n",
        "\n",
        "import pandas as pd\n",
        "import matplotlib.pyplot as plt\n",
        "import seaborn as sns"
      ]
    },
    {
      "cell_type": "code",
      "execution_count": 6,
      "metadata": {
        "id": "0DhoqhUfjLLR"
      },
      "outputs": [],
      "source": [
        "spark = SparkSession.builder.appName(\"populationdata\").getOrCreate()"
      ]
    },
    {
      "cell_type": "code",
      "source": [
        "# Step 1: Install PySpark if you haven't done so\n",
        "!pip install pyspark\n",
        "\n",
        "# Step 2: Import SparkSession\n",
        "from pyspark.sql import SparkSession\n",
        "\n",
        "# Step 3: Create a Spark session\n",
        "spark = SparkSession.builder.appName(\"populationdata\").getOrCreate()\n",
        "\n",
        "# Optional: Check Spark version\n",
        "print(\"Spark Version:\", spark.version)\n"
      ],
      "metadata": {
        "colab": {
          "base_uri": "https://localhost:8080/"
        },
        "id": "eUK-U-B4N6jG",
        "outputId": "f2e76944-ca23-4333-afa9-96960dbb9bfe"
      },
      "execution_count": null,
      "outputs": [
        {
          "output_type": "stream",
          "name": "stdout",
          "text": [
            "Requirement already satisfied: pyspark in /usr/local/lib/python3.10/dist-packages (3.5.3)\n",
            "Requirement already satisfied: py4j==0.10.9.7 in /usr/local/lib/python3.10/dist-packages (from pyspark) (0.10.9.7)\n",
            "Spark Version: 3.5.3\n"
          ]
        }
      ]
    },
    {
      "cell_type": "code",
      "source": [
        "spark = SparkSession.builder.appName(\"populationdata\").getOrCreate()"
      ],
      "metadata": {
        "id": "YmgwYz53Orgm"
      },
      "execution_count": 7,
      "outputs": []
    },
    {
      "cell_type": "code",
      "execution_count": 8,
      "metadata": {
        "colab": {
          "base_uri": "https://localhost:8080/",
          "height": 219
        },
        "id": "VR8Wz35Srk2e",
        "outputId": "b85ad8b4-fff4-4ec9-823e-9a23cb209d41"
      },
      "outputs": [
        {
          "output_type": "execute_result",
          "data": {
            "text/plain": [
              "<pyspark.sql.session.SparkSession at 0x7ead5d182440>"
            ],
            "text/html": [
              "\n",
              "            <div>\n",
              "                <p><b>SparkSession - in-memory</b></p>\n",
              "                \n",
              "        <div>\n",
              "            <p><b>SparkContext</b></p>\n",
              "\n",
              "            <p><a href=\"http://85052b81fb7e:4040\">Spark UI</a></p>\n",
              "\n",
              "            <dl>\n",
              "              <dt>Version</dt>\n",
              "                <dd><code>v3.5.3</code></dd>\n",
              "              <dt>Master</dt>\n",
              "                <dd><code>local[*]</code></dd>\n",
              "              <dt>AppName</dt>\n",
              "                <dd><code>populationdata</code></dd>\n",
              "            </dl>\n",
              "        </div>\n",
              "        \n",
              "            </div>\n",
              "        "
            ]
          },
          "metadata": {},
          "execution_count": 8
        }
      ],
      "source": [
        "spark"
      ]
    },
    {
      "cell_type": "markdown",
      "metadata": {
        "id": "fniWWP-mUHbj"
      },
      "source": [
        "## Loading the dataset and EDA"
      ]
    },
    {
      "cell_type": "markdown",
      "metadata": {
        "id": "ARXXUB6T4YyX"
      },
      "source": [
        "The dataset to be analysed in this lab shows population estimates by age and gender:\n",
        "\n",
        "   - PopMale: Male population for the individual age (thousands)\n",
        "   - PopFemale: Female population for the individual age (thousands)\n",
        "   - PopTotal: Total population for the individual age (thousands)\n",
        "\n",
        "Further details can be found at https://population.un.org/wpp/."
      ]
    },
    {
      "cell_type": "code",
      "execution_count": 9,
      "metadata": {
        "id": "SIwmSmYtJSce"
      },
      "outputs": [],
      "source": [
        "from google.colab import drive"
      ]
    },
    {
      "cell_type": "code",
      "execution_count": 10,
      "metadata": {
        "colab": {
          "base_uri": "https://localhost:8080/"
        },
        "id": "UAEvb3tCJP5X",
        "outputId": "4d30db08-869f-4323-bb29-8fc6889d42de"
      },
      "outputs": [
        {
          "output_type": "stream",
          "name": "stdout",
          "text": [
            "Mounted at /content/drive\n"
          ]
        }
      ],
      "source": [
        "drive.mount('/content/drive')"
      ]
    },
    {
      "cell_type": "code",
      "execution_count": 11,
      "metadata": {
        "id": "W9PIO6ccj11y"
      },
      "outputs": [],
      "source": [
        "# run this cell after uploading the file into your Colab Notebooks folder\n",
        "df = spark.read.csv(r\"/content/drive/MyDrive/Colab Notebooks/WPP2019_PopulationBySingleAgeSex_1950-2019.csv\", header=True)"
      ]
    },
    {
      "cell_type": "code",
      "execution_count": 12,
      "metadata": {
        "id": "gjGaJckiP5Wq",
        "colab": {
          "base_uri": "https://localhost:8080/"
        },
        "outputId": "ad5d5d22-32c5-4926-ebb1-54ef23e51ad9"
      },
      "outputs": [
        {
          "output_type": "execute_result",
          "data": {
            "text/plain": [
              "Row(LocID='4', Location='Afghanistan', VarID='2', Variant='Medium', Time='1950', MidPeriod='1950.5', AgeGrp='0', AgeGrpStart='0', AgeGrpSpan='1', PopMale='139.669', PopFemale='154.913', PopTotal='294.582')"
            ]
          },
          "metadata": {},
          "execution_count": 12
        }
      ],
      "source": [
        "df.head()"
      ]
    },
    {
      "cell_type": "markdown",
      "metadata": {
        "id": "jx2B5DdBt-uv"
      },
      "source": [
        "Note that unlike Pandas this does not display a preview of the dataset, only the schema. This is because Spark performs lazy evaluation, only displaying rows when needed."
      ]
    },
    {
      "cell_type": "code",
      "execution_count": 13,
      "metadata": {
        "id": "x2oftXQoXLM5",
        "colab": {
          "base_uri": "https://localhost:8080/"
        },
        "outputId": "373f62d6-9901-4e2e-c2c4-74b754b7b0e5"
      },
      "outputs": [
        {
          "output_type": "execute_result",
          "data": {
            "text/plain": [
              "['LocID',\n",
              " 'Location',\n",
              " 'VarID',\n",
              " 'Variant',\n",
              " 'Time',\n",
              " 'MidPeriod',\n",
              " 'AgeGrp',\n",
              " 'AgeGrpStart',\n",
              " 'AgeGrpSpan',\n",
              " 'PopMale',\n",
              " 'PopFemale',\n",
              " 'PopTotal']"
            ]
          },
          "metadata": {},
          "execution_count": 13
        }
      ],
      "source": [
        "df.columns"
      ]
    },
    {
      "cell_type": "code",
      "execution_count": null,
      "metadata": {
        "id": "yUzIy3XxMEMu"
      },
      "outputs": [],
      "source": []
    },
    {
      "cell_type": "markdown",
      "metadata": {
        "id": "sEJqR51YMH-a"
      },
      "source": []
    },
    {
      "cell_type": "markdown",
      "metadata": {
        "id": "5sGp29RbMIUA"
      },
      "source": []
    },
    {
      "cell_type": "markdown",
      "metadata": {
        "id": "P0T1d7f8ucdV"
      },
      "source": [
        "**Exercise**: How many rows does df contain?"
      ]
    },
    {
      "cell_type": "code",
      "execution_count": 14,
      "metadata": {
        "id": "Or9UO3KfkO2j",
        "colab": {
          "base_uri": "https://localhost:8080/"
        },
        "outputId": "c8e293d4-e49d-4a0d-b5d0-091ba635a5b3"
      },
      "outputs": [
        {
          "output_type": "execute_result",
          "data": {
            "text/plain": [
              "1604549"
            ]
          },
          "metadata": {},
          "execution_count": 14
        }
      ],
      "source": [
        "# ANSWER\n",
        "df.distinct().count()\n"
      ]
    },
    {
      "cell_type": "code",
      "execution_count": 15,
      "metadata": {
        "id": "3OrPKvO1wwmF",
        "colab": {
          "base_uri": "https://localhost:8080/"
        },
        "outputId": "2725176a-8ea9-4493-93e8-5c9fcddf6107"
      },
      "outputs": [
        {
          "output_type": "execute_result",
          "data": {
            "text/plain": [
              "2"
            ]
          },
          "metadata": {},
          "execution_count": 15
        }
      ],
      "source": [
        "df.rdd.getNumPartitions()"
      ]
    },
    {
      "cell_type": "markdown",
      "metadata": {
        "id": "laKXx1YuVHzJ"
      },
      "source": [
        "This corresponds to the number of cores in a free Google Colab instance."
      ]
    },
    {
      "cell_type": "code",
      "execution_count": 16,
      "metadata": {
        "id": "U46UOmCm-JGW",
        "colab": {
          "base_uri": "https://localhost:8080/"
        },
        "outputId": "04d264e4-333b-40b6-d436-a9c68906bdf5"
      },
      "outputs": [
        {
          "output_type": "stream",
          "name": "stdout",
          "text": [
            "root\n",
            " |-- LocID: string (nullable = true)\n",
            " |-- Location: string (nullable = true)\n",
            " |-- VarID: string (nullable = true)\n",
            " |-- Variant: string (nullable = true)\n",
            " |-- Time: string (nullable = true)\n",
            " |-- MidPeriod: string (nullable = true)\n",
            " |-- AgeGrp: string (nullable = true)\n",
            " |-- AgeGrpStart: string (nullable = true)\n",
            " |-- AgeGrpSpan: string (nullable = true)\n",
            " |-- PopMale: string (nullable = true)\n",
            " |-- PopFemale: string (nullable = true)\n",
            " |-- PopTotal: string (nullable = true)\n",
            "\n"
          ]
        }
      ],
      "source": [
        "df.printSchema()"
      ]
    },
    {
      "cell_type": "markdown",
      "metadata": {
        "id": "Wbu-qsbAurU_"
      },
      "source": [
        "We use df.show() similarly to df.head() in Pandas."
      ]
    },
    {
      "cell_type": "code",
      "execution_count": 17,
      "metadata": {
        "id": "2gErdsL3kcMu",
        "colab": {
          "base_uri": "https://localhost:8080/"
        },
        "outputId": "52dd822e-e9a3-4793-9af6-b892d1e9345b"
      },
      "outputs": [
        {
          "output_type": "stream",
          "name": "stdout",
          "text": [
            "+-----+-----------+-----+-------+----+---------+------+-----------+----------+-------+---------+--------+\n",
            "|LocID|   Location|VarID|Variant|Time|MidPeriod|AgeGrp|AgeGrpStart|AgeGrpSpan|PopMale|PopFemale|PopTotal|\n",
            "+-----+-----------+-----+-------+----+---------+------+-----------+----------+-------+---------+--------+\n",
            "|    4|Afghanistan|    2| Medium|1950|   1950.5|     0|          0|         1|139.669|  154.913| 294.582|\n",
            "|    4|Afghanistan|    2| Medium|1950|   1950.5|     1|          1|         1|131.916|  141.851| 273.767|\n",
            "|    4|Afghanistan|    2| Medium|1950|   1950.5|     2|          2|         1|125.127|  130.632| 255.759|\n",
            "|    4|Afghanistan|    2| Medium|1950|   1950.5|     3|          3|         1| 119.22|  121.097| 240.317|\n",
            "|    4|Afghanistan|    2| Medium|1950|   1950.5|     4|          4|         1|114.112|  113.085| 227.197|\n",
            "|    4|Afghanistan|    2| Medium|1950|   1950.5|     5|          5|         1|109.723|  106.436| 216.159|\n",
            "|    4|Afghanistan|    2| Medium|1950|   1950.5|     6|          6|         1|105.969|   100.99| 206.959|\n",
            "|    4|Afghanistan|    2| Medium|1950|   1950.5|     7|          7|         1|102.769|   96.585| 199.354|\n",
            "|    4|Afghanistan|    2| Medium|1950|   1950.5|     8|          8|         1|100.041|   93.063| 193.104|\n",
            "|    4|Afghanistan|    2| Medium|1950|   1950.5|     9|          9|         1| 97.704|   90.261| 187.965|\n",
            "|    4|Afghanistan|    2| Medium|1950|   1950.5|    10|         10|         1| 95.755|   88.171| 183.926|\n",
            "|    4|Afghanistan|    2| Medium|1950|   1950.5|    11|         11|         1| 94.192|   86.779| 180.971|\n",
            "|    4|Afghanistan|    2| Medium|1950|   1950.5|    12|         12|         1| 92.534|   85.181| 177.715|\n",
            "|    4|Afghanistan|    2| Medium|1950|   1950.5|    13|         13|         1| 90.537|   82.918| 173.455|\n",
            "|    4|Afghanistan|    2| Medium|1950|   1950.5|    14|         14|         1|  88.36|   80.277| 168.637|\n",
            "|    4|Afghanistan|    2| Medium|1950|   1950.5|    15|         15|         1| 86.374|   78.007| 164.381|\n",
            "|    4|Afghanistan|    2| Medium|1950|   1950.5|    16|         16|         1| 84.467|    75.96| 160.427|\n",
            "|    4|Afghanistan|    2| Medium|1950|   1950.5|    17|         17|         1| 82.703|   73.906| 156.609|\n",
            "|    4|Afghanistan|    2| Medium|1950|   1950.5|    18|         18|         1| 81.139|   71.804| 152.943|\n",
            "|    4|Afghanistan|    2| Medium|1950|   1950.5|    19|         19|         1| 79.686|   69.686| 149.372|\n",
            "+-----+-----------+-----+-------+----+---------+------+-----------+----------+-------+---------+--------+\n",
            "only showing top 20 rows\n",
            "\n"
          ]
        }
      ],
      "source": [
        "df.show()"
      ]
    },
    {
      "cell_type": "code",
      "execution_count": 18,
      "metadata": {
        "id": "yzxQaJivXU-d",
        "colab": {
          "base_uri": "https://localhost:8080/"
        },
        "outputId": "b2542c76-de6a-429a-9d54-1caad9be2dc2"
      },
      "outputs": [
        {
          "output_type": "execute_result",
          "data": {
            "text/plain": [
              "DataFrame[summary: string, LocID: string, Location: string, VarID: string, Variant: string, Time: string, MidPeriod: string, AgeGrp: string, AgeGrpStart: string, AgeGrpSpan: string, PopMale: string, PopFemale: string, PopTotal: string]"
            ]
          },
          "metadata": {},
          "execution_count": 18
        }
      ],
      "source": [
        "df.describe()"
      ]
    },
    {
      "cell_type": "markdown",
      "metadata": {
        "id": "SRiwEStKu1Bj"
      },
      "source": [
        "Once again evaluation of describe is lazy, we use show() to display results:"
      ]
    },
    {
      "cell_type": "markdown",
      "metadata": {
        "id": "b086yRpkcFm1"
      },
      "source": []
    },
    {
      "cell_type": "code",
      "execution_count": 19,
      "metadata": {
        "id": "019DYlC1Xa4f",
        "colab": {
          "base_uri": "https://localhost:8080/"
        },
        "outputId": "6cd49a10-42ed-4ff8-8f50-ca41222a0b67"
      },
      "outputs": [
        {
          "output_type": "stream",
          "name": "stdout",
          "text": [
            "+-------+------------------+--------------------+-------+-------+------------------+------------------+------------------+------------------+-------------------+------------------+------------------+------------------+\n",
            "|summary|             LocID|            Location|  VarID|Variant|              Time|         MidPeriod|            AgeGrp|       AgeGrpStart|         AgeGrpSpan|           PopMale|         PopFemale|          PopTotal|\n",
            "+-------+------------------+--------------------+-------+-------+------------------+------------------+------------------+------------------+-------------------+------------------+------------------+------------------+\n",
            "|  count|           1604549|             1604549|1604549|1604549|           1604549|           1604549|           1604549|           1604549|            1604549|           1604549|           1604549|           1604548|\n",
            "|   mean|1037.6430660578144|                NULL|    2.0|   NULL|1984.4929279193095|1984.9929279193095| 49.99925399598267| 49.99925399598267| 0.9801987972944423|1961.8821199870874|1927.3202297549913|3889.2018963259293|\n",
            "| stddev| 821.4971234069408|                NULL|    0.0|   NULL|20.201520174133595|20.201520174133595|29.154661933962913|29.154661933962913|0.19801601505816396| 5310.602109020599|    5039.041799225|10346.894917940157|\n",
            "|    min|               100|         Afghanistan|      2| Medium|              1950|            1950.5|                 0|                 0|                 -1|                 0|                 0|                 0|\n",
            "|    max|               986|Latin American an...|      2| Medium|              2019|            2019.5|                99|                99|                  1|          9999.967|          9999.992|         99991.504|\n",
            "+-------+------------------+--------------------+-------+-------+------------------+------------------+------------------+------------------+-------------------+------------------+------------------+------------------+\n",
            "\n"
          ]
        }
      ],
      "source": [
        "df.describe().show()"
      ]
    },
    {
      "cell_type": "markdown",
      "metadata": {
        "id": "cUaRjQT1UKQA"
      },
      "source": [
        "Let us remove rows we do not need."
      ]
    },
    {
      "cell_type": "code",
      "execution_count": 20,
      "metadata": {
        "id": "NGE3jFrNnKPN",
        "colab": {
          "base_uri": "https://localhost:8080/"
        },
        "outputId": "43ed447d-7b67-4399-9a3d-71c504ab30ae"
      },
      "outputs": [
        {
          "output_type": "stream",
          "name": "stdout",
          "text": [
            "+-----+-------+\n",
            "|VarID|Variant|\n",
            "+-----+-------+\n",
            "|    2| Medium|\n",
            "+-----+-------+\n",
            "\n"
          ]
        }
      ],
      "source": [
        "df.select('VarID', 'Variant').distinct().show()"
      ]
    },
    {
      "cell_type": "markdown",
      "metadata": {
        "id": "ImP40Am2Ubyk"
      },
      "source": [
        "As we will not work with other variant, we can safely drop these columns."
      ]
    },
    {
      "cell_type": "code",
      "execution_count": 21,
      "metadata": {
        "id": "FcUa1NXkUvuK"
      },
      "outputs": [],
      "source": [
        "df = df.drop('VarID', 'Variant')"
      ]
    },
    {
      "cell_type": "code",
      "execution_count": 22,
      "metadata": {
        "id": "E9JqgSV8U0MO",
        "colab": {
          "base_uri": "https://localhost:8080/"
        },
        "outputId": "fadbc0d7-a244-4b09-9bac-a72a298f6cca"
      },
      "outputs": [
        {
          "output_type": "stream",
          "name": "stdout",
          "text": [
            "+-----+-----------+----+---------+------+-----------+----------+-------+---------+--------+\n",
            "|LocID|   Location|Time|MidPeriod|AgeGrp|AgeGrpStart|AgeGrpSpan|PopMale|PopFemale|PopTotal|\n",
            "+-----+-----------+----+---------+------+-----------+----------+-------+---------+--------+\n",
            "|    4|Afghanistan|1950|   1950.5|     0|          0|         1|139.669|  154.913| 294.582|\n",
            "|    4|Afghanistan|1950|   1950.5|     1|          1|         1|131.916|  141.851| 273.767|\n",
            "|    4|Afghanistan|1950|   1950.5|     2|          2|         1|125.127|  130.632| 255.759|\n",
            "|    4|Afghanistan|1950|   1950.5|     3|          3|         1| 119.22|  121.097| 240.317|\n",
            "|    4|Afghanistan|1950|   1950.5|     4|          4|         1|114.112|  113.085| 227.197|\n",
            "|    4|Afghanistan|1950|   1950.5|     5|          5|         1|109.723|  106.436| 216.159|\n",
            "|    4|Afghanistan|1950|   1950.5|     6|          6|         1|105.969|   100.99| 206.959|\n",
            "|    4|Afghanistan|1950|   1950.5|     7|          7|         1|102.769|   96.585| 199.354|\n",
            "|    4|Afghanistan|1950|   1950.5|     8|          8|         1|100.041|   93.063| 193.104|\n",
            "|    4|Afghanistan|1950|   1950.5|     9|          9|         1| 97.704|   90.261| 187.965|\n",
            "|    4|Afghanistan|1950|   1950.5|    10|         10|         1| 95.755|   88.171| 183.926|\n",
            "|    4|Afghanistan|1950|   1950.5|    11|         11|         1| 94.192|   86.779| 180.971|\n",
            "|    4|Afghanistan|1950|   1950.5|    12|         12|         1| 92.534|   85.181| 177.715|\n",
            "|    4|Afghanistan|1950|   1950.5|    13|         13|         1| 90.537|   82.918| 173.455|\n",
            "|    4|Afghanistan|1950|   1950.5|    14|         14|         1|  88.36|   80.277| 168.637|\n",
            "|    4|Afghanistan|1950|   1950.5|    15|         15|         1| 86.374|   78.007| 164.381|\n",
            "|    4|Afghanistan|1950|   1950.5|    16|         16|         1| 84.467|    75.96| 160.427|\n",
            "|    4|Afghanistan|1950|   1950.5|    17|         17|         1| 82.703|   73.906| 156.609|\n",
            "|    4|Afghanistan|1950|   1950.5|    18|         18|         1| 81.139|   71.804| 152.943|\n",
            "|    4|Afghanistan|1950|   1950.5|    19|         19|         1| 79.686|   69.686| 149.372|\n",
            "+-----+-----------+----+---------+------+-----------+----------+-------+---------+--------+\n",
            "only showing top 20 rows\n",
            "\n"
          ]
        }
      ],
      "source": [
        "df.show()"
      ]
    },
    {
      "cell_type": "code",
      "execution_count": 23,
      "metadata": {
        "id": "FetISlkDkfte",
        "colab": {
          "base_uri": "https://localhost:8080/"
        },
        "outputId": "a861401b-ba16-4418-922f-93704ace6fe7"
      },
      "outputs": [
        {
          "output_type": "execute_result",
          "data": {
            "text/plain": [
              "225"
            ]
          },
          "metadata": {},
          "execution_count": 23
        }
      ],
      "source": [
        "df.select('Location').distinct().count()"
      ]
    },
    {
      "cell_type": "code",
      "execution_count": 24,
      "metadata": {
        "id": "RLp0s2DNm_9J",
        "colab": {
          "base_uri": "https://localhost:8080/"
        },
        "outputId": "996ab6f4-f0e7-442d-f0e2-94557b08f294"
      },
      "outputs": [
        {
          "output_type": "stream",
          "name": "stdout",
          "text": [
            "+--------------------+\n",
            "|            Location|\n",
            "+--------------------+\n",
            "|       Côte d'Ivoire|\n",
            "|                Chad|\n",
            "|          Cabo Verde|\n",
            "|       ECE: UNECE-52|\n",
            "|ESCAP: ADB Develo...|\n",
            "|ECLAC: The Caribbean|\n",
            "|            Djibouti|\n",
            "|African, Caribbea...|\n",
            "|             Comoros|\n",
            "|         Afghanistan|\n",
            "|Belt-Road Initiat...|\n",
            "|            Cambodia|\n",
            "|Commonwealth of I...|\n",
            "|       African Group|\n",
            "|Countries with Ac...|\n",
            "|Countries with Ac...|\n",
            "|Central European ...|\n",
            "|              Africa|\n",
            "|African Union: We...|\n",
            "|Countries with Ac...|\n",
            "+--------------------+\n",
            "only showing top 20 rows\n",
            "\n"
          ]
        }
      ],
      "source": [
        "df.select('Location').distinct().show()"
      ]
    },
    {
      "cell_type": "markdown",
      "metadata": {
        "id": "wGId26gpvIhA"
      },
      "source": [
        "**Exercise**: Repeat the above query, this time ordering the results by Location and using the truncate=False option to display results in full. Show all 440 results."
      ]
    },
    {
      "cell_type": "code",
      "execution_count": 25,
      "metadata": {
        "id": "6n-RKO9GQ9d7",
        "colab": {
          "base_uri": "https://localhost:8080/"
        },
        "outputId": "f8bd724f-fd4f-4e32-c00a-bed2e8e814f4"
      },
      "outputs": [
        {
          "output_type": "execute_result",
          "data": {
            "text/plain": [
              "[Row(Location=\"Côte d'Ivoire\"),\n",
              " Row(Location='Chad'),\n",
              " Row(Location='Cabo Verde'),\n",
              " Row(Location='ECE: UNECE-52'),\n",
              " Row(Location='ESCAP: ADB Developing member countries (DMCs)'),\n",
              " Row(Location='ECLAC: The Caribbean'),\n",
              " Row(Location='Djibouti'),\n",
              " Row(Location='African, Caribbean and Pacific (ACP) Group of States'),\n",
              " Row(Location='Comoros'),\n",
              " Row(Location='Afghanistan'),\n",
              " Row(Location='Belt-Road Initiative: Latin America and the Caribbean'),\n",
              " Row(Location='Cambodia'),\n",
              " Row(Location='Commonwealth of Independent States (CIS)'),\n",
              " Row(Location='African Group'),\n",
              " Row(Location='Countries with Access to the Sea'),\n",
              " Row(Location='Countries with Access to the Sea: Asia'),\n",
              " Row(Location='Central European Free Trade Agreement (CEFTA)'),\n",
              " Row(Location='Africa'),\n",
              " Row(Location='African Union: Western Africa'),\n",
              " Row(Location='Countries with Access to the Sea: Northern America'),\n",
              " Row(Location='Algeria'),\n",
              " Row(Location='Countries with Access to the Sea: Oceania'),\n",
              " Row(Location='Argentina'),\n",
              " Row(Location='Angola'),\n",
              " Row(Location='Belgium'),\n",
              " Row(Location='Albania'),\n",
              " Row(Location='Belt-Road Initiative (BRI)'),\n",
              " Row(Location='Commonwealth: Africa'),\n",
              " Row(Location='Black Sea Economic Cooperation (BSEC)'),\n",
              " Row(Location='ESCAP region: Pacific'),\n",
              " Row(Location='Brunei Darussalam'),\n",
              " Row(Location=\"Dem. People's Republic of Korea\"),\n",
              " Row(Location='Benin'),\n",
              " Row(Location='BRICS'),\n",
              " Row(Location='Bahamas'),\n",
              " Row(Location='China'),\n",
              " Row(Location='Countries with Access to the Sea: Africa'),\n",
              " Row(Location='Belarus'),\n",
              " Row(Location='Central Asia'),\n",
              " Row(Location='ESCAP region: North and Central Asia'),\n",
              " Row(Location='ECLAC: Latin America'),\n",
              " Row(Location='Central America'),\n",
              " Row(Location='Chile'),\n",
              " Row(Location='Asia-Pacific Group'),\n",
              " Row(Location='Bolivia (Plurinational State of)'),\n",
              " Row(Location='Croatia'),\n",
              " Row(Location='Burundi'),\n",
              " Row(Location='African Union: Eastern Africa'),\n",
              " Row(Location='Cuba'),\n",
              " Row(Location='Association of Southeast Asian Nations (ASEAN)'),\n",
              " Row(Location='Commonwealth: Asia'),\n",
              " Row(Location='Czechia'),\n",
              " Row(Location='African Union: Central Africa'),\n",
              " Row(Location='Commonwealth of Nations'),\n",
              " Row(Location='Central African Republic'),\n",
              " Row(Location='Denmark'),\n",
              " Row(Location='Denmark (and dependencies)'),\n",
              " Row(Location='Bangladesh'),\n",
              " Row(Location='Barbados'),\n",
              " Row(Location='Curaçao'),\n",
              " Row(Location='Congo'),\n",
              " Row(Location='African Union'),\n",
              " Row(Location='ESCAP: ADB Group A (Concessional assistance\\xa0only)'),\n",
              " Row(Location='Bhutan'),\n",
              " Row(Location='Democratic Republic of the Congo'),\n",
              " Row(Location='Caribbean'),\n",
              " Row(Location='Belt-Road Initiative: Asia'),\n",
              " Row(Location='African Union: Northern Africa'),\n",
              " Row(Location='Channel Islands'),\n",
              " Row(Location='ESCAP region: South-East Asia'),\n",
              " Row(Location='ESCAP: ASEAN'),\n",
              " Row(Location='Andean Community'),\n",
              " Row(Location='Countries with Access to the Sea: Latin America and the Caribbean'),\n",
              " Row(Location='Cyprus'),\n",
              " Row(Location='ESCAP: ADB Group C (Regular OCR only)'),\n",
              " Row(Location='Aruba'),\n",
              " Row(Location='Commonwealth: Pacific'),\n",
              " Row(Location='African Union: Southern Africa'),\n",
              " Row(Location='Belt-Road Initiative: Pacific'),\n",
              " Row(Location='China, Macao SAR'),\n",
              " Row(Location='Belt-Road Initiative: Europe'),\n",
              " Row(Location='Azerbaijan'),\n",
              " Row(Location='Caribbean Community and Common Market (CARICOM)'),\n",
              " Row(Location='Armenia'),\n",
              " Row(Location='ESCAP region: South and South-West Asia'),\n",
              " Row(Location='Asia-Pacific Economic Cooperation (APEC)'),\n",
              " Row(Location='Commonwealth: Europe'),\n",
              " Row(Location='Australia/New Zealand'),\n",
              " Row(Location='Canada'),\n",
              " Row(Location='ESCAP region: East and North-East Asia'),\n",
              " Row(Location='ESCAP: ADB Group B\\xa0(OCR blend)'),\n",
              " Row(Location='Belize'),\n",
              " Row(Location='Brazil'),\n",
              " Row(Location='China (and dependencies)'),\n",
              " Row(Location='BRIC'),\n",
              " Row(Location='Antigua and Barbuda'),\n",
              " Row(Location='Countries with Access to the Sea: Europe'),\n",
              " Row(Location='Dominican Republic'),\n",
              " Row(Location='Botswana'),\n",
              " Row(Location='China, Taiwan Province of China'),\n",
              " Row(Location='Asia'),\n",
              " Row(Location='Central and Southern Asia'),\n",
              " Row(Location='ESCAP: Central Asia'),\n",
              " Row(Location='Commonwealth: Caribbean and Americas'),\n",
              " Row(Location='Bosnia and Herzegovina'),\n",
              " Row(Location='Belt-Road Initiative: Africa'),\n",
              " Row(Location='ECE: North America-2'),\n",
              " Row(Location='Australia'),\n",
              " Row(Location='Cameroon'),\n",
              " Row(Location='Bulgaria'),\n",
              " Row(Location='Austria'),\n",
              " Row(Location='China, Hong Kong SAR'),\n",
              " Row(Location='Costa Rica'),\n",
              " Row(Location='Burkina Faso'),\n",
              " Row(Location='Bahrain'),\n",
              " Row(Location='Colombia'),\n",
              " Row(Location='Bolivarian Alliance for the Americas (ALBA)'),\n",
              " Row(Location='LLDC: Latin America'),\n",
              " Row(Location='ESCAP: income groups'),\n",
              " Row(Location='ESCAP: high income'),\n",
              " Row(Location='Economic Cooperation Organization (ECO)'),\n",
              " Row(Location='Kiribati'),\n",
              " Row(Location='Europe and Northern America'),\n",
              " Row(Location='Guyana'),\n",
              " Row(Location='Eritrea'),\n",
              " Row(Location='Land-locked Countries'),\n",
              " Row(Location='ESCWA: Arab least developed countries'),\n",
              " Row(Location='ESCWA: Maghreb countries'),\n",
              " Row(Location='Fiji'),\n",
              " Row(Location='ESCAP: low HDI'),\n",
              " Row(Location='Iraq'),\n",
              " Row(Location='Eastern Europe'),\n",
              " Row(Location='Europe'),\n",
              " Row(Location='Germany'),\n",
              " Row(Location='Group of Twenty (G20) - member states'),\n",
              " Row(Location='ESCAP: WB Low income econ.'),\n",
              " Row(Location='High-income countries'),\n",
              " Row(Location='Jordan'),\n",
              " Row(Location='ESCAP: high HDI'),\n",
              " Row(Location='ESCAP: upper middle income'),\n",
              " Row(Location='France'),\n",
              " Row(Location='Group of Eight (G8)'),\n",
              " Row(Location='Greece'),\n",
              " Row(Location='ESCWA: Mashreq countries'),\n",
              " Row(Location='LLDC: Europe'),\n",
              " Row(Location='Latin America and the Caribbean'),\n",
              " Row(Location='Equatorial Guinea'),\n",
              " Row(Location='Ecuador'),\n",
              " Row(Location='Finland'),\n",
              " Row(Location='Group of 77 (G77)'),\n",
              " Row(Location='Ghana'),\n",
              " Row(Location='India'),\n",
              " Row(Location='Kuwait'),\n",
              " Row(Location='ESCAP: low income'),\n",
              " Row(Location='ESCWA: Gulf Cooperation Council countries'),\n",
              " Row(Location='European Union (EU: 15)'),\n",
              " Row(Location='Land-locked Developing Countries (LLDC)'),\n",
              " Row(Location='Group of Seven (G7)'),\n",
              " Row(Location='Economic Community of West African States (ECOWAS)'),\n",
              " Row(Location='Eurasian Economic Community (Eurasec)'),\n",
              " Row(Location='East African Community (EAC)'),\n",
              " Row(Location='Gabon'),\n",
              " Row(Location='Italy'),\n",
              " Row(Location='ESCAP: SAARC'),\n",
              " Row(Location='Land-locked Countries (Others)'),\n",
              " Row(Location='France (and dependencies)'),\n",
              " Row(Location='European Community (EC: 12)'),\n",
              " Row(Location='Guadeloupe'),\n",
              " Row(Location='Europe (48)'),\n",
              " Row(Location='ESCAP: upper middle HDI'),\n",
              " Row(Location='ESCAP: HDI groups'),\n",
              " Row(Location='Economic Community of Central African States (ECCAS)'),\n",
              " Row(Location='Ireland'),\n",
              " Row(Location='ESCAP: Pacific island dev. econ.'),\n",
              " Row(Location='Iceland'),\n",
              " Row(Location='Israel'),\n",
              " Row(Location='Eastern Africa'),\n",
              " Row(Location='European Free Trade Agreement (EFTA)'),\n",
              " Row(Location='ESCWA: member countries'),\n",
              " Row(Location='French Polynesia'),\n",
              " Row(Location='ESCAP: ECO'),\n",
              " Row(Location='Estonia'),\n",
              " Row(Location='Georgia'),\n",
              " Row(Location='Indonesia'),\n",
              " Row(Location='ESCAP: Landlocked countries (LLDCs)'),\n",
              " Row(Location='ESCAP: WB income groups'),\n",
              " Row(Location='Eastern European Group'),\n",
              " Row(Location='Guam'),\n",
              " Row(Location='Guatemala'),\n",
              " Row(Location='Grenada'),\n",
              " Row(Location='ESCAP: WB Lower middle income econ.'),\n",
              " Row(Location='Honduras'),\n",
              " Row(Location='Iran (Islamic Republic of)'),\n",
              " Row(Location='ESCAP: other Asia-Pacific countries/areas'),\n",
              " Row(Location='LLDC: Asia'),\n",
              " Row(Location='French Guiana'),\n",
              " Row(Location='European Union (EU: 28)'),\n",
              " Row(Location='Ethiopia'),\n",
              " Row(Location='Eswatini'),\n",
              " Row(Location='Jamaica'),\n",
              " Row(Location='Latin American Integration Association (ALADI)'),\n",
              " Row(Location='ESCAP: Least Developed Countries (LDCs)'),\n",
              " Row(Location='Guinea'),\n",
              " Row(Location='Kyrgyzstan'),\n",
              " Row(Location='Gambia'),\n",
              " Row(Location='Kenya'),\n",
              " Row(Location='ESCWA: Arab countries'),\n",
              " Row(Location=\"Lao People's Democratic Republic\"),\n",
              " Row(Location='Latin American and Caribbean Group (GRULAC)'),\n",
              " Row(Location='ESCAP: lower middle income'),\n",
              " Row(Location='Japan'),\n",
              " Row(Location='Eastern Asia'),\n",
              " Row(Location='ESCAP: WB Upper middle income econ.'),\n",
              " Row(Location='Greater Arab Free Trade Area (GAFTA)'),\n",
              " Row(Location='Haiti'),\n",
              " Row(Location='Gulf Cooperation Council (GCC)'),\n",
              " Row(Location='Guinea-Bissau'),\n",
              " Row(Location='Egypt'),\n",
              " Row(Location='El Salvador'),\n",
              " Row(Location='Kazakhstan'),\n",
              " Row(Location='LLDC: Africa'),\n",
              " Row(Location='Hungary'),\n",
              " Row(Location='ESCAP: lower middle HDI'),\n",
              " Row(Location='ESCAP: WB High income econ.'),\n",
              " Row(Location='Eastern and South-Eastern Asia')]"
            ]
          },
          "metadata": {},
          "execution_count": 25
        }
      ],
      "source": [
        "# ANSWER\n",
        "df.select('Location').distinct().take(225)"
      ]
    },
    {
      "cell_type": "markdown",
      "metadata": {
        "id": "4yDHFBOxvoAu"
      },
      "source": [
        "Next run the following to confirm that there are no missing values in this dataset:"
      ]
    },
    {
      "cell_type": "code",
      "execution_count": 26,
      "metadata": {
        "id": "ED5mlcDZWQ_y",
        "colab": {
          "base_uri": "https://localhost:8080/"
        },
        "outputId": "5d751f22-9e15-4fd6-f144-03169832eba9"
      },
      "outputs": [
        {
          "output_type": "execute_result",
          "data": {
            "text/plain": [
              "1"
            ]
          },
          "metadata": {},
          "execution_count": 26
        }
      ],
      "source": [
        "df.count() - df.na.drop().count()"
      ]
    },
    {
      "cell_type": "markdown",
      "metadata": {
        "id": "vM0ibqHheNwi"
      },
      "source": [
        "## Convert types"
      ]
    },
    {
      "cell_type": "markdown",
      "metadata": {
        "id": "tp9mGREhvt9b"
      },
      "source": [
        "We saw above that all columns are in the form of strings. The following cell converts some of the columns to type float."
      ]
    },
    {
      "cell_type": "code",
      "execution_count": 38,
      "metadata": {
        "id": "AhMt9KiAAQWm"
      },
      "outputs": [],
      "source": [
        "floatcols = ['MidPeriod', 'PopMale', 'PopFemale', 'PopTotal']\n",
        "\n",
        "for col_name in floatcols:\n",
        "    df = df.withColumn(col_name, trim(col(col_name)).cast('float'))"
      ]
    },
    {
      "cell_type": "markdown",
      "metadata": {
        "id": "K3rr3rErWiLZ"
      },
      "source": [
        "**Exercise**: Similarly convert the four columns listed below into **integers**."
      ]
    },
    {
      "cell_type": "code",
      "execution_count": 28,
      "metadata": {
        "id": "ccgnri3hJgk2"
      },
      "outputs": [],
      "source": [
        "intcols = ['Time', 'AgeGrp', 'AgeGrpStart', 'AgeGrpSpan']\n",
        "\n",
        "#ANSWER\n",
        "for col_name in intcols:\n",
        "    df = df.withColumn(col_name, trim(col(col_name)).cast('int'))"
      ]
    },
    {
      "cell_type": "code",
      "execution_count": 29,
      "metadata": {
        "id": "O6S0JbDWDJM1",
        "colab": {
          "base_uri": "https://localhost:8080/"
        },
        "outputId": "768d013e-52ae-440f-cfcb-46f0341f2196"
      },
      "outputs": [
        {
          "output_type": "stream",
          "name": "stdout",
          "text": [
            "root\n",
            " |-- LocID: string (nullable = true)\n",
            " |-- Location: string (nullable = true)\n",
            " |-- Time: integer (nullable = true)\n",
            " |-- MidPeriod: string (nullable = true)\n",
            " |-- AgeGrp: integer (nullable = true)\n",
            " |-- AgeGrpStart: integer (nullable = true)\n",
            " |-- AgeGrpSpan: integer (nullable = true)\n",
            " |-- PopMale: string (nullable = true)\n",
            " |-- PopFemale: string (nullable = true)\n",
            " |-- PopTotal: string (nullable = true)\n",
            "\n"
          ]
        }
      ],
      "source": [
        "df.printSchema()"
      ]
    },
    {
      "cell_type": "markdown",
      "metadata": {
        "id": "Y_A8nwmrlFQH"
      },
      "source": [
        "## Answering some queries about the data\n",
        "\n",
        "We use filter to select a subset of rows satisfying a True/False condition:"
      ]
    },
    {
      "cell_type": "markdown",
      "metadata": {
        "id": "NPrXmt9ZlPjH"
      },
      "source": [
        "Example: What was the population breakdown by age and gender in Australia in 1970?"
      ]
    },
    {
      "cell_type": "code",
      "execution_count": 30,
      "metadata": {
        "id": "JkwtyIjbeAR2",
        "colab": {
          "base_uri": "https://localhost:8080/"
        },
        "outputId": "cbcf723d-16cb-488a-81c8-c07c4c3f0414"
      },
      "outputs": [
        {
          "output_type": "stream",
          "name": "stdout",
          "text": [
            "+-----+---------+----+---------+------+-----------+----------+-------+---------+--------+\n",
            "|LocID| Location|Time|MidPeriod|AgeGrp|AgeGrpStart|AgeGrpSpan|PopMale|PopFemale|PopTotal|\n",
            "+-----+---------+----+---------+------+-----------+----------+-------+---------+--------+\n",
            "|   36|Australia|1970|   1970.5|     0|          0|         1|126.482|   121.47| 247.952|\n",
            "|   36|Australia|1970|   1970.5|     1|          1|         1|126.326|  120.997| 247.323|\n",
            "|   36|Australia|1970|   1970.5|     2|          2|         1|126.439|  120.829| 247.268|\n",
            "|   36|Australia|1970|   1970.5|     3|          3|         1|126.751|  120.899|  247.65|\n",
            "|   36|Australia|1970|   1970.5|     4|          4|         1|127.193|   121.14| 248.333|\n",
            "|   36|Australia|1970|   1970.5|     5|          5|         1|127.698|  121.488| 249.186|\n",
            "|   36|Australia|1970|   1970.5|     6|          6|         1|128.196|  121.877| 250.073|\n",
            "|   36|Australia|1970|   1970.5|     7|          7|         1|128.619|  122.239| 250.858|\n",
            "|   36|Australia|1970|   1970.5|     8|          8|         1|128.899|  122.509| 251.408|\n",
            "|   36|Australia|1970|   1970.5|     9|          9|         1|128.966|  122.622| 251.588|\n",
            "|   36|Australia|1970|   1970.5|    10|         10|         1|129.052|  122.767| 251.819|\n",
            "|   36|Australia|1970|   1970.5|    11|         11|         1|129.387|  123.136| 252.523|\n",
            "|   36|Australia|1970|   1970.5|    12|         12|         1|128.406|  122.379| 250.785|\n",
            "|   36|Australia|1970|   1970.5|    13|         13|         1|125.443|  119.917|  245.36|\n",
            "|   36|Australia|1970|   1970.5|    14|         14|         1|121.327|  116.454| 237.781|\n",
            "|   36|Australia|1970|   1970.5|    15|         15|         1|117.222|  112.965| 230.187|\n",
            "|   36|Australia|1970|   1970.5|    16|         16|         1|112.497|  108.889| 221.386|\n",
            "|   36|Australia|1970|   1970.5|    17|         17|         1|109.894|  106.646|  216.54|\n",
            "|   36|Australia|1970|   1970.5|    18|         18|         1|110.768|  107.424| 218.192|\n",
            "|   36|Australia|1970|   1970.5|    19|         19|         1|113.664|  109.919| 223.583|\n",
            "|   36|Australia|1970|   1970.5|    20|         20|         1|116.046|  111.945| 227.991|\n",
            "|   36|Australia|1970|   1970.5|    21|         21|         1|118.751|  114.298| 233.049|\n",
            "|   36|Australia|1970|   1970.5|    22|         22|         1|118.977|  114.131| 233.108|\n",
            "|   36|Australia|1970|   1970.5|    23|         23|         1|115.181|   109.92| 225.101|\n",
            "|   36|Australia|1970|   1970.5|    24|         24|         1|108.851|  103.183| 212.034|\n",
            "|   36|Australia|1970|   1970.5|    25|         25|         1|102.991|   96.906| 199.897|\n",
            "|   36|Australia|1970|   1970.5|    26|         26|         1| 96.971|   90.427| 187.398|\n",
            "|   36|Australia|1970|   1970.5|    27|         27|         1| 91.963|   85.208| 177.171|\n",
            "|   36|Australia|1970|   1970.5|    28|         28|         1| 88.842|   82.256| 171.098|\n",
            "|   36|Australia|1970|   1970.5|    29|         29|         1| 86.981|   80.812| 167.793|\n",
            "|   36|Australia|1970|   1970.5|    30|         30|         1|  84.94|   79.156| 164.096|\n",
            "|   36|Australia|1970|   1970.5|    31|         31|         1|  83.08|   77.693| 160.773|\n",
            "|   36|Australia|1970|   1970.5|    32|         32|         1| 81.239|   76.211|  157.45|\n",
            "|   36|Australia|1970|   1970.5|    33|         33|         1| 79.216|   74.454|  153.67|\n",
            "|   36|Australia|1970|   1970.5|    34|         34|         1| 77.248|   72.675| 149.923|\n",
            "|   36|Australia|1970|   1970.5|    35|         35|         1| 75.568|    71.23| 146.798|\n",
            "|   36|Australia|1970|   1970.5|    36|         36|         1| 73.886|   69.864|  143.75|\n",
            "|   36|Australia|1970|   1970.5|    37|         37|         1| 73.504|   69.541| 143.045|\n",
            "|   36|Australia|1970|   1970.5|    38|         38|         1| 75.015|   70.719| 145.734|\n",
            "|   36|Australia|1970|   1970.5|    39|         39|         1| 77.685|   72.837| 150.522|\n",
            "|   36|Australia|1970|   1970.5|    40|         40|         1| 80.182|   74.839| 155.021|\n",
            "|   36|Australia|1970|   1970.5|    41|         41|         1| 82.768|   76.896| 159.664|\n",
            "|   36|Australia|1970|   1970.5|    42|         42|         1|   84.5|   78.458| 162.958|\n",
            "|   36|Australia|1970|   1970.5|    43|         43|         1| 84.772|   79.131| 163.903|\n",
            "|   36|Australia|1970|   1970.5|    44|         44|         1| 83.983|    79.12| 163.103|\n",
            "|   36|Australia|1970|   1970.5|    45|         45|         1| 83.316|   79.179| 162.495|\n",
            "|   36|Australia|1970|   1970.5|    46|         46|         1| 82.748|   79.343| 162.091|\n",
            "|   36|Australia|1970|   1970.5|    47|         47|         1| 81.175|   78.508| 159.683|\n",
            "|   36|Australia|1970|   1970.5|    48|         48|         1| 78.236|   76.259| 154.495|\n",
            "|   36|Australia|1970|   1970.5|    49|         49|         1| 74.466|   73.133| 147.599|\n",
            "|   36|Australia|1970|   1970.5|    50|         50|         1| 70.618|   69.971| 140.589|\n",
            "|   36|Australia|1970|   1970.5|    51|         51|         1| 66.365|   66.476| 132.841|\n",
            "|   36|Australia|1970|   1970.5|    52|         52|         1| 63.326|   63.924|  127.25|\n",
            "|   36|Australia|1970|   1970.5|    53|         53|         1| 62.328|   62.994| 125.322|\n",
            "|   36|Australia|1970|   1970.5|    54|         54|         1| 62.574|   63.055| 125.629|\n",
            "|   36|Australia|1970|   1970.5|    55|         55|         1| 62.511|   62.831| 125.342|\n",
            "|   36|Australia|1970|   1970.5|    56|         56|         1| 62.535|   62.619| 125.154|\n",
            "|   36|Australia|1970|   1970.5|    57|         57|         1| 61.738|   61.869| 123.607|\n",
            "|   36|Australia|1970|   1970.5|    58|         58|         1| 59.542|   60.193| 119.735|\n",
            "|   36|Australia|1970|   1970.5|    59|         59|         1| 56.449|   57.908| 114.357|\n",
            "|   36|Australia|1970|   1970.5|    60|         60|         1| 53.531|   55.761| 109.292|\n",
            "|   36|Australia|1970|   1970.5|    61|         61|         1| 50.563|    53.66| 104.223|\n",
            "|   36|Australia|1970|   1970.5|    62|         62|         1| 47.792|   51.436|  99.228|\n",
            "|   36|Australia|1970|   1970.5|    63|         63|         1| 45.445|   49.098|  94.543|\n",
            "|   36|Australia|1970|   1970.5|    64|         64|         1| 43.355|   46.717|  90.072|\n",
            "|   36|Australia|1970|   1970.5|    65|         65|         1| 41.155|   44.299|  85.454|\n",
            "|   36|Australia|1970|   1970.5|    66|         66|         1| 38.953|   41.777|   80.73|\n",
            "|   36|Australia|1970|   1970.5|    67|         67|         1| 36.628|    39.69|  76.318|\n",
            "|   36|Australia|1970|   1970.5|    68|         68|         1| 34.094|   38.289|  72.383|\n",
            "|   36|Australia|1970|   1970.5|    69|         69|         1| 31.455|   37.315|   68.77|\n",
            "|   36|Australia|1970|   1970.5|    70|         70|         1| 28.897|   36.272|  65.169|\n",
            "|   36|Australia|1970|   1970.5|    71|         71|         1| 26.373|   35.274|  61.647|\n",
            "|   36|Australia|1970|   1970.5|    72|         72|         1|  24.05|   34.036|  58.086|\n",
            "|   36|Australia|1970|   1970.5|    73|         73|         1| 22.023|   32.371|  54.394|\n",
            "|   36|Australia|1970|   1970.5|    74|         74|         1| 20.218|   30.423|  50.641|\n",
            "|   36|Australia|1970|   1970.5|    75|         75|         1| 18.454|   28.547|  47.001|\n",
            "|   36|Australia|1970|   1970.5|    76|         76|         1| 16.759|   26.705|  43.464|\n",
            "|   36|Australia|1970|   1970.5|    77|         77|         1| 15.165|   24.763|  39.928|\n",
            "|   36|Australia|1970|   1970.5|    78|         78|         1| 13.668|     22.7|  36.368|\n",
            "|   36|Australia|1970|   1970.5|    79|         79|         1| 12.258|   20.575|  32.833|\n",
            "|   36|Australia|1970|   1970.5|    80|         80|         1| 10.944|   18.471|  29.415|\n",
            "|   36|Australia|1970|   1970.5|    81|         81|         1|  9.738|   16.379|  26.117|\n",
            "|   36|Australia|1970|   1970.5|    82|         82|         1|  8.539|   14.413|  22.952|\n",
            "|   36|Australia|1970|   1970.5|    83|         83|         1|  7.304|   12.641|  19.945|\n",
            "|   36|Australia|1970|   1970.5|    84|         84|         1|  6.081|   11.026|  17.107|\n",
            "|   36|Australia|1970|   1970.5|    85|         85|         1|  4.955|    9.468|  14.423|\n",
            "|   36|Australia|1970|   1970.5|    86|         86|         1|  3.899|    7.989|  11.888|\n",
            "|   36|Australia|1970|   1970.5|    87|         87|         1|  3.008|    6.637|   9.645|\n",
            "|   36|Australia|1970|   1970.5|    88|         88|         1|  2.335|    5.428|   7.763|\n",
            "|   36|Australia|1970|   1970.5|    89|         89|         1|  1.829|    4.354|   6.183|\n",
            "|   36|Australia|1970|   1970.5|    90|         90|         1|  1.306|    3.227|   4.533|\n",
            "|   36|Australia|1970|   1970.5|    91|         91|         1|  0.938|     2.38|   3.318|\n",
            "|   36|Australia|1970|   1970.5|    92|         92|         1|  0.752|    1.943|   2.695|\n",
            "|   36|Australia|1970|   1970.5|    93|         93|         1|  0.541|    1.432|   1.973|\n",
            "|   36|Australia|1970|   1970.5|    94|         94|         1|  0.307|    0.845|   1.152|\n",
            "|   36|Australia|1970|   1970.5|    95|         95|         1|  0.177|    0.514|   0.691|\n",
            "|   36|Australia|1970|   1970.5|    96|         96|         1|  0.146|    0.427|   0.573|\n",
            "|   36|Australia|1970|   1970.5|    97|         97|         1|  0.112|    0.332|   0.444|\n",
            "|   36|Australia|1970|   1970.5|    98|         98|         1|  0.076|    0.227|   0.303|\n",
            "|   36|Australia|1970|   1970.5|    99|         99|         1|  0.036|    0.112|   0.148|\n",
            "|   36|Australia|1970|   1970.5|   100|        100|        -1|  0.042|    0.142|   0.184|\n",
            "+-----+---------+----+---------+------+-----------+----------+-------+---------+--------+\n",
            "\n"
          ]
        }
      ],
      "source": [
        "df.filter((df.Location == 'Australia') & (df.Time == 1970)).show(101)"
      ]
    },
    {
      "cell_type": "markdown",
      "metadata": {
        "id": "utx53EQwjUSY"
      },
      "source": [
        "The select function can select a subset of columns.\n",
        "\n",
        "**Exercise**: What was the population of 45-year-old females in India in 1960?"
      ]
    },
    {
      "cell_type": "code",
      "execution_count": 35,
      "metadata": {
        "id": "zwxYNG2qjpft",
        "colab": {
          "base_uri": "https://localhost:8080/"
        },
        "outputId": "f746094b-e06c-4078-fec8-5ebee846c34b"
      },
      "outputs": [
        {
          "output_type": "stream",
          "name": "stdout",
          "text": [
            "+-----+--------+----+---------+------+-----------+----------+--------+---------+--------+\n",
            "|LocID|Location|Time|MidPeriod|AgeGrp|AgeGrpStart|AgeGrpSpan| PopMale|PopFemale|PopTotal|\n",
            "+-----+--------+----+---------+------+-----------+----------+--------+---------+--------+\n",
            "|  356|   India|1960|   1960.5|    45|         45|         1|2210.417| 1987.196|4197.613|\n",
            "+-----+--------+----+---------+------+-----------+----------+--------+---------+--------+\n",
            "\n"
          ]
        }
      ],
      "source": [
        "# ANSWER\n",
        "df.filter((df.Location == 'India') & (df.Time == 1960) & (df.AgeGrp== 45)).show(101)"
      ]
    },
    {
      "cell_type": "markdown",
      "metadata": {
        "id": "13IpzCh23AdD"
      },
      "source": [
        "**Exercise**: Write a filter query to show the distinct locations starting with\n",
        "\n",
        "1.   List item\n",
        "\n",
        "1.   List item\n",
        "2.   List item\n",
        "\n",
        "\n",
        "2.   List item\n",
        "\n",
        "'UN'."
      ]
    },
    {
      "cell_type": "code",
      "execution_count": 36,
      "metadata": {
        "id": "dmgSw_z7s_-S",
        "colab": {
          "base_uri": "https://localhost:8080/"
        },
        "outputId": "316f76bd-05dd-4ce0-996e-b5bee7616c7a"
      },
      "outputs": [
        {
          "output_type": "stream",
          "name": "stdout",
          "text": [
            "+-----+--------+----+---------+------+-----------+----------+-------+---------+--------+\n",
            "|LocID|Location|Time|MidPeriod|AgeGrp|AgeGrpStart|AgeGrpSpan|PopMale|PopFemale|PopTotal|\n",
            "+-----+--------+----+---------+------+-----------+----------+-------+---------+--------+\n",
            "+-----+--------+----+---------+------+-----------+----------+-------+---------+--------+\n",
            "\n"
          ]
        }
      ],
      "source": [
        "#ANSWER\n",
        "df.filter(col('Location').startswith('UN')).show()\n"
      ]
    },
    {
      "cell_type": "markdown",
      "metadata": {
        "id": "Ucwk6vQ0qu63"
      },
      "source": [
        "Another example: what is the population of each location in 1950 and 2019?"
      ]
    },
    {
      "cell_type": "code",
      "execution_count": 39,
      "metadata": {
        "id": "C_L9r2lLq1ix",
        "colab": {
          "base_uri": "https://localhost:8080/"
        },
        "outputId": "969fd142-d36a-4ca7-ab7d-b93927d00d27"
      },
      "outputs": [
        {
          "output_type": "stream",
          "name": "stdout",
          "text": [
            "+--------------------+---------------+\n",
            "|            Location|Population_1950|\n",
            "+--------------------+---------------+\n",
            "|Countries with Ac...|    2384540.117|\n",
            "|Group of Twenty (...|    1731945.275|\n",
            "|   Group of 77 (G77)|    1618241.347|\n",
            "|ESCAP: income groups|    1490837.911|\n",
            "|   ESCAP: HDI groups|    1490837.911|\n",
            "|ESCAP: WB income ...|    1490818.181|\n",
            "|                Asia|    1404908.989|\n",
            "|  Asia-Pacific Group|    1397562.214|\n",
            "|Countries with Ac...|     1364302.65|\n",
            "|ESCAP: ADB Develo...|    1223407.377|\n",
            "|Asia-Pacific Econ...|    1136577.758|\n",
            "|               BRICS|    1101146.274|\n",
            "|              Europe|    1098657.721|\n",
            "|                BRIC|    1087517.847|\n",
            "|Belt-Road Initiat...|     934148.834|\n",
            "|Eastern and South...|     842669.337|\n",
            "|       ECE: UNECE-52|     770020.389|\n",
            "|ESCAP: WB Upper m...|     737341.529|\n",
            "|Europe and Northe...|      721931.47|\n",
            "|ESCAP: ADB Group ...|     718170.833|\n",
            "+--------------------+---------------+\n",
            "only showing top 20 rows\n",
            "\n"
          ]
        }
      ],
      "source": [
        "populations_in_1950 = df.filter(df.Time == 1950)\\\n",
        "                    .groupBy('Location')\\\n",
        "                    .sum('PopTotal')\\\n",
        "                    .withColumnRenamed('sum(PopTotal)', 'Population_1950')\\\n",
        "                    .withColumn('Population_1950', round('Population_1950', 3))\\\n",
        "                    .orderBy(col('Population_1950').desc())\n",
        "populations_in_1950.show()"
      ]
    },
    {
      "cell_type": "code",
      "execution_count": 40,
      "metadata": {
        "id": "DT125gNwiBn-"
      },
      "outputs": [],
      "source": [
        "populations_in_2019 = df.filter(df.Time == 2019)\\\n",
        "                    .groupBy('Location')\\\n",
        "                    .sum('PopTotal')\\\n",
        "                    .withColumnRenamed('sum(PopTotal)', 'Population_2019')\\\n",
        "                    .withColumn('Population_2019', round('Population_2019', 3))\\\n",
        "                    .orderBy(col('Population_2019').desc())\n"
      ]
    },
    {
      "cell_type": "code",
      "execution_count": 41,
      "metadata": {
        "id": "TGQ3PPvDiWu3",
        "colab": {
          "base_uri": "https://localhost:8080/"
        },
        "outputId": "e330b3f3-bff5-4bed-e80b-32499233da54"
      },
      "outputs": [
        {
          "output_type": "stream",
          "name": "stdout",
          "text": [
            "+--------------------+---------------+---------------+\n",
            "|            Location|Population_1950|Population_2019|\n",
            "+--------------------+---------------+---------------+\n",
            "|         Afghanistan|       7752.117|      38041.757|\n",
            "|              Africa|     227794.137|    1308064.174|\n",
            "|       African Group|     227511.873|    1306320.571|\n",
            "|       African Union|     227525.637|    1306903.022|\n",
            "|African Union: Ce...|      24214.661|     154013.705|\n",
            "|African Union: Ea...|      55336.034|     382531.218|\n",
            "|African Union: No...|      43705.252|     203493.227|\n",
            "|African Union: So...|      34051.198|     179956.492|\n",
            "|African Union: We...|       70218.49|     386908.388|\n",
            "|African, Caribbea...|     199979.667|    1150190.577|\n",
            "|             Albania|       1263.164|       2880.913|\n",
            "|             Algeria|        8872.25|      43053.054|\n",
            "|    Andean Community|      26311.024|     111736.664|\n",
            "|              Angola|       4548.021|      31825.299|\n",
            "| Antigua and Barbuda|         45.515|         97.115|\n",
            "|           Argentina|       17037.91|      44780.675|\n",
            "|             Armenia|       1353.502|       2957.728|\n",
            "|               Aruba|         38.052|         106.31|\n",
            "|                Asia|    1404908.989|    4601371.264|\n",
            "|Asia-Pacific Econ...|    1136577.758|    2956245.284|\n",
            "+--------------------+---------------+---------------+\n",
            "only showing top 20 rows\n",
            "\n"
          ]
        }
      ],
      "source": [
        "populations_in_1950.join(populations_in_2019, 'Location').orderBy('Location').show()"
      ]
    },
    {
      "cell_type": "markdown",
      "metadata": {
        "id": "XUmwRcHuXxVo"
      },
      "source": [
        "**Exercise**: Which locations had the largest percentage change in population from 1950 to 2019?"
      ]
    },
    {
      "cell_type": "code",
      "execution_count": null,
      "metadata": {
        "id": "gZWfatPCl4vu"
      },
      "outputs": [],
      "source": [
        "# ANSWER\n",
        "pop_percentage = populations_in_1950`\n"
      ]
    },
    {
      "cell_type": "code",
      "source": [],
      "metadata": {
        "id": "EwZmI07H2TZd"
      },
      "execution_count": null,
      "outputs": []
    },
    {
      "cell_type": "markdown",
      "metadata": {
        "id": "Amz7aJ8TpWju"
      },
      "source": [
        "**Bonus Exercise**: In 2019 which locations have the highest percentage of seniors (age 80+) relative to their total population?\n",
        "\n",
        "(Hint: if you find Japan, Greece and Italy amongst them you are right!)"
      ]
    },
    {
      "cell_type": "code",
      "execution_count": null,
      "metadata": {
        "id": "j9aqlueYo2x1"
      },
      "outputs": [],
      "source": [
        "# ANSWER\n"
      ]
    },
    {
      "cell_type": "markdown",
      "metadata": {
        "id": "JF2elDeHXRpY"
      },
      "source": [
        "## Population line plot\n",
        "\n",
        "In this section, we use a query to perform a data visualisation with matplotlib. We shall plot population vs year for three countries."
      ]
    },
    {
      "cell_type": "code",
      "execution_count": null,
      "metadata": {
        "id": "on49bDYynXuS"
      },
      "outputs": [],
      "source": [
        "df_3countries = df[df.Location.isin(\"Australia\", \"New Zealand\", \"Singapore\")]\\\n",
        "                  .select('Location', 'MidPeriod', 'PopTotal') \\\n",
        "                  .groupBy('Location', 'MidPeriod')\\\n",
        "                  .sum('PopTotal')\\\n",
        "                  .withColumnRenamed('sum(PopTotal)', 'Population')\\\n",
        "                  .withColumn('Population', round('Population', 3))\n",
        "df_3countries.show()"
      ]
    },
    {
      "cell_type": "code",
      "execution_count": null,
      "metadata": {
        "id": "94YAOx4DggYX"
      },
      "outputs": [],
      "source": [
        "dataforplotting = df_3countries.toPandas()"
      ]
    },
    {
      "cell_type": "markdown",
      "metadata": {
        "id": "HizTgSBkYP80"
      },
      "source": [
        "Now that this dataset is of a manageable size, we convert it to a Pandas dataframe for plotting."
      ]
    },
    {
      "cell_type": "code",
      "execution_count": null,
      "metadata": {
        "id": "MTcUn1rWZw3H"
      },
      "outputs": [],
      "source": [
        "dataforplotting.info()"
      ]
    },
    {
      "cell_type": "code",
      "execution_count": null,
      "metadata": {
        "id": "QkkQaikca5ic"
      },
      "outputs": [],
      "source": [
        "dataforplotting.pivot_table(index=['MidPeriod'], columns='Location', values='Population')"
      ]
    },
    {
      "cell_type": "code",
      "execution_count": null,
      "metadata": {
        "id": "4Su9Q_zRYafh"
      },
      "outputs": [],
      "source": [
        "ax = dataforplotting.pivot_table(index=['MidPeriod'], columns='Location', values='Population').plot()\n",
        "ax.set_xlabel('Year');\n",
        "ax.set_ylabel('Population in thousands');"
      ]
    },
    {
      "cell_type": "markdown",
      "metadata": {
        "id": "lk7vpgzhoyyu"
      },
      "source": [
        "**Bonus Exercise**: Plot the world population of children (age 0-17) along with those of the age groups 18-39 and 40+ from 1950 to 2019. You should display three lines (one for the population of each age group vs year) on the same plot. Note that 'World' is one of the locations.\n",
        "\n",
        "Hint: one approach is to create a new column 'AgeCategory' based on AgeGrpStart using the 'when' function."
      ]
    },
    {
      "cell_type": "code",
      "execution_count": null,
      "metadata": {
        "id": "3seZfEDKztf1"
      },
      "outputs": [],
      "source": [
        "# ANSWER\n"
      ]
    },
    {
      "cell_type": "code",
      "execution_count": null,
      "metadata": {
        "id": "r4TBvqSxNB0X"
      },
      "outputs": [],
      "source": [
        "agegrp_df = world_data.toPandas()"
      ]
    },
    {
      "cell_type": "code",
      "execution_count": null,
      "metadata": {
        "id": "zvn4652v0LBB"
      },
      "outputs": [],
      "source": [
        "ax = agegrp_df.pivot_table(index=['MidPeriod'], columns='AgeCategory', values='Population').plot()\n",
        "ax.set_xlabel('Year');\n",
        "ax.set_ylabel('Population in thousands');"
      ]
    },
    {
      "cell_type": "markdown",
      "metadata": {
        "id": "CjanSfzLshCY"
      },
      "source": [
        "## Population Pyramid\n",
        "\n",
        "In this section we show how a population pyramid may be created. We look at China in the year 1980."
      ]
    },
    {
      "cell_type": "code",
      "execution_count": null,
      "metadata": {
        "id": "y-kPKZoSpvu1"
      },
      "outputs": [],
      "source": [
        "china_1980 = df.filter((df.Location == 'China (and dependencies)') & (df.Time == 1980)).toPandas()"
      ]
    },
    {
      "cell_type": "code",
      "execution_count": null,
      "metadata": {
        "id": "7QO-QPj5-BFa"
      },
      "outputs": [],
      "source": [
        "china_1980"
      ]
    },
    {
      "cell_type": "code",
      "execution_count": null,
      "metadata": {
        "id": "nDnOzJv590KU"
      },
      "outputs": [],
      "source": [
        "china_1980.describe()"
      ]
    },
    {
      "cell_type": "markdown",
      "metadata": {
        "id": "sxwmLmbpT-MU"
      },
      "source": [
        "Create age brackets in multiples of 5 - such as 0-4, 5-9, ..."
      ]
    },
    {
      "cell_type": "code",
      "execution_count": null,
      "metadata": {
        "id": "EDNkxHWPtIBv"
      },
      "outputs": [],
      "source": [
        "lower = china_1980['AgeGrpStart'] - (china_1980['AgeGrpStart'] % 5)"
      ]
    },
    {
      "cell_type": "code",
      "execution_count": null,
      "metadata": {
        "id": "qDdobQzVvS6O"
      },
      "outputs": [],
      "source": [
        "agebrackets = [f'{x:02d}-{(x+4):02d}' for x in lower.values]\n",
        "agebrackets[-1] = '100+'"
      ]
    },
    {
      "cell_type": "code",
      "execution_count": null,
      "metadata": {
        "id": "aXkHlTwrUJgp"
      },
      "outputs": [],
      "source": [
        "agebrackets[:10]"
      ]
    },
    {
      "cell_type": "code",
      "execution_count": null,
      "metadata": {
        "id": "zLRoES0Lv-DV"
      },
      "outputs": [],
      "source": [
        "china_1980['AgeRange'] = agebrackets"
      ]
    },
    {
      "cell_type": "markdown",
      "metadata": {
        "id": "wFh9qf_QUYmA"
      },
      "source": [
        "Next find the populations by age range."
      ]
    },
    {
      "cell_type": "code",
      "execution_count": null,
      "metadata": {
        "id": "HzwkqTnfvIbA"
      },
      "outputs": [],
      "source": [
        "agg_china_1980 = (china_1980.groupby(['AgeRange']).sum()[['PopMale', 'PopFemale']]/1000).reset_index()"
      ]
    },
    {
      "cell_type": "code",
      "execution_count": null,
      "metadata": {
        "id": "LZ56Ouu0xshz"
      },
      "outputs": [],
      "source": [
        "rev_age = list(dict.fromkeys(agebrackets[::-1])) #reversed list of ages"
      ]
    },
    {
      "cell_type": "code",
      "execution_count": null,
      "metadata": {
        "id": "Rr81_Qa03L49"
      },
      "outputs": [],
      "source": [
        "agg_china_1980['NegPopMale'] = -agg_china_1980['PopMale']"
      ]
    },
    {
      "cell_type": "markdown",
      "metadata": {
        "id": "BO-L2tVTUzMv"
      },
      "source": [
        "We are now ready to plot the population pyramid:"
      ]
    },
    {
      "cell_type": "code",
      "execution_count": null,
      "metadata": {
        "id": "PH5G2AS2GM5P"
      },
      "outputs": [],
      "source": [
        "sns.set(rc={'figure.figsize':(12,8)})\n",
        "bar_plot = sns.barplot(x='NegPopMale', y='AgeRange', data=agg_china_1980, order = rev_age, color='red')\n",
        "bar_plot = sns.barplot(x='PopFemale', y='AgeRange', data=agg_china_1980, order = rev_age, color='green')\n",
        "\n",
        "labels = [\"80\", \"60\", \"40\", \"20\", \"0\", \"20\", \"40\", \"60\", \"80\"]\n",
        "bar_plot.set_xticklabels(labels)\n",
        "\n",
        "h = [bar_plot.bar(x=.1, height=.1, color = c) for c in ['red', 'green']] #used to set colour of bar in legend\n",
        "bar_plot.legend(handles = h, labels=['Male', 'Female'], fontsize=20)\n",
        "\n",
        "bar_plot.axes.set_title(\"Population Pyramid for China (1980)\", fontsize=20);\n",
        "bar_plot.set_xlabel(\"Population (millions)\", fontsize=20);\n",
        "bar_plot.set_ylabel(\"Age Group\", fontsize=20);\n",
        "bar_plot.set_xticklabels(bar_plot.get_xticklabels(), size = 15);\n",
        "bar_plot.set_yticklabels(bar_plot.get_yticklabels(), size = 15);"
      ]
    },
    {
      "cell_type": "markdown",
      "metadata": {
        "id": "pco3DxAAAo_b"
      },
      "source": [
        "## Prediction\n",
        "Finally we use Spark's MLlib library in a linear regression problem. We shall predict the proportion of population to be of a particular age, given year.\n",
        "\n",
        "Inputs:\n",
        "- year\n",
        "- age\n",
        "\n",
        "Target variable:\n",
        "- proportion of a country's population to be of that age, in that year\n"
      ]
    },
    {
      "cell_type": "code",
      "execution_count": null,
      "metadata": {
        "id": "3mB-EMYcA98W"
      },
      "outputs": [],
      "source": [
        "pop_by_loc_and_year = df.groupBy('Location', 'Time')\\\n",
        "                        .sum('PopTotal')\\\n",
        "                        .withColumnRenamed('sum(PopTotal)', 'Location_year_pop')"
      ]
    },
    {
      "cell_type": "code",
      "execution_count": null,
      "metadata": {
        "id": "SxNyiVNEPxsu"
      },
      "outputs": [],
      "source": [
        "pop_by_loc_and_year.show()"
      ]
    },
    {
      "cell_type": "code",
      "execution_count": null,
      "metadata": {
        "id": "B_77KVAtFLeL"
      },
      "outputs": [],
      "source": [
        "trainingset = df.join(pop_by_loc_and_year, ['Location', 'Time'])\\\n",
        "  .withColumn('Proportion',\n",
        "              df.PopTotal/pop_by_loc_and_year.Location_year_pop)\\\n",
        "  .select('Time', 'AgeGrpStart', 'Proportion')"
      ]
    },
    {
      "cell_type": "markdown",
      "metadata": {
        "id": "UHP4f5U0VtVX"
      },
      "source": [
        "**Exercise**: Use the stat.corr function to find the correlation between AgeGrpStart and Proportion."
      ]
    },
    {
      "cell_type": "code",
      "execution_count": null,
      "metadata": {
        "id": "rIB8svOhRJo7"
      },
      "outputs": [],
      "source": [
        "# ANSWER\n"
      ]
    },
    {
      "cell_type": "markdown",
      "metadata": {
        "id": "FGzfs8RvRvta"
      },
      "source": [
        "Next we create a simple linear regression model predict Ratio from Time and AgeGrpStart."
      ]
    },
    {
      "cell_type": "code",
      "execution_count": null,
      "metadata": {
        "id": "wLtarw5JRuSX"
      },
      "outputs": [],
      "source": [
        "from pyspark.ml.regression import LinearRegression"
      ]
    },
    {
      "cell_type": "markdown",
      "metadata": {
        "id": "S23U0wGtS4jg"
      },
      "source": [
        "MLlib takes input in vector form. Hence we need to create vectors from features."
      ]
    },
    {
      "cell_type": "code",
      "execution_count": null,
      "metadata": {
        "id": "IJH5U9jXSFvO"
      },
      "outputs": [],
      "source": [
        "from pyspark.ml.feature import VectorAssembler\n",
        "featureassembler=VectorAssembler(inputCols=['Time', 'AgeGrpStart'],\n",
        "                                 outputCol='Features')"
      ]
    },
    {
      "cell_type": "code",
      "execution_count": null,
      "metadata": {
        "id": "LVFE_bD2TjQD"
      },
      "outputs": [],
      "source": [
        "final_data_for_regression = featureassembler.transform(trainingset).select('Features', 'Proportion')\n",
        "final_data_for_regression.show()"
      ]
    },
    {
      "cell_type": "code",
      "execution_count": null,
      "metadata": {
        "id": "JdJMPuEaUsU7"
      },
      "outputs": [],
      "source": [
        "train, test = final_data_for_regression.randomSplit([0.9,0.1])"
      ]
    },
    {
      "cell_type": "code",
      "execution_count": null,
      "metadata": {
        "id": "j0g2C3q7WJcn"
      },
      "outputs": [],
      "source": [
        "train"
      ]
    },
    {
      "cell_type": "markdown",
      "metadata": {
        "id": "MDQKO1uSWbRk"
      },
      "source": [
        "Next we cache these dataframes into memory:"
      ]
    },
    {
      "cell_type": "code",
      "execution_count": null,
      "metadata": {
        "id": "RMlSH4bSawox"
      },
      "outputs": [],
      "source": [
        "train = train.cache()"
      ]
    },
    {
      "cell_type": "code",
      "execution_count": null,
      "metadata": {
        "id": "DQA6_pKbcRil"
      },
      "outputs": [],
      "source": [
        "test = test.cache()"
      ]
    },
    {
      "cell_type": "markdown",
      "metadata": {
        "id": "5tCkn1JRWkp_"
      },
      "source": [
        "We are ready to train the model. This may take a minute or so due to the size of training set."
      ]
    },
    {
      "cell_type": "code",
      "execution_count": null,
      "metadata": {
        "id": "HENx9aRyT6ye"
      },
      "outputs": [],
      "source": [
        "regressor = LinearRegression(featuresCol='Features', labelCol='Proportion')\n",
        "regressor = regressor.fit(train)"
      ]
    },
    {
      "cell_type": "code",
      "execution_count": null,
      "metadata": {
        "id": "cB1xBOeBUtq0"
      },
      "outputs": [],
      "source": [
        "regressor.coefficients"
      ]
    },
    {
      "cell_type": "code",
      "execution_count": null,
      "metadata": {
        "id": "cuq7d9GRUzjN"
      },
      "outputs": [],
      "source": [
        "regressor.intercept"
      ]
    },
    {
      "cell_type": "code",
      "execution_count": null,
      "metadata": {
        "id": "r1hn6SdxU0rR"
      },
      "outputs": [],
      "source": [
        "predicted_results = regressor.evaluate(test)"
      ]
    },
    {
      "cell_type": "markdown",
      "metadata": {
        "id": "LOoUldddbOCu"
      },
      "source": [
        "Here we can compare some predicted proportions with actual proportions:"
      ]
    },
    {
      "cell_type": "code",
      "execution_count": null,
      "metadata": {
        "id": "B5oY-pWtVI0t"
      },
      "outputs": [],
      "source": [
        "predicted_results.predictions.show()"
      ]
    },
    {
      "cell_type": "markdown",
      "metadata": {
        "id": "qnFtxazpW65a"
      },
      "source": [
        "**Exercise**: Find R-squared and the mean squared error using the 'r2' and 'meanSquaredError' attributes."
      ]
    },
    {
      "cell_type": "code",
      "execution_count": null,
      "metadata": {
        "id": "CiExfxhOcwmx"
      },
      "outputs": [],
      "source": [
        "# ANSWER\n"
      ]
    },
    {
      "cell_type": "markdown",
      "metadata": {
        "id": "WLEy2Q5R0sUP"
      },
      "source": [
        "## Conclusion\n",
        "\n",
        "We have seen how to use Pyspark to make queries on a large dataset, save smaller datasets into Pandas dataframe for plotting and how to use MLlib for machine learning on a large dataset."
      ]
    },
    {
      "cell_type": "markdown",
      "metadata": {
        "id": "-Rws5UYfXrSZ"
      },
      "source": [
        "\n",
        "\n",
        "---\n",
        "\n",
        "\n",
        "\n",
        "---\n",
        "\n",
        "\n",
        "\n",
        "> > > > > > > > > © 2024 Institute of Data\n",
        "\n",
        "\n",
        "---\n",
        "\n",
        "\n",
        "\n",
        "---\n",
        "\n",
        "\n",
        "\n"
      ]
    }
  ],
  "metadata": {
    "colab": {
      "provenance": [],
      "include_colab_link": true
    },
    "kernelspec": {
      "display_name": "Python 3",
      "language": "python",
      "name": "python3"
    },
    "language_info": {
      "name": "python"
    }
  },
  "nbformat": 4,
  "nbformat_minor": 0
}