{
 "cells": [
  {
   "cell_type": "code",
   "execution_count": 4,
   "metadata": {
    "colab": {
     "base_uri": "https://localhost:8080/"
    },
    "id": "8SYnsy_X0ZGB",
    "outputId": "22644238-b3aa-46e7-a4be-169819355461"
   },
   "outputs": [
    {
     "name": "stdout",
     "output_type": "stream",
     "text": [
      "Orders dataset size: (3421083, 7)\n",
      "Products dataset size: (49688, 4)\n",
      "Order Products dataset size: (32434489, 4)\n"
     ]
    }
   ],
   "source": [
    "import pandas as pd\n",
    "\n",
    "# Load datasets (adjust the path as needed)\n",
    "orders = pd.read_csv('orders.csv')\n",
    "products = pd.read_csv('products.csv')\n",
    "order_products_prior = pd.read_csv('order_products__prior.csv')\n",
    "\n",
    "# Display initial dataset sizes\n",
    "print(f'Orders dataset size: {orders.shape}')\n",
    "print(f'Products dataset size: {products.shape}')\n",
    "print(f'Order Products dataset size: {order_products_prior.shape}')\n"
   ]
  },
  {
   "cell_type": "code",
   "execution_count": 5,
   "metadata": {
    "id": "7GPZB-LH13TT"
   },
   "outputs": [],
   "source": [
    "# Sample 10% of the data\n",
    "sample_orders = orders.sample(frac=0.1, random_state=42)\n",
    "\n"
   ]
  },
  {
   "cell_type": "code",
   "execution_count": 6,
   "metadata": {
    "colab": {
     "base_uri": "https://localhost:8080/",
     "height": 1000
    },
    "id": "wek2Tuya3EzR",
    "outputId": "a4353007-513b-4358-e88e-17183fb02a01"
   },
   "outputs": [
    {
     "name": "stdout",
     "output_type": "stream",
     "text": [
      "<class 'pandas.core.frame.DataFrame'>\n",
      "RangeIndex: 3421083 entries, 0 to 3421082\n",
      "Data columns (total 7 columns):\n",
      " #   Column                  Dtype  \n",
      "---  ------                  -----  \n",
      " 0   order_id                int64  \n",
      " 1   user_id                 int64  \n",
      " 2   eval_set                object \n",
      " 3   order_number            int64  \n",
      " 4   order_dow               int64  \n",
      " 5   order_hour_of_day       int64  \n",
      " 6   days_since_prior_order  float64\n",
      "dtypes: float64(1), int64(5), object(1)\n",
      "memory usage: 182.7+ MB\n",
      "None\n",
      "           order_id       user_id  order_number     order_dow  \\\n",
      "count  3.421083e+06  3.421083e+06  3.421083e+06  3.421083e+06   \n",
      "mean   1.710542e+06  1.029782e+05  1.715486e+01  2.776219e+00   \n",
      "std    9.875817e+05  5.953372e+04  1.773316e+01  2.046829e+00   \n",
      "min    1.000000e+00  1.000000e+00  1.000000e+00  0.000000e+00   \n",
      "25%    8.552715e+05  5.139400e+04  5.000000e+00  1.000000e+00   \n",
      "50%    1.710542e+06  1.026890e+05  1.100000e+01  3.000000e+00   \n",
      "75%    2.565812e+06  1.543850e+05  2.300000e+01  5.000000e+00   \n",
      "max    3.421083e+06  2.062090e+05  1.000000e+02  6.000000e+00   \n",
      "\n",
      "       order_hour_of_day  days_since_prior_order  \n",
      "count       3.421083e+06            3.214874e+06  \n",
      "mean        1.345202e+01            1.111484e+01  \n",
      "std         4.226088e+00            9.206737e+00  \n",
      "min         0.000000e+00            0.000000e+00  \n",
      "25%         1.000000e+01            4.000000e+00  \n",
      "50%         1.300000e+01            7.000000e+00  \n",
      "75%         1.600000e+01            1.500000e+01  \n",
      "max         2.300000e+01            3.000000e+01  \n",
      "<class 'pandas.core.frame.DataFrame'>\n",
      "RangeIndex: 49688 entries, 0 to 49687\n",
      "Data columns (total 4 columns):\n",
      " #   Column         Non-Null Count  Dtype \n",
      "---  ------         --------------  ----- \n",
      " 0   product_id     49688 non-null  int64 \n",
      " 1   product_name   49688 non-null  object\n",
      " 2   aisle_id       49688 non-null  int64 \n",
      " 3   department_id  49688 non-null  int64 \n",
      "dtypes: int64(3), object(1)\n",
      "memory usage: 1.5+ MB\n",
      "None\n",
      "         product_id      aisle_id  department_id\n",
      "count  49688.000000  49688.000000   49688.000000\n",
      "mean   24844.500000     67.769582      11.728687\n",
      "std    14343.834425     38.316162       5.850410\n",
      "min        1.000000      1.000000       1.000000\n",
      "25%    12422.750000     35.000000       7.000000\n",
      "50%    24844.500000     69.000000      13.000000\n",
      "75%    37266.250000    100.000000      17.000000\n",
      "max    49688.000000    134.000000      21.000000\n"
     ]
    },
    {
     "ename": "NameError",
     "evalue": "name 'order_products__prior' is not defined",
     "output_type": "error",
     "traceback": [
      "\u001b[0;31m---------------------------------------------------------------------------\u001b[0m",
      "\u001b[0;31mNameError\u001b[0m                                 Traceback (most recent call last)",
      "\u001b[0;32m<ipython-input-6-67b99072fcdf>\u001b[0m in \u001b[0;36m<cell line: 10>\u001b[0;34m()\u001b[0m\n\u001b[1;32m      8\u001b[0m \u001b[0;34m\u001b[0m\u001b[0m\n\u001b[1;32m      9\u001b[0m \u001b[0;31m# Overview of order_products data\u001b[0m\u001b[0;34m\u001b[0m\u001b[0;34m\u001b[0m\u001b[0m\n\u001b[0;32m---> 10\u001b[0;31m \u001b[0mprint\u001b[0m\u001b[0;34m(\u001b[0m\u001b[0morder_products__prior\u001b[0m\u001b[0;34m.\u001b[0m\u001b[0minfo\u001b[0m\u001b[0;34m(\u001b[0m\u001b[0;34m)\u001b[0m\u001b[0;34m)\u001b[0m\u001b[0;34m\u001b[0m\u001b[0;34m\u001b[0m\u001b[0m\n\u001b[0m\u001b[1;32m     11\u001b[0m \u001b[0mprint\u001b[0m\u001b[0;34m(\u001b[0m\u001b[0morder_products__prior\u001b[0m\u001b[0;34m.\u001b[0m\u001b[0mdescribe\u001b[0m\u001b[0;34m(\u001b[0m\u001b[0;34m)\u001b[0m\u001b[0;34m)\u001b[0m\u001b[0;34m\u001b[0m\u001b[0;34m\u001b[0m\u001b[0m\n",
      "\u001b[0;31mNameError\u001b[0m: name 'order_products__prior' is not defined"
     ]
    }
   ],
   "source": [
    "# Overview of orders data\n",
    "print(orders.info())\n",
    "print(orders.describe())\n",
    "\n",
    "# Overview of products data\n",
    "print(products.info())\n",
    "print(products.describe())\n",
    "\n",
    "# Overview of order_products data\n",
    "print(order_products__prior.info())\n",
    "print(order_products__prior.describe())\n"
   ]
  },
  {
   "cell_type": "code",
   "execution_count": 7,
   "metadata": {
    "colab": {
     "base_uri": "https://localhost:8080/"
    },
    "id": "ydO1Ufbh4FiF",
    "outputId": "54ee5629-2486-471b-cf49-16beb8425a26"
   },
   "outputs": [
    {
     "name": "stdout",
     "output_type": "stream",
     "text": [
      "Orders Data Sample:\n",
      "   order_id  user_id eval_set  order_number  order_dow  order_hour_of_day  \\\n",
      "0   2539329        1    prior             1          2                  8   \n",
      "1   2398795        1    prior             2          3                  7   \n",
      "2    473747        1    prior             3          3                 12   \n",
      "3   2254736        1    prior             4          4                  7   \n",
      "4    431534        1    prior             5          4                 15   \n",
      "\n",
      "   days_since_prior_order  \n",
      "0                     NaN  \n",
      "1                    15.0  \n",
      "2                    21.0  \n",
      "3                    29.0  \n",
      "4                    28.0  \n"
     ]
    }
   ],
   "source": [
    "# Sample data from the orders dataset\n",
    "print(\"Orders Data Sample:\")\n",
    "print(orders.head())"
   ]
  },
  {
   "cell_type": "code",
   "execution_count": 8,
   "metadata": {
    "colab": {
     "base_uri": "https://localhost:8080/"
    },
    "id": "hHHVQfJz4FdN",
    "outputId": "db04189d-ce1e-4f1a-a6cf-7bbba21d4b62"
   },
   "outputs": [
    {
     "name": "stdout",
     "output_type": "stream",
     "text": [
      "\n",
      "Order Products Prior Data Sample:\n",
      "   order_id  product_id  add_to_cart_order  reordered\n",
      "0         2       33120                  1          1\n",
      "1         2       28985                  2          1\n",
      "2         2        9327                  3          0\n",
      "3         2       45918                  4          1\n",
      "4         2       30035                  5          0\n"
     ]
    }
   ],
   "source": [
    "# Sample data from the order_products_prior dataset\n",
    "print(\"\\nOrder Products Prior Data Sample:\")\n",
    "print(order_products_prior.head())"
   ]
  },
  {
   "cell_type": "code",
   "execution_count": 9,
   "metadata": {
    "colab": {
     "base_uri": "https://localhost:8080/"
    },
    "id": "9zk3ck044FWb",
    "outputId": "88ae64a3-8c1c-4eb1-ee07-4bfb295e047f"
   },
   "outputs": [
    {
     "name": "stdout",
     "output_type": "stream",
     "text": [
      "\n",
      "Products Data Sample:\n",
      "   product_id                                       product_name  aisle_id  \\\n",
      "0           1                         Chocolate Sandwich Cookies        61   \n",
      "1           2                                   All-Seasons Salt       104   \n",
      "2           3               Robust Golden Unsweetened Oolong Tea        94   \n",
      "3           4  Smart Ones Classic Favorites Mini Rigatoni Wit...        38   \n",
      "4           5                          Green Chile Anytime Sauce         5   \n",
      "\n",
      "   department_id  \n",
      "0             19  \n",
      "1             13  \n",
      "2              7  \n",
      "3              1  \n",
      "4             13  \n"
     ]
    }
   ],
   "source": [
    "# Sample data from the products dataset\n",
    "print(\"\\nProducts Data Sample:\")\n",
    "print(products.head())"
   ]
  },
  {
   "cell_type": "code",
   "execution_count": 10,
   "metadata": {
    "id": "bfg3ui-m4Uoc"
   },
   "outputs": [],
   "source": [
    "# Example of converting data types for the orders dataset\n",
    "orders['user_id'] = orders['user_id'].astype('int32')\n",
    "orders['order_id'] = orders['order_id'].astype('int32')\n",
    "orders['order_number'] = orders['order_number'].astype('int32')\n",
    "orders['order_dow'] = orders['order_dow'].astype('int8')  # Days of the week (0-6)\n",
    "orders['order_hou'] = orders['order_hour_of_day'].astype('int8')  # Hours of the day (0-23)\n",
    "\n",
    "# For order_products dataset\n",
    "order_products_prior['order_id'] = order_products_prior['order_id'].astype('int32')\n",
    "order_products_prior['product_id'] = order_products_prior['product_id'].astype('int32')\n"
   ]
  },
  {
   "cell_type": "code",
   "execution_count": 11,
   "metadata": {
    "id": "cTjezOxG4eTr"
   },
   "outputs": [],
   "source": [
    "# Take a 10% random sample of orders\n",
    "sampled_orders = orders.sample(frac=0.1, random_state=42)\n",
    "\n",
    "# Create a filtered order products dataset based on sampled orders\n",
    "sampled_order_products = order_products_prior[order_products_prior['order_id'].isin(sampled_orders['order_id'])]\n"
   ]
  },
  {
   "cell_type": "code",
   "execution_count": 12,
   "metadata": {
    "id": "yMhZwEce4Uld"
   },
   "outputs": [],
   "source": [
    "# Keep only necessary columns for orders and products\n",
    "sampled_orders = sampled_orders[['order_id', 'user_id', 'order_number', 'order_dow', 'order_hou']]\n",
    "sampled_order_products = sampled_order_products[['order_id', 'product_id']]\n"
   ]
  },
  {
   "cell_type": "code",
   "execution_count": 13,
   "metadata": {
    "colab": {
     "base_uri": "https://localhost:8080/"
    },
    "id": "LcJ6QMMW4Ui_",
    "outputId": "c2817b6e-821f-4141-f94d-aad3b0ad9f5a"
   },
   "outputs": [
    {
     "name": "stdout",
     "output_type": "stream",
     "text": [
      "Memory usage after reduction:\n",
      "Sampled Orders DataFrame: 7.18 MB\n",
      "Sampled Order Products DataFrame: 49.65 MB\n"
     ]
    }
   ],
   "source": [
    "print(f'Memory usage after reduction:')\n",
    "print(f'Sampled Orders DataFrame: {sampled_orders.memory_usage(deep=True).sum() / (1024 ** 2):.2f} MB')\n",
    "print(f'Sampled Order Products DataFrame: {sampled_order_products.memory_usage(deep=True).sum() / (1024 ** 2):.2f} MB')\n"
   ]
  },
  {
   "cell_type": "code",
   "execution_count": null,
   "metadata": {
    "id": "ZSH5HGbW4Ufx"
   },
   "outputs": [],
   "source": [
    "user_order_counts = sampled_orders['user_id'].value_counts()\n",
    "plt.figure(figsize=(10, 5))\n",
    "sns.histplot(user_order_counts, bins=30)\n",
    "plt.title('Distribution of Orders by User (Sampled Data)')\n",
    "plt.xlabel('Number of Orders')\n",
    "plt.ylabel('Number of Users')\n",
    "plt.show()\n"
   ]
  },
  {
   "cell_type": "code",
   "execution_count": 14,
   "metadata": {
    "colab": {
     "base_uri": "https://localhost:8080/",
     "height": 210
    },
    "id": "dzHtLtJ24UcQ",
    "outputId": "db1ad390-89d2-4719-c096-12285b088de7"
   },
   "outputs": [
    {
     "ename": "NameError",
     "evalue": "name 'plt' is not defined",
     "output_type": "error",
     "traceback": [
      "\u001b[0;31m---------------------------------------------------------------------------\u001b[0m",
      "\u001b[0;31mNameError\u001b[0m                                 Traceback (most recent call last)",
      "\u001b[0;32m<ipython-input-14-d1419b740c64>\u001b[0m in \u001b[0;36m<cell line: 2>\u001b[0;34m()\u001b[0m\n\u001b[1;32m      1\u001b[0m \u001b[0mproduct_counts\u001b[0m \u001b[0;34m=\u001b[0m \u001b[0msampled_order_products\u001b[0m\u001b[0;34m[\u001b[0m\u001b[0;34m'product_id'\u001b[0m\u001b[0;34m]\u001b[0m\u001b[0;34m.\u001b[0m\u001b[0mvalue_counts\u001b[0m\u001b[0;34m(\u001b[0m\u001b[0;34m)\u001b[0m\u001b[0;34m.\u001b[0m\u001b[0mnlargest\u001b[0m\u001b[0;34m(\u001b[0m\u001b[0;36m20\u001b[0m\u001b[0;34m)\u001b[0m\u001b[0;34m\u001b[0m\u001b[0;34m\u001b[0m\u001b[0m\n\u001b[0;32m----> 2\u001b[0;31m \u001b[0mplt\u001b[0m\u001b[0;34m.\u001b[0m\u001b[0mfigure\u001b[0m\u001b[0;34m(\u001b[0m\u001b[0mfigsize\u001b[0m\u001b[0;34m=\u001b[0m\u001b[0;34m(\u001b[0m\u001b[0;36m10\u001b[0m\u001b[0;34m,\u001b[0m \u001b[0;36m5\u001b[0m\u001b[0;34m)\u001b[0m\u001b[0;34m)\u001b[0m\u001b[0;34m\u001b[0m\u001b[0;34m\u001b[0m\u001b[0m\n\u001b[0m\u001b[1;32m      3\u001b[0m \u001b[0msns\u001b[0m\u001b[0;34m.\u001b[0m\u001b[0mbarplot\u001b[0m\u001b[0;34m(\u001b[0m\u001b[0mx\u001b[0m\u001b[0;34m=\u001b[0m\u001b[0mproduct_counts\u001b[0m\u001b[0;34m.\u001b[0m\u001b[0mindex\u001b[0m\u001b[0;34m,\u001b[0m \u001b[0my\u001b[0m\u001b[0;34m=\u001b[0m\u001b[0mproduct_counts\u001b[0m\u001b[0;34m.\u001b[0m\u001b[0mvalues\u001b[0m\u001b[0;34m)\u001b[0m\u001b[0;34m\u001b[0m\u001b[0;34m\u001b[0m\u001b[0m\n\u001b[1;32m      4\u001b[0m \u001b[0mplt\u001b[0m\u001b[0;34m.\u001b[0m\u001b[0mtitle\u001b[0m\u001b[0;34m(\u001b[0m\u001b[0;34m'Top 20 Most Frequently Purchased Products (Sampled Data)'\u001b[0m\u001b[0;34m)\u001b[0m\u001b[0;34m\u001b[0m\u001b[0;34m\u001b[0m\u001b[0m\n\u001b[1;32m      5\u001b[0m \u001b[0mplt\u001b[0m\u001b[0;34m.\u001b[0m\u001b[0mxlabel\u001b[0m\u001b[0;34m(\u001b[0m\u001b[0;34m'Product ID'\u001b[0m\u001b[0;34m)\u001b[0m\u001b[0;34m\u001b[0m\u001b[0;34m\u001b[0m\u001b[0m\n",
      "\u001b[0;31mNameError\u001b[0m: name 'plt' is not defined"
     ]
    }
   ],
   "source": [
    "product_counts = sampled_order_products['product_id'].value_counts().nlargest(20)\n",
    "plt.figure(figsize=(10, 5))\n",
    "sns.barplot(x=product_counts.index, y=product_counts.values)\n",
    "plt.title('Top 20 Most Frequently Purchased Products (Sampled Data)')\n",
    "plt.xlabel('Product ID')\n",
    "plt.ylabel('Number of Purchases')\n",
    "plt.xticks(rotation=90)\n",
    "plt.show()\n"
   ]
  },
  {
   "cell_type": "code",
   "execution_count": 15,
   "metadata": {
    "colab": {
     "base_uri": "https://localhost:8080/"
    },
    "id": "OJBAm6Jp4UWw",
    "outputId": "099eba16-3dee-45c3-b4f8-5b2bb8ac4a0f"
   },
   "outputs": [
    {
     "name": "stdout",
     "output_type": "stream",
     "text": [
      "order_id                       0\n",
      "user_id                        0\n",
      "eval_set                       0\n",
      "order_number                   0\n",
      "order_dow                      0\n",
      "order_hour_of_day              0\n",
      "days_since_prior_order    206209\n",
      "order_hou                      0\n",
      "dtype: int64\n",
      "product_id       0\n",
      "product_name     0\n",
      "aisle_id         0\n",
      "department_id    0\n",
      "dtype: int64\n",
      "order_id             0\n",
      "product_id           0\n",
      "add_to_cart_order    0\n",
      "reordered            0\n",
      "dtype: int64\n"
     ]
    }
   ],
   "source": [
    "# Check missing values in the datasets\n",
    "print(orders.isnull().sum())\n",
    "print(products.isnull().sum())\n",
    "print(order_products_prior.isnull().sum())\n"
   ]
  },
  {
   "cell_type": "code",
   "execution_count": 16,
   "metadata": {
    "colab": {
     "base_uri": "https://localhost:8080/"
    },
    "id": "LAkQC28G4UTb",
    "outputId": "483fbc52-c639-413b-e726-04032bdd300a"
   },
   "outputs": [
    {
     "name": "stdout",
     "output_type": "stream",
     "text": [
      "Orders dataset size: (3421083, 8)\n",
      "Products dataset size: (49688, 4)\n",
      "Order Products dataset size: (32434489, 4)\n"
     ]
    }
   ],
   "source": [
    "print(f'Orders dataset size: {orders.shape}')\n",
    "print(f'Products dataset size: {products.shape}')\n",
    "print(f'Order Products dataset size: {order_products_prior.shape}')\n"
   ]
  },
  {
   "cell_type": "code",
   "execution_count": 19,
   "metadata": {
    "colab": {
     "base_uri": "https://localhost:8080/",
     "height": 487
    },
    "id": "d4fsMF0i4UQK",
    "outputId": "36df9e38-c360-4b2c-8aa6-75766b7320ea"
   },
   "outputs": [
    {
     "data": {
      "image/png": "[encoded data removed]",
      "text/plain": [
       "<Figure size 1000x500 with 1 Axes>"
      ]
     },
     "metadata": {},
     "output_type": "display_data"
    }
   ],
   "source": [
    "import pandas as pd\n",
    "import matplotlib.pyplot as plt\n",
    "import seaborn as sns\n",
    "\n",
    "user_order_counts = orders['user_id'].value_counts()\n",
    "\n",
    "plt.figure(figsize=(10, 5))\n",
    "sns.histplot(user_order_counts, bins=30)\n",
    "plt.title('Distribution of Orders by User')\n",
    "plt.xlabel('Number of Orders')\n",
    "plt.ylabel('Number of Users')\n",
    "plt.show()\n"
   ]
  },
  {
   "cell_type": "code",
   "execution_count": 20,
   "metadata": {
    "colab": {
     "base_uri": "https://localhost:8080/",
     "height": 517
    },
    "id": "xwDww_mD4UI4",
    "outputId": "140f900a-345e-47bd-8983-a42602ba9c89"
   },
   "outputs": [
    {
     "data": {
      "image/png": "[encoded data removed]",
      "text/plain": [
       "<Figure size 1000x500 with 1 Axes>"
      ]
     },
     "metadata": {},
     "output_type": "display_data"
    }
   ],
   "source": [
    "product_counts = order_products_prior['product_id'].value_counts().nlargest(20)\n",
    "\n",
    "plt.figure(figsize=(10, 5))\n",
    "sns.barplot(x=product_counts.index, y=product_counts.values)\n",
    "plt.title('Top 20 Most Frequently Purchased Products')\n",
    "plt.xlabel('Product ID')\n",
    "plt.ylabel('Number of Purchases')\n",
    "plt.xticks(rotation=90)\n",
    "plt.show()\n"
   ]
  },
  {
   "cell_type": "code",
   "execution_count": 21,
   "metadata": {
    "colab": {
     "base_uri": "https://localhost:8080/",
     "height": 487
    },
    "id": "VW_9RJG34FRV",
    "outputId": "d8bceb1f-edf6-4f73-a28d-54235a32a672"
   },
   "outputs": [
    {
     "data": {
      "image/png": "[encoded data removed]",
      "text/plain": [
       "<Figure size 1000x500 with 1 Axes>"
      ]
     },
     "metadata": {},
     "output_type": "display_data"
    }
   ],
   "source": [
    "# Add day of the week names for better readability\n",
    "orders['order_dow'] = orders['order_dow'].map({0: 'Sunday', 1: 'Monday', 2: 'Tuesday',\n",
    "                                                3: 'Wednesday', 4: 'Thursday', 5: 'Friday', 6: 'Saturday'})\n",
    "\n",
    "plt.figure(figsize=(10, 5))\n",
    "sns.countplot(data=orders, x='order_dow')\n",
    "plt.title('Orders by Day of the Week')\n",
    "plt.xlabel('Day of the Week')\n",
    "plt.ylabel('Number of Orders')\n",
    "plt.show()\n"
   ]
  },
  {
   "cell_type": "code",
   "execution_count": 22,
   "metadata": {
    "colab": {
     "base_uri": "https://localhost:8080/",
     "height": 487
    },
    "id": "CzB4rGR_4FNx",
    "outputId": "0c06dd42-c3e1-45c7-801e-11bd5abaca4a"
   },
   "outputs": [
    {
     "data": {
      "image/png": "[encoded data removed]",
      "text/plain": [
       "<Figure size 1000x500 with 1 Axes>"
      ]
     },
     "metadata": {},
     "output_type": "display_data"
    }
   ],
   "source": [
    "plt.figure(figsize=(10, 5))\n",
    "sns.countplot(data=orders, x='order_hou')\n",
    "plt.title('Orders by Hour of the Day')\n",
    "plt.xlabel('Hour of the Day')\n",
    "plt.ylabel('Number of Orders')\n",
    "plt.show()\n"
   ]
  },
  {
   "cell_type": "code",
   "execution_count": 38,
   "metadata": {
    "colab": {
     "base_uri": "https://localhost:8080/",
     "height": 504
    },
    "id": "W6kZ5PuV4FDt",
    "outputId": "838a785d-7b7f-4505-d689-29eac8595d9d"
   },
   "outputs": [
    {
     "name": "stdout",
     "output_type": "stream",
     "text": [
      "Average Basket Size: 10.09 items per order\n"
     ]
    },
    {
     "data": {
      "image/png": "[encoded data removed]",
      "text/plain": [
       "<Figure size 1000x500 with 1 Axes>"
      ]
     },
     "metadata": {},
     "output_type": "display_data"
    }
   ],
   "source": [
    "average_basket_size = order_products_prior.groupby('order_id')['product_id'].count().mean()\n",
    "print(f'Average Basket Size: {average_basket_size:.2f} items per order')\n",
    "\n",
    "# Visualize average basket size\n",
    "plt.figure(figsize=(10, 5))\n",
    "sns.histplot(order_products_prior.groupby('order_id')['product_id'].count(), bins=30)\n",
    "plt.title('Distribution of Basket Sizes')\n",
    "plt.xlabel('Number of Items per Basket')\n",
    "plt.ylabel('Number of Orders')\n",
    "plt.show()\n"
   ]
  },
  {
   "cell_type": "code",
   "execution_count": 41,
   "metadata": {
    "colab": {
     "base_uri": "https://localhost:8080/",
     "height": 210
    },
    "id": "E-mR5Itz5oD4",
    "outputId": "693fb941-e633-4853-eeba-e594a94466ad"
   },
   "outputs": [
    {
     "ename": "NameError",
     "evalue": "name 'merged_data' is not defined",
     "output_type": "error",
     "traceback": [
      "\u001b[0;31m---------------------------------------------------------------------------\u001b[0m",
      "\u001b[0;31mNameError\u001b[0m                                 Traceback (most recent call last)",
      "\u001b[0;32m<ipython-input-41-88e90b19ffeb>\u001b[0m in \u001b[0;36m<cell line: 2>\u001b[0;34m()\u001b[0m\n\u001b[1;32m      1\u001b[0m \u001b[0;31m# Top 10 most popular products\u001b[0m\u001b[0;34m\u001b[0m\u001b[0;34m\u001b[0m\u001b[0m\n\u001b[0;32m----> 2\u001b[0;31m \u001b[0mtop_products\u001b[0m \u001b[0;34m=\u001b[0m \u001b[0mmerged_data\u001b[0m\u001b[0;34m[\u001b[0m\u001b[0;34m'product_id'\u001b[0m\u001b[0;34m]\u001b[0m\u001b[0;34m.\u001b[0m\u001b[0mvalue_counts\u001b[0m\u001b[0;34m(\u001b[0m\u001b[0;34m)\u001b[0m\u001b[0;34m.\u001b[0m\u001b[0mhead\u001b[0m\u001b[0;34m(\u001b[0m\u001b[0;36m10\u001b[0m\u001b[0;34m)\u001b[0m\u001b[0;34m.\u001b[0m\u001b[0mindex\u001b[0m\u001b[0;34m\u001b[0m\u001b[0;34m\u001b[0m\u001b[0m\n\u001b[0m\u001b[1;32m      3\u001b[0m \u001b[0mtop_products_details\u001b[0m \u001b[0;34m=\u001b[0m \u001b[0mmerged_data\u001b[0m\u001b[0;34m[\u001b[0m\u001b[0mmerged_data\u001b[0m\u001b[0;34m[\u001b[0m\u001b[0;34m'product_id'\u001b[0m\u001b[0;34m]\u001b[0m\u001b[0;34m.\u001b[0m\u001b[0misin\u001b[0m\u001b[0;34m(\u001b[0m\u001b[0mtop_products\u001b[0m\u001b[0;34m)\u001b[0m\u001b[0;34m]\u001b[0m\u001b[0;34m\u001b[0m\u001b[0;34m\u001b[0m\u001b[0m\n\u001b[1;32m      4\u001b[0m \u001b[0mtop_products_summary\u001b[0m \u001b[0;34m=\u001b[0m \u001b[0mtop_products_details\u001b[0m\u001b[0;34m.\u001b[0m\u001b[0mgroupby\u001b[0m\u001b[0;34m(\u001b[0m\u001b[0;34m'product_name'\u001b[0m\u001b[0;34m)\u001b[0m\u001b[0;34m[\u001b[0m\u001b[0;34m'product_id'\u001b[0m\u001b[0;34m]\u001b[0m\u001b[0;34m.\u001b[0m\u001b[0mcount\u001b[0m\u001b[0;34m(\u001b[0m\u001b[0;34m)\u001b[0m\u001b[0;34m.\u001b[0m\u001b[0msort_values\u001b[0m\u001b[0;34m(\u001b[0m\u001b[0mascending\u001b[0m\u001b[0;34m=\u001b[0m\u001b[0;32mFalse\u001b[0m\u001b[0;34m)\u001b[0m\u001b[0;34m\u001b[0m\u001b[0;34m\u001b[0m\u001b[0m\n\u001b[1;32m      5\u001b[0m \u001b[0mprint\u001b[0m\u001b[0;34m(\u001b[0m\u001b[0;34m\"\\nTop 10 Products:\"\u001b[0m\u001b[0;34m)\u001b[0m\u001b[0;34m\u001b[0m\u001b[0;34m\u001b[0m\u001b[0m\n",
      "\u001b[0;31mNameError\u001b[0m: name 'merged_data' is not defined"
     ]
    }
   ],
   "source": [
    "\n"
   ]
  },
  {
   "cell_type": "code",
   "execution_count": 45,
   "metadata": {
    "id": "zVgT387EQwnH"
   },
   "outputs": [],
   "source": [
    "import pandas as pd\n",
    "import numpy as np\n",
    "import seaborn as sns\n",
    "import matplotlib.pyplot as plt\n",
    "from sklearn.ensemble import RandomForestClassifier\n",
    "from sklearn.model_selection import train_test_split, RandomizedSearchCV\n",
    "from sklearn.metrics import classification_report, confusion_matrix"
   ]
  },
  {
   "cell_type": "code",
   "execution_count": 43,
   "metadata": {
    "id": "-AZs2oj3MxX3"
   },
   "outputs": [],
   "source": [
    "# Initialize the Random Forest model\n",
    "rf_model = RandomForestClassifier(random_state=42)"
   ]
  },
  {
   "cell_type": "code",
   "execution_count": 46,
   "metadata": {
    "id": "XJziLtpNWxwi"
   },
   "outputs": [],
   "source": [
    "# Step 1: Load the datasets from Instacart\n",
    "orders = pd.read_csv('orders.csv')  # Adjust the path as necessary\n",
    "products = pd.read_csv('products.csv')  # Adjust the path as necessary\n",
    "order_products_prior = pd.read_csv('order_products__prior.csv')  # Adjust the path as necessary\n"
   ]
  },
  {
   "cell_type": "code",
   "execution_count": 47,
   "metadata": {
    "id": "R9dR2gntWy5Y"
   },
   "outputs": [],
   "source": [
    "# Step 2: Data preparation and feature engineering\n",
    "# Combine datasets to create a complete view\n",
    "combined = order_products_prior.merge(orders[['order_id', 'user_id']], on='order_id', how='left')"
   ]
  },
  {
   "cell_type": "code",
   "execution_count": 48,
   "metadata": {
    "id": "hlYRy-52W2LD"
   },
   "outputs": [],
   "source": [
    "# Create a binary target variable indicating if a product was purchased (1) or not (0)\n",
    "purchase_counts = combined.groupby(['user_id', 'product_id'])['order_id'].count().reset_index()\n",
    "purchase_counts.columns = ['user_id', 'product_id', 'purchase_count']"
   ]
  },
  {
   "cell_type": "code",
   "execution_count": 49,
   "metadata": {
    "id": "v9far6PvW41c"
   },
   "outputs": [],
   "source": [
    "# Merge back to the combined dataset\n",
    "combined = combined.merge(purchase_counts, on=['user_id', 'product_id'], how='left')"
   ]
  },
  {
   "cell_type": "code",
   "execution_count": 50,
   "metadata": {
    "id": "lIWwrV9lW4sw"
   },
   "outputs": [],
   "source": [
    "# Create the binary target variable (1 if purchased, 0 otherwise)\n",
    "combined['target'] = np.where(combined['purchase_count'] > 0, 1, 0)"
   ]
  },
  {
   "cell_type": "code",
   "execution_count": 51,
   "metadata": {
    "id": "znGjH1L1W4jr"
   },
   "outputs": [],
   "source": [
    "# Drop unnecessary columns and duplicates to create features_df\n",
    "features_df = combined[['user_id', 'product_id', 'target', 'purchase_count']].drop_duplicates()\n"
   ]
  },
  {
   "cell_type": "code",
   "execution_count": 52,
   "metadata": {
    "id": "ut-Q5CRZXEYJ"
   },
   "outputs": [],
   "source": [
    "# Step 3: Prepare features (X) and target (y)\n",
    "X = features_df[['purchase_count']]  # Using 'purchase_count' as an example feature\n",
    "y = features_df['target']"
   ]
  },
  {
   "cell_type": "code",
   "execution_count": 53,
   "metadata": {
    "colab": {
     "base_uri": "https://localhost:8080/"
    },
    "id": "VDrENSUlXES-",
    "outputId": "8eaf5978-682f-40a7-f921-2375112801f4"
   },
   "outputs": [
    {
     "name": "stdout",
     "output_type": "stream",
     "text": [
      "Features X shape:  (13307953, 1)\n",
      "Target y shape:  (13307953,)\n"
     ]
    }
   ],
   "source": [
    "# Check the shapes of X and y\n",
    "print(\"Features X shape: \", X.shape)\n",
    "print(\"Target y shape: \", y.shape)"
   ]
  },
  {
   "cell_type": "code",
   "execution_count": 62,
   "metadata": {
    "id": "d5U1EY_EXKi4"
   },
   "outputs": [],
   "source": [
    "# Step 4: Define the parameter grid for Randomized Search\n",
    "param_grid = {\n",
    "    'n_estimators': [10, 20, 30],  # Number of trees in the forest\n",
    "    'max_depth': [None, 10, 20, 30],     # Depth of trees\n",
    "    'min_samples_split': [2, 5, 10],     # Minimum samples required to split an internal node\n",
    "    'min_samples_leaf': [1, 2, 4],       # Minimum samples at a leaf node\n",
    "    'bootstrap': [True, False]            # Whether to use bootstrap samples\n",
    "}\n"
   ]
  },
  {
   "cell_type": "code",
   "execution_count": 63,
   "metadata": {
    "id": "-jJJbrsHXKZk"
   },
   "outputs": [],
   "source": [
    "\n",
    "# Initialize the Random Forest model\n",
    "rf_model = RandomForestClassifier(random_state=42)"
   ]
  },
  {
   "cell_type": "code",
   "execution_count": 64,
   "metadata": {
    "id": "Spvs4IPqXELR"
   },
   "outputs": [],
   "source": [
    "# Step 5: Perform Randomized Search for optimal parameters\n",
    "random_search = RandomizedSearchCV(estimator=rf_model,\n",
    "                                   param_distributions=param_grid,\n",
    "                                   n_iter=10,  # Number of different combinations to try\n",
    "                                   cv=3,        # Cross-validation strategy\n",
    "                                   n_jobs=-1,   # Use all available cores\n",
    "                                   verbose=2,   # Verbosity level\n",
    "                                   scoring='accuracy',  # Assessment metric\n",
    "                                   random_state=42)"
   ]
  },
  {
   "cell_type": "code",
   "execution_count": null,
   "metadata": {
    "colab": {
     "base_uri": "https://localhost:8080/"
    },
    "id": "BKn1mg9N10_w",
    "outputId": "348cf650-fd93-4298-cf51-682864cb4135"
   },
   "outputs": [
    {
     "name": "stdout",
     "output_type": "stream",
     "text": [
      "Fitting 3 folds for each of 10 candidates, totalling 30 fits\n"
     ]
    }
   ],
   "source": [
    "# Fit the model with the sampled data\n",
    "random_search.fit(X, y)\n",
    "\n"
   ]
  },
  {
   "cell_type": "code",
   "execution_count": null,
   "metadata": {
    "id": "vEZ3Iep9ZKYe"
   },
   "outputs": [],
   "source": [
    "# Output the best parameters found\n",
    "best_params = random_search.best_params_\n",
    "print(\"Best Hyperparameters:\", best_params)"
   ]
  },
  {
   "cell_type": "code",
   "execution_count": null,
   "metadata": {
    "id": "N5CWp_izPvum"
   },
   "outputs": [],
   "source": [
    "# Step 6: Train the optimized Random Forest model with the best parameters\n",
    "final_rf_model = RandomForestClassifier(**best_params, random_state=42)\n",
    "final_rf_model.fit(X, y)"
   ]
  },
  {
   "cell_type": "code",
   "execution_count": null,
   "metadata": {
    "id": "Ap4H7GZUPvp6"
   },
   "outputs": [],
   "source": [
    "\n",
    "# Predictions on the same dataset (for demonstration; ideally, you'd use a test set)\n",
    "y_pred = final_rf_model.predict(X)"
   ]
  },
  {
   "cell_type": "code",
   "execution_count": null,
   "metadata": {
    "id": "eM83vNrwPvnb"
   },
   "outputs": [],
   "source": [
    "# Step 7: Print the Confusion Matrix\n",
    "print(\"Confusion Matrix:\")\n",
    "print(confusion_matrix(y, y_pred))"
   ]
  },
  {
   "cell_type": "code",
   "execution_count": null,
   "metadata": {
    "id": "vioJnw-1PvkR"
   },
   "outputs": [],
   "source": [
    "# Step 8: Print the Classification Report\n",
    "print(\"\\nClassification Report:\")\n",
    "print(classification_report(y, y_pred))"
   ]
  },
  {
   "cell_type": "code",
   "execution_count": null,
   "metadata": {
    "id": "_-bZsPOdPvht"
   },
   "outputs": [],
   "source": [
    "# Step 9: Feature Importance\n",
    "importances = final_rf_model.feature_importances_\n",
    "importance_df = pd.DataFrame({'Feature': X.columns, 'Importance': importances})\n",
    "importance_df = importance_df.sort_values(by='Importance', ascending=False)"
   ]
  },
  {
   "cell_type": "code",
   "execution_count": null,
   "metadata": {
    "id": "zsWdwedgXqlN"
   },
   "outputs": [],
   "source": [
    "\n",
    "print(\"Random Forest Feature Importances:\")\n",
    "print(importance_df)\n",
    "\n",
    "# List of important features\n",
    "important_features = importance_df[importance_df['Importance'] > 0]  # You can adjust this threshold\n",
    "print(\"\\nList of Important Features with Their Importances:\")\n",
    "print(important_features)"
   ]
  },
  {
   "cell_type": "code",
   "execution_count": null,
   "metadata": {
    "id": "SZAc79abXqgH"
   },
   "outputs": [],
   "source": [
    "# Visualize the Random Forest feature importances\n",
    "plt.figure(figsize=(12, 6))\n",
    "sns.barplot(x"
   ]
  },
  {
   "cell_type": "code",
   "execution_count": null,
   "metadata": {
    "id": "yIn0zZVIPvb7"
   },
   "outputs": [],
   "source": []
  },
  {
   "cell_type": "code",
   "execution_count": null,
   "metadata": {
    "id": "_bBA11xUPvYq"
   },
   "outputs": [],
   "source": []
  }
 ],
 "metadata": {
  "colab": {
   "provenance": []
  },
  "kernelspec": {
   "display_name": "Python 3 (ipykernel)",
   "language": "python",
   "name": "python3"
  },
  "language_info": {
   "codemirror_mode": {
    "name": "ipython",
    "version": 3
   },
   "file_extension": ".py",
   "mimetype": "text/x-python",
   "name": "python",
   "nbconvert_exporter": "python",
   "pygments_lexer": "ipython3",
   "version": "3.8.18"
  }
 },
 "nbformat": 4,
 "nbformat_minor": 4
}
