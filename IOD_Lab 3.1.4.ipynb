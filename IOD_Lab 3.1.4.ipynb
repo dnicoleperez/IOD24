{
 "cells": [
  {
   "cell_type": "markdown",
   "metadata": {
    "id": "s8RoBuCkB_bW"
   },
   "source": [
    "<div>\n",
    "<img src=https://www.institutedata.com/wp-content/uploads/2019/10/iod_h_tp_primary_c.svg width=\"300\">\n",
    "</div>"
   ]
  },
  {
   "cell_type": "markdown",
   "metadata": {
    "id": "cW5QEs4PB_bY"
   },
   "source": [
    "# Lab 3.1.4\n",
    "# *Python with MongoDB*"
   ]
  },
  {
   "cell_type": "markdown",
   "metadata": {
    "id": "VjUpP-kFB_bb"
   },
   "source": [
    "## Introduction to PyMongo"
   ]
  },
  {
   "cell_type": "markdown",
   "metadata": {
    "id": "wj_xDQwGKbpL"
   },
   "source": [
    "For this lab you will firstly need to install two programs (both for Windows and Mac users). If using Windows download then run the `msi` package in both cases.\n",
    "\n",
    "1) MongoDB Community Server from https://www.mongodb.com/try/download/community\n",
    "\n",
    "2) MongoDB Command Line Database Tools from https://www.mongodb.com/try/download/database-tools"
   ]
  },
  {
   "cell_type": "markdown",
   "metadata": {
    "id": "BTMUSSJ76fK-"
   },
   "source": [
    "**Installation instructions for Windows users:**\n",
    "\n",
    "[Install MongoDB Community Edition on Windows](https://www.mongodb.com/docs/manual/tutorial/install-mongodb-on-windows/)"
   ]
  },
  {
   "cell_type": "markdown",
   "metadata": {
    "id": "4-MG3HS74Naj"
   },
   "source": [
    "**The following resources may assist Mac users:**\n",
    "\n",
    "[Install MongoDB Community Edition on macOS](https://www.mongodb.com/docs/manual/tutorial/install-mongodb-on-os-x/)\n",
    "\n",
    "[How to Install Latest MongoDB on macOS](https://www.youtube.com/watch?v=NLw7Tln6IeM)\n",
    "\n",
    "[How to install HomeBrew (often this helps, if you are having issues with your setup)](https://www.youtube.com/watch?v=IWJKRmFLn-g)"
   ]
  },
  {
   "cell_type": "code",
   "execution_count": 5,
   "metadata": {
    "id": "ude3llGg4Naj"
   },
   "outputs": [
    {
     "name": "stdout",
     "output_type": "stream",
     "text": [
      "Requirement already satisfied: pymongo in /opt/anaconda3/envs/IOD/lib/python3.12/site-packages (4.8.0)\n",
      "Requirement already satisfied: dnspython<3.0.0,>=1.16.0 in /opt/anaconda3/envs/IOD/lib/python3.12/site-packages (from pymongo) (2.6.1)\n",
      "Note: you may need to restart the kernel to use updated packages.\n"
     ]
    }
   ],
   "source": [
    "pip install pymongo"
   ]
  },
  {
   "cell_type": "code",
   "execution_count": 1,
   "metadata": {
    "colab": {
     "base_uri": "https://localhost:8080/",
     "height": 383
    },
    "executionInfo": {
     "elapsed": 11,
     "status": "error",
     "timestamp": 1710482077396,
     "user": {
      "displayName": "Isabella Uslu",
      "userId": "15471511092561094644"
     },
     "user_tz": -660
    },
    "id": "56Yk9yQtB_bd",
    "outputId": "e8fe2eb1-981e-410b-fd58-93eddc833c78"
   },
   "outputs": [
    {
     "name": "stdout",
     "output_type": "stream",
     "text": [
      "Mongo version 4.8.0\n"
     ]
    }
   ],
   "source": [
    "from IPython.display import display, HTML\n",
    "import pymongo\n",
    "import pandas as pd\n",
    "from pymongo import MongoClient\n",
    "print ('Mongo version ' + pymongo.__version__)"
   ]
  },
  {
   "cell_type": "markdown",
   "metadata": {
    "id": "h5nSnXML4Pst"
   },
   "source": [
    "**Start the mongod server (if it isn't already running):**\n",
    "\n",
    "Windows:\n",
    "1. Using Command Prompt navigate to the folder containing `mongod.exe` (e.g. by typing cd \"C:\\Program Files\\MongoDB\\Server\\7.0\\bin\").\n",
    "2.  Execute `mongod` at the prompt.\n",
    "\n",
    "Mac:\n",
    "1. Run `brew services start mongodb-community@7.0`"
   ]
  },
  {
   "cell_type": "code",
   "execution_count": 4,
   "metadata": {
    "id": "NiYV2_VIB_bm"
   },
   "outputs": [],
   "source": [
    "# Creating a client object in our local machines\n",
    "\n",
    "client = MongoClient('localhost', 27017)"
   ]
  },
  {
   "cell_type": "code",
   "execution_count": 8,
   "metadata": {},
   "outputs": [
    {
     "name": "stdout",
     "output_type": "stream",
     "text": [
      "Databases on the server: ['admin', 'config', 'local']\n",
      "Databases on the server: ['admin', 'config', 'local']\n"
     ]
    }
   ],
   "source": [
    "from pymongo import MongoClient\n",
    "\n",
    "# Create a client object to connect to a local MongoDB server\n",
    "client = MongoClient('localhost', 27017)\n",
    "\n",
    "# Test the connection by listifrom pymongo import MongoClient\n",
    "\n",
    "# Create a client object to connect to a local MongoDB server\n",
    "client = MongoClient('localhost', 27017)\n",
    "\n",
    "# Test the connection by listing all databases\n",
    "databases = client.list_database_names()\n",
    "print(\"Databases on the server:\", databases)\n",
    "databases = client.list_database_names()\n",
    "print(\"Databases on the server:\", databases)\n"
   ]
  },
  {
   "cell_type": "code",
   "execution_count": 10,
   "metadata": {
    "id": "xkfJBF5i4Nal"
   },
   "outputs": [
    {
     "name": "stdout",
     "output_type": "stream",
     "text": [
      "['admin', 'config', 'local']\n"
     ]
    }
   ],
   "source": [
    "print(client.list_database_names())\n"
   ]
  },
  {
   "cell_type": "markdown",
   "metadata": {
    "id": "bAbG5bfy4Nam"
   },
   "source": [
    "In MongoDB, a **database** stores and manages collections of related data, similar to how you might organise files into folders on your computer."
   ]
  },
  {
   "cell_type": "markdown",
   "metadata": {
    "id": "vG8SqZDo4Nam"
   },
   "source": [
    "Create a new database:"
   ]
  },
  {
   "cell_type": "code",
   "execution_count": 14,
   "metadata": {
    "id": "UGsudTe24Nan"
   },
   "outputs": [],
   "source": [
    "db = client.test"
   ]
  },
  {
   "cell_type": "markdown",
   "metadata": {
    "id": "mLZ7RvZn4Nan"
   },
   "source": [
    "A **collection** in MongoDB is similar to a table in a relational database.\n",
    "Collections store documents (records) in a structured format (usually in BSON, which is a binary representation of JSON).\n",
    "The people collection likely contains documents related to people, such as user profiles, contact information, or other relevant data.\n",
    "Each document within the people collection represents an individual person or entity."
   ]
  },
  {
   "cell_type": "code",
   "execution_count": 16,
   "metadata": {
    "id": "6fu1nY6w4Nan"
   },
   "outputs": [
    {
     "name": "stdout",
     "output_type": "stream",
     "text": [
      "['admin', 'config', 'local']\n"
     ]
    }
   ],
   "source": [
    "print(client.list_database_names())"
   ]
  },
  {
   "cell_type": "markdown",
   "metadata": {
    "id": "g6jvYhsz4Nao"
   },
   "source": [
    "It is important to note that MongoDB is lazy: the db won't get created until data has been written to it!"
   ]
  },
  {
   "cell_type": "markdown",
   "metadata": {
    "id": "HvVFPpgRB_cA"
   },
   "source": [
    "Create a collection called \"shoppers\" (with object name `mycol`):"
   ]
  },
  {
   "cell_type": "code",
   "execution_count": 20,
   "metadata": {
    "id": "txROG8XV4Nap"
   },
   "outputs": [
    {
     "name": "stdout",
     "output_type": "stream",
     "text": [
      "Collections in 'mydatabase': []\n"
     ]
    }
   ],
   "source": [
    "#ANSWER\n",
    "from pymongo import MongoClient\n",
    "\n",
    "# Connect to MongoDB server (default host and port)\n",
    "client = MongoClient('mongodb://localhost:27017/')\n",
    "\n",
    "# Create or access a database (e.g., 'mydatabase')\n",
    "db = client['mydatabase']\n",
    "\n",
    "# Create or access the 'shoppers' collection\n",
    "mycol = db['shoppers']\n",
    "\n",
    "# Verify the collection creation (prints the names of all collections in the database)\n",
    "print(\"Collections in 'mydatabase':\", db.list_collection_names())\n"
   ]
  },
  {
   "cell_type": "markdown",
   "metadata": {
    "id": "TRIbsM6VB_cE"
   },
   "source": [
    "Create a document (i.e. a dictionary) with two name:value items\n",
    "(\"name\" = \"Paul\", and \"address\" = \"Mansfield Ave\") and insert\n",
    "it into the \"shoppers\" collection:"
   ]
  },
  {
   "cell_type": "markdown",
   "metadata": {
    "id": "TRIbsM6VB_cE"
   },
   "source": [
    "Create a document (i.e. a dictionary) with two name:value items\n",
    "(\"name\" = \"Paul\", and \"address\" = \"Mansfield Ave\") and insert\n",
    "it into the \"shoppers\" collection:"
   ]
  },
  {
   "cell_type": "code",
   "execution_count": 22,
   "metadata": {
    "id": "KI1lYOBvB_cF"
   },
   "outputs": [
    {
     "name": "stdout",
     "output_type": "stream",
     "text": [
      "Document inserted with ID: 66b14dce424866c935a648eb\n"
     ]
    }
   ],
   "source": [
    "#ANSWER:\n",
    "from pymongo import MongoClient\n",
    "\n",
    "# Connect to MongoDB server (default host and port)\n",
    "client = MongoClient('mongodb://localhost:27017/')\n",
    "\n",
    "# Create or access a database (e.g., 'mydatabase')\n",
    "db = client['mydatabase']\n",
    "\n",
    "# Create or access the 'shoppers' collection\n",
    "mycol = db['shoppers']\n",
    "\n",
    "# Create a document (dictionary)\n",
    "document = {\n",
    "    \"name\": \"Paul\",\n",
    "    \"address\": \"Mansfield Ave\"\n",
    "}\n",
    "\n",
    "# Insert the document into the 'shoppers' collection\n",
    "result = mycol.insert_one(document)\n",
    "\n",
    "# Print the inserted document ID to confirm insertion\n",
    "print(\"Document inserted with ID:\", result.inserted_id)\n",
    "\n"
   ]
  },
  {
   "cell_type": "markdown",
   "metadata": {
    "id": "_EEiTjd_B_cH"
   },
   "source": [
    "Now test for the existence of the database:"
   ]
  },
  {
   "cell_type": "code",
   "execution_count": 24,
   "metadata": {
    "id": "JsPz--uIB_cI"
   },
   "outputs": [
    {
     "name": "stdout",
     "output_type": "stream",
     "text": [
      "Database 'mydatabase' exists.\n"
     ]
    }
   ],
   "source": [
    "#ANSWER:\n",
    "from pymongo import MongoClient\n",
    "\n",
    "# Connect to MongoDB server (default host and port)\n",
    "client = MongoClient('mongodb://localhost:27017/')\n",
    "\n",
    "# List all databases\n",
    "databases = client.list_database_names()\n",
    "\n",
    "# Check if 'mydatabase' exists\n",
    "database_name = 'mydatabase'\n",
    "if database_name in databases:\n",
    "    print(f\"Database '{database_name}' exists.\")\n",
    "else:\n",
    "    print(f\"Database '{database_name}' does not exist.\")\n"
   ]
  },
  {
   "cell_type": "markdown",
   "metadata": {
    "id": "WvgAowAdB_cK"
   },
   "source": [
    "List all collections in the database:"
   ]
  },
  {
   "cell_type": "code",
   "execution_count": 26,
   "metadata": {
    "id": "JMl-YlPNB_cK"
   },
   "outputs": [
    {
     "name": "stdout",
     "output_type": "stream",
     "text": [
      "Collections in 'mydatabase': ['shoppers']\n"
     ]
    }
   ],
   "source": [
    "#ANSWER\n",
    "from pymongo import MongoClient\n",
    "\n",
    "# Connect to MongoDB server (default host and port)\n",
    "client = MongoClient('localhost', 27017)\n",
    "\n",
    "# Access the database (replace 'mydatabase' with your database name)\n",
    "db = client['mydatabase']\n",
    "\n",
    "# List all collections in the database\n",
    "collections = db.list_collection_names()\n",
    "\n",
    "# Print the list of collections\n",
    "print(\"Collections in 'mydatabase':\", collections)\n"
   ]
  },
  {
   "cell_type": "raw",
   "metadata": {
    "id": "ZBpH0Q9dB_cM"
   },
   "source": [
    "Insert another record in the \"shoppers\" collection\n",
    "(\"name\" = \"Rafa\", \"address\" = \"Holder Drive\")\n",
    "and return the value of the _id field:"
   ]
  },
  {
   "cell_type": "code",
   "execution_count": 28,
   "metadata": {
    "id": "LzSwoIlIB_cN"
   },
   "outputs": [
    {
     "name": "stdout",
     "output_type": "stream",
     "text": [
      "Inserted document ID: 66b14e0b424866c935a648ef\n"
     ]
    }
   ],
   "source": [
    "from pymongo import MongoClient\n",
    "\n",
    "# Connect to MongoDB server (default host and port)\n",
    "client = MongoClient('localhost', 27017)\n",
    "\n",
    "# Access the database (replace 'mydatabase' with your database name)\n",
    "db = client['mydatabase']\n",
    "\n",
    "# Access the 'shoppers' collection\n",
    "mycol = db['shoppers']\n",
    "\n",
    "# Create the new document (record) to be inserted\n",
    "new_document = {\n",
    "    \"name\": \"Rafa\",\n",
    "    \"address\": \"Holder Drive\"\n",
    "}\n",
    "\n",
    "# Insert the document into the 'shoppers' collection\n",
    "result = mycol.insert_one(new_document)\n",
    "\n",
    "# Print the inserted document ID\n",
    "print(\"Inserted document ID:\", result.inserted_id)\n"
   ]
  },
  {
   "cell_type": "markdown",
   "metadata": {
    "id": "g81P900vB_cP"
   },
   "source": [
    "Given the list of dicts below, insert multiple documents into\n",
    "the collection using the insert_many() method:"
   ]
  },
  {
   "cell_type": "code",
   "execution_count": null,
   "metadata": {
    "id": "E7fwTxbcB_cP"
   },
   "outputs": [],
   "source": [
    "mylist = [\n",
    "  { \"name\": \"Ashton\", \"address\": \"Axle St\"},\n",
    "  { \"name\": \"Benjamin\", \"address\": \"Green Dr\"},\n",
    "  { \"name\": \"Sally\", \"address\": \"Holly Blvd\"},\n",
    "  { \"name\": \"Helen\", \"address\": \"Castor Prom\"},\n",
    "  { \"name\": \"Craig\", \"address\": \"Parsons Way\"},\n",
    "  { \"name\": \"Betty\", \"address\": \"Watters St\"},\n",
    "  { \"name\": \"Aparna\", \"address\": \"Yonder Dr\"},\n",
    "  { \"name\": \"Kent\", \"address\": \"Garrison St\"},\n",
    "  { \"name\": \"Violet\", \"address\": \"Station St\"},\n",
    "  { \"name\": \"Svetlana\", \"address\": \"Wayman Ave\"}\n",
    "]"
   ]
  },
  {
   "cell_type": "code",
   "execution_count": 56,
   "metadata": {
    "id": "g6xDpO86B_cR"
   },
   "outputs": [
    {
     "name": "stdout",
     "output_type": "stream",
     "text": [
      "Inserted document IDs: [ObjectId('66b14f7b424866c935a6490f'), ObjectId('66b14f7b424866c935a64910'), ObjectId('66b14f7b424866c935a64911'), ObjectId('66b14f7b424866c935a64912'), ObjectId('66b14f7b424866c935a64913'), ObjectId('66b14f7b424866c935a64914'), ObjectId('66b14f7b424866c935a64915'), ObjectId('66b14f7b424866c935a64916'), ObjectId('66b14f7b424866c935a64917'), ObjectId('66b14f7b424866c935a64918')]\n"
     ]
    }
   ],
   "source": [
    "from pymongo import MongoClient\n",
    "\n",
    "# Connect to MongoDB server (default host and port)\n",
    "client = MongoClient('localhost', 27017)\n",
    "\n",
    "# Access the database (replace 'mydatabase' with your actual database name)\n",
    "db = client['mydatabase']\n",
    "\n",
    "# Access the collection (replace 'shoppers' with your actual collection name)\n",
    "mycol = db['shoppers']\n",
    "\n",
    "# List of documents to insert\n",
    "mylist = [\n",
    "    { \"name\": \"Ashton\", \"address\": \"Axle St\"},\n",
    "    { \"name\": \"Benjamin\", \"address\": \"Green Dr\"},\n",
    "    { \"name\": \"Sally\", \"address\": \"Holly Blvd\"},\n",
    "    { \"name\": \"Helen\", \"address\": \"Castor Prom\"},\n",
    "    { \"name\": \"Craig\", \"address\": \"Parsons Way\"},\n",
    "    { \"name\": \"Betty\", \"address\": \"Watters St\"},\n",
    "    { \"name\": \"Aparna\", \"address\": \"Yonder Dr\"},\n",
    "    { \"name\": \"Kent\", \"address\": \"Garrison St\"},\n",
    "    { \"name\": \"Violet\", \"address\": \"Station St\"},\n",
    "    { \"name\": \"Svetlana\", \"address\": \"Wayman Ave\"}\n",
    "]\n",
    "\n",
    "# Insert multiple documents into the 'shoppers' collection\n",
    "result = mycol.insert_many(mylist)\n",
    "\n",
    "# Print the IDs of the inserted documents\n",
    "print(\"Inserted document IDs:\", result.inserted_ids)\n"
   ]
  },
  {
   "cell_type": "markdown",
   "metadata": {
    "id": "ZmuKgJ5SB_cU"
   },
   "source": [
    "Print a list of the _id values of the inserted documents:"
   ]
  },
  {
   "cell_type": "code",
   "execution_count": 58,
   "metadata": {
    "id": "zLS5mhlIB_cV",
    "outputId": "99da9bdf-3130-4ac4-b3d7-c44b6f622d5a"
   },
   "outputs": [
    {
     "name": "stdout",
     "output_type": "stream",
     "text": [
      "Inserted document IDs:\n",
      "66b14f7d424866c935a6491a\n",
      "66b14f7d424866c935a6491b\n",
      "66b14f7d424866c935a6491c\n",
      "66b14f7d424866c935a6491d\n",
      "66b14f7d424866c935a6491e\n",
      "66b14f7d424866c935a6491f\n",
      "66b14f7d424866c935a64920\n",
      "66b14f7d424866c935a64921\n",
      "66b14f7d424866c935a64922\n",
      "66b14f7d424866c935a64923\n"
     ]
    }
   ],
   "source": [
    "from pymongo import MongoClient\n",
    "\n",
    "# Connect to MongoDB server (default host and port)\n",
    "client = MongoClient('localhost', 27017)\n",
    "\n",
    "# Access the database (replace 'mydatabase' with your actual database name)\n",
    "db = client['mydatabase']\n",
    "\n",
    "# Access the collection (replace 'shoppers' with your actual collection name)\n",
    "mycol = db['shoppers']\n",
    "\n",
    "# List of documents to insert\n",
    "mylist = [\n",
    "    { \"name\": \"Ashton\", \"address\": \"Axle St\"},\n",
    "    { \"name\": \"Benjamin\", \"address\": \"Green Dr\"},\n",
    "    { \"name\": \"Sally\", \"address\": \"Holly Blvd\"},\n",
    "    { \"name\": \"Helen\", \"address\": \"Castor Prom\"},\n",
    "    { \"name\": \"Craig\", \"address\": \"Parsons Way\"},\n",
    "    { \"name\": \"Betty\", \"address\": \"Watters St\"},\n",
    "    { \"name\": \"Aparna\", \"address\": \"Yonder Dr\"},\n",
    "    { \"name\": \"Kent\", \"address\": \"Garrison St\"},\n",
    "    { \"name\": \"Violet\", \"address\": \"Station St\"},\n",
    "    { \"name\": \"Svetlana\", \"address\": \"Wayman Ave\"}\n",
    "]\n",
    "\n",
    "# Insert multiple documents into the 'shoppers' collection\n",
    "result = mycol.insert_many(mylist)\n",
    "\n",
    "# Print the list of inserted document IDs\n",
    "print(\"Inserted document IDs:\")\n",
    "for doc_id in result.inserted_ids:\n",
    "    print(doc_id)\n"
   ]
  },
  {
   "cell_type": "markdown",
   "metadata": {
    "id": "kC0U_tYqB_cX"
   },
   "source": [
    "Execute the next cell to insert a list of dicts with specified `_id`s:"
   ]
  },
  {
   "cell_type": "code",
   "execution_count": 62,
   "metadata": {},
   "outputs": [
    {
     "name": "stdout",
     "output_type": "stream",
     "text": [
      "Inserted document IDs: [13, 14, 15, 16, 17]\n"
     ]
    }
   ],
   "source": [
    "from pymongo import MongoClient\n",
    "\n",
    "# Connect to MongoDB server (default host and port)\n",
    "client = MongoClient('localhost', 27017)\n",
    "\n",
    "# Access the database (replace 'mydatabase' with your actual database name)\n",
    "db = client['mydatabase']\n",
    "\n",
    "# Access the collection (replace 'shoppers' with your actual collection name)\n",
    "mycol = db['shoppers']\n",
    "\n",
    "# List of documents to insert with specified _id values\n",
    "documents_with_ids = [\n",
    "    {\"_id\": 13, \"name\": \"John\", \"address\": \"Elm Street\"},\n",
    "    {\"_id\": 14, \"name\": \"Alice\", \"address\": \"Maple Avenue\"},\n",
    "    {\"_id\": 15, \"name\": \"Bob\", \"address\": \"Oak Drive\"},\n",
    "    {\"_id\": 16, \"name\": \"Carol\", \"address\": \"Pine Lane\"},\n",
    "    {\"_id\": 17, \"name\": \"Dave\", \"address\": \"Cedar Road\"}\n",
    "]\n",
    "\n",
    "# Insert multiple documents into the 'shoppers' collection\n",
    "result = mycol.insert_many(documents_with_ids)\n",
    "\n",
    "# Print the IDs of the inserted documents\n",
    "print(\"Inserted document IDs:\", result.inserted_ids)\n"
   ]
  },
  {
   "cell_type": "code",
   "execution_count": 64,
   "metadata": {},
   "outputs": [
    {
     "name": "stdout",
     "output_type": "stream",
     "text": [
      "Inserted document IDs: [13, 14, 15, 16, 17]\n"
     ]
    }
   ],
   "source": [
    "from pymongo import MongoClient\n",
    "\n",
    "# Connect to MongoDB server (default host and port)\n",
    "client = MongoClient('localhost', 27017)\n",
    "\n",
    "# Access the database (replace 'mydatabase' with your actual database name)\n",
    "db = client['mydatabase']\n",
    "\n",
    "# Access the collection (replace 'shoppers' with your actual collection name)\n",
    "mycol = db['shoppers']\n",
    "\n",
    "# List of documents to insert with specified _id values\n",
    "documents_with_ids = [\n",
    "    {\"_id\": 1, \"name\": \"Alice\", \"address\": \"123 Elm Street\"},\n",
    "    {\"_id\": 2, \"name\": \"Bob\", \"address\": \"456 Oak Avenue\"},\n",
    "    {\"_id\": 3, \"name\": \"Charlie\", \"address\": \"789 Pine Road\"},\n",
    "    {\"_id\": 4, \"name\": \"David\", \"address\": \"101 Maple Lane\"},\n",
    "    {\"_id\": 5, \"name\": \"Eve\", \"address\": \"202 Birch Blvd\"}\n",
    "]\n",
    "\n",
    "\n",
    "# Print the IDs of the inserted documents\n",
    "print(\"Inserted document IDs:\", result.inserted_ids)\n"
   ]
  },
  {
   "cell_type": "code",
   "execution_count": 48,
   "metadata": {
    "id": "RnAv0sMdB_cX",
    "outputId": "4f0760ea-05b1-4a4a-d879-784ac104ce6c"
   },
   "outputs": [
    {
     "ename": "BulkWriteError",
     "evalue": "batch op errors occurred, full error: {'writeErrors': [{'index': 0, 'code': 11000, 'errmsg': 'E11000 duplicate key error collection: mydatabase.shoppers index: _id_ dup key: { _id: 1 }', 'keyPattern': {'_id': 1}, 'keyValue': {'_id': 1}, 'op': {'_id': 1, 'name': 'Paul', 'address': 'Mansfield Ave'}}], 'writeConcernErrors': [], 'nInserted': 0, 'nUpserted': 0, 'nMatched': 0, 'nModified': 0, 'nRemoved': 0, 'upserted': []}",
     "output_type": "error",
     "traceback": [
      "\u001b[0;31m---------------------------------------------------------------------------\u001b[0m",
      "\u001b[0;31mBulkWriteError\u001b[0m                            Traceback (most recent call last)",
      "Cell \u001b[0;32mIn[48], line 15\u001b[0m\n\u001b[1;32m      1\u001b[0m mylist \u001b[38;5;241m=\u001b[39m [\n\u001b[1;32m      2\u001b[0m   { \u001b[38;5;124m\"\u001b[39m\u001b[38;5;124m_id\u001b[39m\u001b[38;5;124m\"\u001b[39m: \u001b[38;5;241m1\u001b[39m, \u001b[38;5;124m\"\u001b[39m\u001b[38;5;124mname\u001b[39m\u001b[38;5;124m\"\u001b[39m: \u001b[38;5;124m\"\u001b[39m\u001b[38;5;124mPaul\u001b[39m\u001b[38;5;124m\"\u001b[39m, \u001b[38;5;124m\"\u001b[39m\u001b[38;5;124maddress\u001b[39m\u001b[38;5;124m\"\u001b[39m: \u001b[38;5;124m\"\u001b[39m\u001b[38;5;124mMansfield Ave\u001b[39m\u001b[38;5;124m\"\u001b[39m},\n\u001b[1;32m      3\u001b[0m   { \u001b[38;5;124m\"\u001b[39m\u001b[38;5;124m_id\u001b[39m\u001b[38;5;124m\"\u001b[39m: \u001b[38;5;241m2\u001b[39m, \u001b[38;5;124m\"\u001b[39m\u001b[38;5;124mname\u001b[39m\u001b[38;5;124m\"\u001b[39m: \u001b[38;5;124m\"\u001b[39m\u001b[38;5;124mRafa\u001b[39m\u001b[38;5;124m\"\u001b[39m, \u001b[38;5;124m\"\u001b[39m\u001b[38;5;124maddress\u001b[39m\u001b[38;5;124m\"\u001b[39m: \u001b[38;5;124m\"\u001b[39m\u001b[38;5;124mHolder Drive\u001b[39m\u001b[38;5;124m\"\u001b[39m},\n\u001b[0;32m   (...)\u001b[0m\n\u001b[1;32m     13\u001b[0m   { \u001b[38;5;124m\"\u001b[39m\u001b[38;5;124m_id\u001b[39m\u001b[38;5;124m\"\u001b[39m: \u001b[38;5;241m12\u001b[39m, \u001b[38;5;124m\"\u001b[39m\u001b[38;5;124mname\u001b[39m\u001b[38;5;124m\"\u001b[39m: \u001b[38;5;124m\"\u001b[39m\u001b[38;5;124mSvetlana\u001b[39m\u001b[38;5;124m\"\u001b[39m, \u001b[38;5;124m\"\u001b[39m\u001b[38;5;124maddress\u001b[39m\u001b[38;5;124m\"\u001b[39m: \u001b[38;5;124m\"\u001b[39m\u001b[38;5;124mWayman Ave\u001b[39m\u001b[38;5;124m\"\u001b[39m}\n\u001b[1;32m     14\u001b[0m ]\n\u001b[0;32m---> 15\u001b[0m x \u001b[38;5;241m=\u001b[39m mycol\u001b[38;5;241m.\u001b[39minsert_many(mylist)\n\u001b[1;32m     16\u001b[0m \u001b[38;5;28mprint\u001b[39m(x\u001b[38;5;241m.\u001b[39minserted_ids)\n",
      "File \u001b[0;32m/opt/anaconda3/envs/IOD/lib/python3.12/site-packages/pymongo/_csot.py:108\u001b[0m, in \u001b[0;36mapply.<locals>.csot_wrapper\u001b[0;34m(self, *args, **kwargs)\u001b[0m\n\u001b[1;32m    106\u001b[0m         \u001b[38;5;28;01mwith\u001b[39;00m _TimeoutContext(timeout):\n\u001b[1;32m    107\u001b[0m             \u001b[38;5;28;01mreturn\u001b[39;00m func(\u001b[38;5;28mself\u001b[39m, \u001b[38;5;241m*\u001b[39margs, \u001b[38;5;241m*\u001b[39m\u001b[38;5;241m*\u001b[39mkwargs)\n\u001b[0;32m--> 108\u001b[0m \u001b[38;5;28;01mreturn\u001b[39;00m func(\u001b[38;5;28mself\u001b[39m, \u001b[38;5;241m*\u001b[39margs, \u001b[38;5;241m*\u001b[39m\u001b[38;5;241m*\u001b[39mkwargs)\n",
      "File \u001b[0;32m/opt/anaconda3/envs/IOD/lib/python3.12/site-packages/pymongo/collection.py:742\u001b[0m, in \u001b[0;36mCollection.insert_many\u001b[0;34m(self, documents, ordered, bypass_document_validation, session, comment)\u001b[0m\n\u001b[1;32m    740\u001b[0m blk \u001b[38;5;241m=\u001b[39m _Bulk(\u001b[38;5;28mself\u001b[39m, ordered, bypass_document_validation, comment\u001b[38;5;241m=\u001b[39mcomment)\n\u001b[1;32m    741\u001b[0m blk\u001b[38;5;241m.\u001b[39mops \u001b[38;5;241m=\u001b[39m \u001b[38;5;28mlist\u001b[39m(gen())\n\u001b[0;32m--> 742\u001b[0m blk\u001b[38;5;241m.\u001b[39mexecute(write_concern, session, _Op\u001b[38;5;241m.\u001b[39mINSERT)\n\u001b[1;32m    743\u001b[0m \u001b[38;5;28;01mreturn\u001b[39;00m InsertManyResult(inserted_ids, write_concern\u001b[38;5;241m.\u001b[39macknowledged)\n",
      "File \u001b[0;32m/opt/anaconda3/envs/IOD/lib/python3.12/site-packages/pymongo/bulk.py:595\u001b[0m, in \u001b[0;36m_Bulk.execute\u001b[0;34m(self, write_concern, session, operation)\u001b[0m\n\u001b[1;32m    593\u001b[0m         \u001b[38;5;28;01mreturn\u001b[39;00m \u001b[38;5;28;01mNone\u001b[39;00m\n\u001b[1;32m    594\u001b[0m \u001b[38;5;28;01melse\u001b[39;00m:\n\u001b[0;32m--> 595\u001b[0m     \u001b[38;5;28;01mreturn\u001b[39;00m \u001b[38;5;28mself\u001b[39m\u001b[38;5;241m.\u001b[39mexecute_command(generator, write_concern, session, operation)\n",
      "File \u001b[0;32m/opt/anaconda3/envs/IOD/lib/python3.12/site-packages/pymongo/bulk.py:462\u001b[0m, in \u001b[0;36m_Bulk.execute_command\u001b[0;34m(self, generator, write_concern, session, operation)\u001b[0m\n\u001b[1;32m    452\u001b[0m client\u001b[38;5;241m.\u001b[39m_retryable_write(\n\u001b[1;32m    453\u001b[0m     \u001b[38;5;28mself\u001b[39m\u001b[38;5;241m.\u001b[39mis_retryable,\n\u001b[1;32m    454\u001b[0m     retryable_bulk,\n\u001b[0;32m   (...)\u001b[0m\n\u001b[1;32m    458\u001b[0m     operation_id\u001b[38;5;241m=\u001b[39mop_id,\n\u001b[1;32m    459\u001b[0m )\n\u001b[1;32m    461\u001b[0m \u001b[38;5;28;01mif\u001b[39;00m full_result[\u001b[38;5;124m\"\u001b[39m\u001b[38;5;124mwriteErrors\u001b[39m\u001b[38;5;124m\"\u001b[39m] \u001b[38;5;129;01mor\u001b[39;00m full_result[\u001b[38;5;124m\"\u001b[39m\u001b[38;5;124mwriteConcernErrors\u001b[39m\u001b[38;5;124m\"\u001b[39m]:\n\u001b[0;32m--> 462\u001b[0m     _raise_bulk_write_error(full_result)\n\u001b[1;32m    463\u001b[0m \u001b[38;5;28;01mreturn\u001b[39;00m full_result\n",
      "File \u001b[0;32m/opt/anaconda3/envs/IOD/lib/python3.12/site-packages/pymongo/bulk.py:165\u001b[0m, in \u001b[0;36m_raise_bulk_write_error\u001b[0;34m(full_result)\u001b[0m\n\u001b[1;32m    159\u001b[0m         errmsg \u001b[38;5;241m=\u001b[39m (\n\u001b[1;32m    160\u001b[0m             \u001b[38;5;124m\"\u001b[39m\u001b[38;5;124mThis MongoDB deployment does not support \u001b[39m\u001b[38;5;124m\"\u001b[39m\n\u001b[1;32m    161\u001b[0m             \u001b[38;5;124m\"\u001b[39m\u001b[38;5;124mretryable writes. Please add retryWrites=false \u001b[39m\u001b[38;5;124m\"\u001b[39m\n\u001b[1;32m    162\u001b[0m             \u001b[38;5;124m\"\u001b[39m\u001b[38;5;124mto your connection string.\u001b[39m\u001b[38;5;124m\"\u001b[39m\n\u001b[1;32m    163\u001b[0m         )\n\u001b[1;32m    164\u001b[0m         \u001b[38;5;28;01mraise\u001b[39;00m OperationFailure(errmsg, code, full_result)\n\u001b[0;32m--> 165\u001b[0m \u001b[38;5;28;01mraise\u001b[39;00m BulkWriteError(full_result)\n",
      "\u001b[0;31mBulkWriteError\u001b[0m: batch op errors occurred, full error: {'writeErrors': [{'index': 0, 'code': 11000, 'errmsg': 'E11000 duplicate key error collection: mydatabase.shoppers index: _id_ dup key: { _id: 1 }', 'keyPattern': {'_id': 1}, 'keyValue': {'_id': 1}, 'op': {'_id': 1, 'name': 'Paul', 'address': 'Mansfield Ave'}}], 'writeConcernErrors': [], 'nInserted': 0, 'nUpserted': 0, 'nMatched': 0, 'nModified': 0, 'nRemoved': 0, 'upserted': []}"
     ]
    }
   ],
   "source": [
    "mylist = [\n",
    "  { \"_id\": 1, \"name\": \"Paul\", \"address\": \"Mansfield Ave\"},\n",
    "  { \"_id\": 2, \"name\": \"Rafa\", \"address\": \"Holder Drive\"},\n",
    "  { \"_id\": 3, \"name\": \"Ashton\", \"address\": \"Axle St\"},\n",
    "  { \"_id\": 4, \"name\": \"Benjamin\", \"address\": \"Green Dr\"},\n",
    "  { \"_id\": 5, \"name\": \"Sally\", \"address\": \"Holly Blvd\"},\n",
    "  { \"_id\": 6, \"name\": \"Helen\", \"address\": \"Castor Prom\"},\n",
    "  { \"_id\": 7, \"name\": \"Craig\", \"address\": \"Parsons Way\"},\n",
    "  { \"_id\": 8, \"name\": \"Betty\", \"address\": \"Watters St\"},\n",
    "  { \"_id\": 9, \"name\": \"Aparna\", \"address\": \"Yonder Dr\"},\n",
    "  { \"_id\": 10, \"name\": \"Kent\", \"address\": \"Garrison St\"},\n",
    "  { \"_id\": 11, \"name\": \"Violet\", \"address\": \"Station St\"},\n",
    "  { \"_id\": 12, \"name\": \"Svetlana\", \"address\": \"Wayman Ave\"}\n",
    "]\n",
    "x = mycol.insert_many(mylist)\n",
    "print(x.inserted_ids)"
   ]
  },
  {
   "cell_type": "markdown",
   "metadata": {
    "id": "vVPR7vhNB_cZ"
   },
   "source": [
    "Now try inserting a new dict with an existing `_id`:"
   ]
  },
  {
   "cell_type": "code",
   "execution_count": 66,
   "metadata": {
    "id": "Gklp0IIIB_ca"
   },
   "outputs": [],
   "source": [
    "# Warning -- This code will return an error as id no: 12 is already exists\n",
    "x = mycol.insert_one({ \"_id\": 12, \"name\": \"Lola\", \"address\": \"Prospect Dr\"})"
   ]
  },
  {
   "cell_type": "code",
   "execution_count": 73,
   "metadata": {},
   "outputs": [
    {
     "name": "stdout",
     "output_type": "stream",
     "text": [
      "Error: E11000 duplicate key error collection: mydatabase.shoppers index: _id_ dup key: { _id: 12 }, full error: {'index': 0, 'code': 11000, 'errmsg': 'E11000 duplicate key error collection: mydatabase.shoppers index: _id_ dup key: { _id: 12 }', 'keyPattern': {'_id': 1}, 'keyValue': {'_id': 12}}\n"
     ]
    }
   ],
   "source": [
    "from pymongo import MongoClient\n",
    "from pymongo.errors import DuplicateKeyError\n",
    "\n",
    "# Connect to MongoDB server (default host and port)\n",
    "client = MongoClient('localhost', 27017)\n",
    "\n",
    "# Access the database (replace 'mydatabase' with your actual database name)\n",
    "db = client['mydatabase']\n",
    "\n",
    "# Access the collection (replace 'shoppers' with your actual collection name)\n",
    "mycol = db['shoppers']\n",
    "\n",
    "# Attempt to insert a document with an existing _id\n",
    "try:\n",
    "    x = mycol.insert_one({ \"_id\": 12, \"name\": \"Lola\", \"address\": \"Prospect Dr\"})\n",
    "    print(\"Document inserted with _id:\", x.inserted_id)\n",
    "except DuplicateKeyError as e:\n",
    "    print(\"Error:\", e)\n"
   ]
  },
  {
   "cell_type": "markdown",
   "metadata": {
    "id": "3CKpbRGDB_cb"
   },
   "source": [
    "So, if we want to manage `_id`s in code, we need to be careful!"
   ]
  },
  {
   "cell_type": "markdown",
   "metadata": {
    "id": "eAyExvFAB_cc"
   },
   "source": [
    "This returns the first document in the collection:"
   ]
  },
  {
   "cell_type": "code",
   "execution_count": null,
   "metadata": {
    "id": "YzXmhIr4B_cc",
    "outputId": "271ee843-b56b-48d7-8b36-68d0e1eac5c1"
   },
   "outputs": [
    {
     "name": "stdout",
     "output_type": "stream",
     "text": [
      "{'_id': ObjectId('666652a9ffcba2928f7fd55d'), 'name': 'Paul', 'address': 'Mansfield Ave'}\n"
     ]
    }
   ],
   "source": [
    "x = mycol.find_one()\n",
    "print(x)"
   ]
  },
  {
   "cell_type": "code",
   "execution_count": 75,
   "metadata": {},
   "outputs": [
    {
     "name": "stdout",
     "output_type": "stream",
     "text": [
      "First document in the collection: {'_id': ObjectId('66b14dce424866c935a648eb'), 'name': 'Paul', 'address': 'Mansfield Ave'}\n"
     ]
    }
   ],
   "source": [
    "from pymongo import MongoClient\n",
    "\n",
    "# Connect to MongoDB server (default host and port)\n",
    "client = MongoClient('localhost', 27017)\n",
    "\n",
    "# Access the database (replace 'mydatabase' with your actual database name)\n",
    "db = client['mydatabase']\n",
    "\n",
    "# Access the collection (replace 'shoppers' with your actual collection name)\n",
    "mycol = db['shoppers']\n",
    "\n",
    "# Retrieve the first document from the collection\n",
    "first_document = mycol.find_one()\n",
    "\n",
    "# Print the first document\n",
    "print(\"First document in the collection:\", first_document)\n"
   ]
  },
  {
   "cell_type": "markdown",
   "metadata": {
    "id": "GWSokljaB_ce"
   },
   "source": [
    "Do the same for the document containing \"name\" = \"Ashton\":"
   ]
  },
  {
   "cell_type": "code",
   "execution_count": 77,
   "metadata": {
    "id": "cA5k8a_dB_cf"
   },
   "outputs": [
    {
     "name": "stdout",
     "output_type": "stream",
     "text": [
      "Document with name 'Ashton': {'_id': ObjectId('66b14e74424866c935a648f1'), 'name': 'Ashton', 'address': 'Axle St'}\n"
     ]
    }
   ],
   "source": [
    "from pymongo import MongoClient\n",
    "\n",
    "# Connect to MongoDB server (default host and port)\n",
    "client = MongoClient('localhost', 27017)\n",
    "\n",
    "# Access the database (replace 'mydatabase' with your actual database name)\n",
    "db = client['mydatabase']\n",
    "\n",
    "# Access the collection (replace 'shoppers' with your actual collection name)\n",
    "mycol = db['shoppers']\n",
    "\n",
    "# Retrieve the document where name is \"Ashton\"\n",
    "query = {\"name\": \"Ashton\"}\n",
    "ashton_document = mycol.find_one(query)\n",
    "\n",
    "# Print the retrieved document\n",
    "print(\"Document with name 'Ashton':\", ashton_document)\n"
   ]
  },
  {
   "cell_type": "markdown",
   "metadata": {
    "id": "DFCVFHu7B_ch"
   },
   "source": [
    "This returns (and prints) all documents in the collection:"
   ]
  },
  {
   "cell_type": "code",
   "execution_count": null,
   "metadata": {
    "id": "UXVB_CSMB_ch"
   },
   "outputs": [],
   "source": [
    "for x in mycol.find():\n",
    "    print(x)"
   ]
  },
  {
   "cell_type": "code",
   "execution_count": 79,
   "metadata": {},
   "outputs": [
    {
     "name": "stdout",
     "output_type": "stream",
     "text": [
      "{'_id': ObjectId('66b14dce424866c935a648eb'), 'name': 'Paul', 'address': 'Mansfield Ave'}\n",
      "{'_id': ObjectId('66b14e0b424866c935a648ef'), 'name': 'Rafa', 'address': 'Holder Drive'}\n",
      "{'_id': ObjectId('66b14e74424866c935a648f1'), 'name': 'Ashton', 'address': 'Axle St'}\n",
      "{'_id': ObjectId('66b14e74424866c935a648f2'), 'name': 'Benjamin', 'address': 'Green Dr'}\n",
      "{'_id': ObjectId('66b14e74424866c935a648f3'), 'name': 'Sally', 'address': 'Holly Blvd'}\n",
      "{'_id': ObjectId('66b14e74424866c935a648f4'), 'name': 'Helen', 'address': 'Castor Prom'}\n",
      "{'_id': ObjectId('66b14e74424866c935a648f5'), 'name': 'Craig', 'address': 'Parsons Way'}\n",
      "{'_id': ObjectId('66b14e74424866c935a648f6'), 'name': 'Betty', 'address': 'Watters St'}\n",
      "{'_id': ObjectId('66b14e74424866c935a648f7'), 'name': 'Aparna', 'address': 'Yonder Dr'}\n",
      "{'_id': ObjectId('66b14e74424866c935a648f8'), 'name': 'Kent', 'address': 'Garrison St'}\n",
      "{'_id': ObjectId('66b14e74424866c935a648f9'), 'name': 'Violet', 'address': 'Station St'}\n",
      "{'_id': ObjectId('66b14e74424866c935a648fa'), 'name': 'Svetlana', 'address': 'Wayman Ave'}\n",
      "{'_id': ObjectId('66b14e8e424866c935a648fc'), 'name': 'Ashton', 'address': 'Axle St'}\n",
      "{'_id': ObjectId('66b14e8e424866c935a648fd'), 'name': 'Benjamin', 'address': 'Green Dr'}\n",
      "{'_id': ObjectId('66b14e8e424866c935a648fe'), 'name': 'Sally', 'address': 'Holly Blvd'}\n",
      "{'_id': ObjectId('66b14e8e424866c935a648ff'), 'name': 'Helen', 'address': 'Castor Prom'}\n",
      "{'_id': ObjectId('66b14e8e424866c935a64900'), 'name': 'Craig', 'address': 'Parsons Way'}\n",
      "{'_id': ObjectId('66b14e8e424866c935a64901'), 'name': 'Betty', 'address': 'Watters St'}\n",
      "{'_id': ObjectId('66b14e8e424866c935a64902'), 'name': 'Aparna', 'address': 'Yonder Dr'}\n",
      "{'_id': ObjectId('66b14e8e424866c935a64903'), 'name': 'Kent', 'address': 'Garrison St'}\n",
      "{'_id': ObjectId('66b14e8e424866c935a64904'), 'name': 'Violet', 'address': 'Station St'}\n",
      "{'_id': ObjectId('66b14e8e424866c935a64905'), 'name': 'Svetlana', 'address': 'Wayman Ave'}\n",
      "{'_id': 1, 'name': 'Alice', 'address': '123 Elm Street'}\n",
      "{'_id': 2, 'name': 'Bob', 'address': '456 Oak Avenue'}\n",
      "{'_id': 3, 'name': 'Charlie', 'address': '789 Pine Road'}\n",
      "{'_id': 4, 'name': 'David', 'address': '101 Maple Lane'}\n",
      "{'_id': 5, 'name': 'Eve', 'address': '202 Birch Blvd'}\n",
      "{'_id': ObjectId('66b14f7b424866c935a6490f'), 'name': 'Ashton', 'address': 'Axle St'}\n",
      "{'_id': ObjectId('66b14f7b424866c935a64910'), 'name': 'Benjamin', 'address': 'Green Dr'}\n",
      "{'_id': ObjectId('66b14f7b424866c935a64911'), 'name': 'Sally', 'address': 'Holly Blvd'}\n",
      "{'_id': ObjectId('66b14f7b424866c935a64912'), 'name': 'Helen', 'address': 'Castor Prom'}\n",
      "{'_id': ObjectId('66b14f7b424866c935a64913'), 'name': 'Craig', 'address': 'Parsons Way'}\n",
      "{'_id': ObjectId('66b14f7b424866c935a64914'), 'name': 'Betty', 'address': 'Watters St'}\n",
      "{'_id': ObjectId('66b14f7b424866c935a64915'), 'name': 'Aparna', 'address': 'Yonder Dr'}\n",
      "{'_id': ObjectId('66b14f7b424866c935a64916'), 'name': 'Kent', 'address': 'Garrison St'}\n",
      "{'_id': ObjectId('66b14f7b424866c935a64917'), 'name': 'Violet', 'address': 'Station St'}\n",
      "{'_id': ObjectId('66b14f7b424866c935a64918'), 'name': 'Svetlana', 'address': 'Wayman Ave'}\n",
      "{'_id': ObjectId('66b14f7d424866c935a6491a'), 'name': 'Ashton', 'address': 'Axle St'}\n",
      "{'_id': ObjectId('66b14f7d424866c935a6491b'), 'name': 'Benjamin', 'address': 'Green Dr'}\n",
      "{'_id': ObjectId('66b14f7d424866c935a6491c'), 'name': 'Sally', 'address': 'Holly Blvd'}\n",
      "{'_id': ObjectId('66b14f7d424866c935a6491d'), 'name': 'Helen', 'address': 'Castor Prom'}\n",
      "{'_id': ObjectId('66b14f7d424866c935a6491e'), 'name': 'Craig', 'address': 'Parsons Way'}\n",
      "{'_id': ObjectId('66b14f7d424866c935a6491f'), 'name': 'Betty', 'address': 'Watters St'}\n",
      "{'_id': ObjectId('66b14f7d424866c935a64920'), 'name': 'Aparna', 'address': 'Yonder Dr'}\n",
      "{'_id': ObjectId('66b14f7d424866c935a64921'), 'name': 'Kent', 'address': 'Garrison St'}\n",
      "{'_id': ObjectId('66b14f7d424866c935a64922'), 'name': 'Violet', 'address': 'Station St'}\n",
      "{'_id': ObjectId('66b14f7d424866c935a64923'), 'name': 'Svetlana', 'address': 'Wayman Ave'}\n",
      "{'_id': 13, 'name': 'John', 'address': 'Elm Street'}\n",
      "{'_id': 14, 'name': 'Alice', 'address': 'Maple Avenue'}\n",
      "{'_id': 15, 'name': 'Bob', 'address': 'Oak Drive'}\n",
      "{'_id': 16, 'name': 'Carol', 'address': 'Pine Lane'}\n",
      "{'_id': 17, 'name': 'Dave', 'address': 'Cedar Road'}\n",
      "{'_id': 12, 'name': 'Lola', 'address': 'Prospect Dr'}\n"
     ]
    }
   ],
   "source": [
    "from pymongo import MongoClient\n",
    "\n",
    "# Connect to MongoDB server (default host and port)\n",
    "client = MongoClient('localhost', 27017)\n",
    "\n",
    "# Access the database (replace 'mydatabase' with your actual database name)\n",
    "db = client['mydatabase']\n",
    "\n",
    "# Access the collection (replace 'shoppers' with your actual collection name)\n",
    "mycol = db['shoppers']\n",
    "\n",
    "# Retrieve and print all documents in the collection\n",
    "for document in mycol.find():\n",
    "    print(document)\n"
   ]
  },
  {
   "cell_type": "markdown",
   "metadata": {
    "id": "6dQsHIF6B_cj"
   },
   "source": [
    "This returns only the name and address fields:"
   ]
  },
  {
   "cell_type": "code",
   "execution_count": 87,
   "metadata": {
    "id": "OKY_Buz0B_ck"
   },
   "outputs": [
    {
     "name": "stdout",
     "output_type": "stream",
     "text": [
      "{'name': 'Paul', 'address': 'Mansfield Ave'}\n",
      "{'name': 'Rafa', 'address': 'Holder Drive'}\n",
      "{'name': 'Ashton', 'address': 'Axle St'}\n",
      "{'name': 'Benjamin', 'address': 'Green Dr'}\n",
      "{'name': 'Sally', 'address': 'Holly Blvd'}\n",
      "{'name': 'Helen', 'address': 'Castor Prom'}\n",
      "{'name': 'Craig', 'address': 'Parsons Way'}\n",
      "{'name': 'Betty', 'address': 'Watters St'}\n",
      "{'name': 'Aparna', 'address': 'Yonder Dr'}\n",
      "{'name': 'Kent', 'address': 'Garrison St'}\n",
      "{'name': 'Violet', 'address': 'Station St'}\n",
      "{'name': 'Svetlana', 'address': 'Wayman Ave'}\n",
      "{'name': 'Ashton', 'address': 'Axle St'}\n",
      "{'name': 'Benjamin', 'address': 'Green Dr'}\n",
      "{'name': 'Sally', 'address': 'Holly Blvd'}\n",
      "{'name': 'Helen', 'address': 'Castor Prom'}\n",
      "{'name': 'Craig', 'address': 'Parsons Way'}\n",
      "{'name': 'Betty', 'address': 'Watters St'}\n",
      "{'name': 'Aparna', 'address': 'Yonder Dr'}\n",
      "{'name': 'Kent', 'address': 'Garrison St'}\n",
      "{'name': 'Violet', 'address': 'Station St'}\n",
      "{'name': 'Svetlana', 'address': 'Wayman Ave'}\n",
      "{'name': 'Alice', 'address': '123 Elm Street'}\n",
      "{'name': 'Bob', 'address': '456 Oak Avenue'}\n",
      "{'name': 'Charlie', 'address': '789 Pine Road'}\n",
      "{'name': 'David', 'address': '101 Maple Lane'}\n",
      "{'name': 'Eve', 'address': '202 Birch Blvd'}\n",
      "{'name': 'Ashton', 'address': 'Axle St'}\n",
      "{'name': 'Benjamin', 'address': 'Green Dr'}\n",
      "{'name': 'Sally', 'address': 'Holly Blvd'}\n",
      "{'name': 'Helen', 'address': 'Castor Prom'}\n",
      "{'name': 'Craig', 'address': 'Parsons Way'}\n",
      "{'name': 'Betty', 'address': 'Watters St'}\n",
      "{'name': 'Aparna', 'address': 'Yonder Dr'}\n",
      "{'name': 'Kent', 'address': 'Garrison St'}\n",
      "{'name': 'Violet', 'address': 'Station St'}\n",
      "{'name': 'Svetlana', 'address': 'Wayman Ave'}\n",
      "{'name': 'Ashton', 'address': 'Axle St'}\n",
      "{'name': 'Benjamin', 'address': 'Green Dr'}\n",
      "{'name': 'Sally', 'address': 'Holly Blvd'}\n",
      "{'name': 'Helen', 'address': 'Castor Prom'}\n",
      "{'name': 'Craig', 'address': 'Parsons Way'}\n",
      "{'name': 'Betty', 'address': 'Watters St'}\n",
      "{'name': 'Aparna', 'address': 'Yonder Dr'}\n",
      "{'name': 'Kent', 'address': 'Garrison St'}\n",
      "{'name': 'Violet', 'address': 'Station St'}\n",
      "{'name': 'Svetlana', 'address': 'Wayman Ave'}\n",
      "{'name': 'John', 'address': 'Elm Street'}\n",
      "{'name': 'Alice', 'address': 'Maple Avenue'}\n",
      "{'name': 'Bob', 'address': 'Oak Drive'}\n",
      "{'name': 'Carol', 'address': 'Pine Lane'}\n",
      "{'name': 'Dave', 'address': 'Cedar Road'}\n",
      "{'name': 'Lola', 'address': 'Prospect Dr'}\n"
     ]
    }
   ],
   "source": [
    "for x in mycol.find({},{ \"_id\": 0, \"name\": 1, \"address\": 1 }):\n",
    "    print(x)"
   ]
  },
  {
   "cell_type": "code",
   "execution_count": 83,
   "metadata": {
    "id": "FP14yQUQB_cn"
   },
   "outputs": [
    {
     "name": "stdout",
     "output_type": "stream",
     "text": [
      "{'name': 'Paul', 'address': 'Mansfield Ave'}\n",
      "{'name': 'Rafa', 'address': 'Holder Drive'}\n",
      "{'name': 'Ashton', 'address': 'Axle St'}\n",
      "{'name': 'Benjamin', 'address': 'Green Dr'}\n",
      "{'name': 'Sally', 'address': 'Holly Blvd'}\n",
      "{'name': 'Helen', 'address': 'Castor Prom'}\n",
      "{'name': 'Craig', 'address': 'Parsons Way'}\n",
      "{'name': 'Betty', 'address': 'Watters St'}\n",
      "{'name': 'Aparna', 'address': 'Yonder Dr'}\n",
      "{'name': 'Kent', 'address': 'Garrison St'}\n",
      "{'name': 'Violet', 'address': 'Station St'}\n",
      "{'name': 'Svetlana', 'address': 'Wayman Ave'}\n",
      "{'name': 'Ashton', 'address': 'Axle St'}\n",
      "{'name': 'Benjamin', 'address': 'Green Dr'}\n",
      "{'name': 'Sally', 'address': 'Holly Blvd'}\n",
      "{'name': 'Helen', 'address': 'Castor Prom'}\n",
      "{'name': 'Craig', 'address': 'Parsons Way'}\n",
      "{'name': 'Betty', 'address': 'Watters St'}\n",
      "{'name': 'Aparna', 'address': 'Yonder Dr'}\n",
      "{'name': 'Kent', 'address': 'Garrison St'}\n",
      "{'name': 'Violet', 'address': 'Station St'}\n",
      "{'name': 'Svetlana', 'address': 'Wayman Ave'}\n",
      "{'name': 'Alice', 'address': '123 Elm Street'}\n",
      "{'name': 'Bob', 'address': '456 Oak Avenue'}\n",
      "{'name': 'Charlie', 'address': '789 Pine Road'}\n",
      "{'name': 'David', 'address': '101 Maple Lane'}\n",
      "{'name': 'Eve', 'address': '202 Birch Blvd'}\n",
      "{'name': 'Ashton', 'address': 'Axle St'}\n",
      "{'name': 'Benjamin', 'address': 'Green Dr'}\n",
      "{'name': 'Sally', 'address': 'Holly Blvd'}\n",
      "{'name': 'Helen', 'address': 'Castor Prom'}\n",
      "{'name': 'Craig', 'address': 'Parsons Way'}\n",
      "{'name': 'Betty', 'address': 'Watters St'}\n",
      "{'name': 'Aparna', 'address': 'Yonder Dr'}\n",
      "{'name': 'Kent', 'address': 'Garrison St'}\n",
      "{'name': 'Violet', 'address': 'Station St'}\n",
      "{'name': 'Svetlana', 'address': 'Wayman Ave'}\n",
      "{'name': 'Ashton', 'address': 'Axle St'}\n",
      "{'name': 'Benjamin', 'address': 'Green Dr'}\n",
      "{'name': 'Sally', 'address': 'Holly Blvd'}\n",
      "{'name': 'Helen', 'address': 'Castor Prom'}\n",
      "{'name': 'Craig', 'address': 'Parsons Way'}\n",
      "{'name': 'Betty', 'address': 'Watters St'}\n",
      "{'name': 'Aparna', 'address': 'Yonder Dr'}\n",
      "{'name': 'Kent', 'address': 'Garrison St'}\n",
      "{'name': 'Violet', 'address': 'Station St'}\n",
      "{'name': 'Svetlana', 'address': 'Wayman Ave'}\n",
      "{'name': 'John', 'address': 'Elm Street'}\n",
      "{'name': 'Alice', 'address': 'Maple Avenue'}\n",
      "{'name': 'Bob', 'address': 'Oak Drive'}\n",
      "{'name': 'Carol', 'address': 'Pine Lane'}\n",
      "{'name': 'Dave', 'address': 'Cedar Road'}\n",
      "{'name': 'Lola', 'address': 'Prospect Dr'}\n"
     ]
    }
   ],
   "source": [
    "#ANSWER\n",
    "from pymongo import MongoClient\n",
    "\n",
    "# Connect to MongoDB server (default host and port)\n",
    "client = MongoClient('localhost', 27017)\n",
    "\n",
    "# Access the database (replace 'mydatabase' with your actual database name)\n",
    "db = client['mydatabase']\n",
    "\n",
    "# Access the collection (replace 'shoppers' with your actual collection name)\n",
    "mycol = db['shoppers']\n",
    "\n",
    "# Retrieve and print specific fields from all documents in the collection\n",
    "for x in mycol.find({}, { \"_id\": 0, \"name\": 1, \"address\": 1 }):\n",
    "    print(x)\n",
    "\n"
   ]
  },
  {
   "cell_type": "markdown",
   "metadata": {
    "id": "esHLntbmB_cp"
   },
   "source": [
    "So, we must explicitly use `\"_id\": 0` to exclude it, but for other fields we simply omit them from the dict argument."
   ]
  },
  {
   "cell_type": "markdown",
   "metadata": {
    "id": "hSOdFGEpB_cq"
   },
   "source": [
    "To include field conditionals in a query, we use `$` operators. This finds addresses starting with \"S\" or greater:"
   ]
  },
  {
   "cell_type": "code",
   "execution_count": 89,
   "metadata": {
    "id": "KaHOWDwkB_cq",
    "outputId": "ad0a4e7b-72ba-4d56-9279-1fc242e30cf1"
   },
   "outputs": [
    {
     "name": "stdout",
     "output_type": "stream",
     "text": [
      "{'_id': ObjectId('66b14e74424866c935a648f6'), 'name': 'Betty', 'address': 'Watters St'}\n",
      "{'_id': ObjectId('66b14e74424866c935a648f7'), 'name': 'Aparna', 'address': 'Yonder Dr'}\n",
      "{'_id': ObjectId('66b14e74424866c935a648f9'), 'name': 'Violet', 'address': 'Station St'}\n",
      "{'_id': ObjectId('66b14e74424866c935a648fa'), 'name': 'Svetlana', 'address': 'Wayman Ave'}\n",
      "{'_id': ObjectId('66b14e8e424866c935a64901'), 'name': 'Betty', 'address': 'Watters St'}\n",
      "{'_id': ObjectId('66b14e8e424866c935a64902'), 'name': 'Aparna', 'address': 'Yonder Dr'}\n",
      "{'_id': ObjectId('66b14e8e424866c935a64904'), 'name': 'Violet', 'address': 'Station St'}\n",
      "{'_id': ObjectId('66b14e8e424866c935a64905'), 'name': 'Svetlana', 'address': 'Wayman Ave'}\n",
      "{'_id': ObjectId('66b14f7b424866c935a64914'), 'name': 'Betty', 'address': 'Watters St'}\n",
      "{'_id': ObjectId('66b14f7b424866c935a64915'), 'name': 'Aparna', 'address': 'Yonder Dr'}\n",
      "{'_id': ObjectId('66b14f7b424866c935a64917'), 'name': 'Violet', 'address': 'Station St'}\n",
      "{'_id': ObjectId('66b14f7b424866c935a64918'), 'name': 'Svetlana', 'address': 'Wayman Ave'}\n",
      "{'_id': ObjectId('66b14f7d424866c935a6491f'), 'name': 'Betty', 'address': 'Watters St'}\n",
      "{'_id': ObjectId('66b14f7d424866c935a64920'), 'name': 'Aparna', 'address': 'Yonder Dr'}\n",
      "{'_id': ObjectId('66b14f7d424866c935a64922'), 'name': 'Violet', 'address': 'Station St'}\n",
      "{'_id': ObjectId('66b14f7d424866c935a64923'), 'name': 'Svetlana', 'address': 'Wayman Ave'}\n"
     ]
    }
   ],
   "source": [
    "myquery = { \"address\": { \"$gt\": \"S\" } }\n",
    "mydoc = mycol.find(myquery)\n",
    "for x in mydoc:\n",
    "    print(x)"
   ]
  },
  {
   "cell_type": "markdown",
   "metadata": {
    "id": "i3fUXWpiB_cs"
   },
   "source": [
    "Here are some more comparison operators:\n",
    "\n",
    "            $gt, $gte, $eq, $in, $nin, $exists, $and, $or, $not\n",
    "            \n",
    "Experiment with these until you understand how to use them."
   ]
  },
  {
   "cell_type": "code",
   "execution_count": null,
   "metadata": {
    "id": "ensDpd9VB_ct"
   },
   "outputs": [],
   "source": []
  },
  {
   "cell_type": "markdown",
   "metadata": {
    "id": "IxvWRoS3B_cu"
   },
   "source": [
    "Now find all docs with an address that begins with \"W\":  \n",
    "(HINT: The value for \"address\" in the argument should be the regex-based dict { \"$regex\": \"^W\" }.)"
   ]
  },
  {
   "cell_type": "code",
   "execution_count": 91,
   "metadata": {
    "id": "i5zMYTsdB_cu"
   },
   "outputs": [
    {
     "name": "stdout",
     "output_type": "stream",
     "text": [
      "{'name': 'Betty', 'address': 'Watters St'}\n",
      "{'name': 'Svetlana', 'address': 'Wayman Ave'}\n",
      "{'name': 'Betty', 'address': 'Watters St'}\n",
      "{'name': 'Svetlana', 'address': 'Wayman Ave'}\n",
      "{'name': 'Betty', 'address': 'Watters St'}\n",
      "{'name': 'Svetlana', 'address': 'Wayman Ave'}\n",
      "{'name': 'Betty', 'address': 'Watters St'}\n",
      "{'name': 'Svetlana', 'address': 'Wayman Ave'}\n"
     ]
    }
   ],
   "source": [
    "#ANSWER:\n",
    "from pymongo import MongoClient\n",
    "\n",
    "# Connect to MongoDB server (default host and port)\n",
    "client = MongoClient('localhost', 27017)\n",
    "\n",
    "# Access the database (replace 'mydatabase' with your actual database name)\n",
    "db = client['mydatabase']\n",
    "\n",
    "# Access the collection (replace 'shoppers' with your actual collection name)\n",
    "mycol = db['shoppers']\n",
    "\n",
    "# Query to find documents with address starting with \"W\"\n",
    "query = {\"address\": {\"$regex\": \"^W\"}}\n",
    "\n",
    "# Retrieve and print matching documents\n",
    "for x in mycol.find(query, { \"_id\": 0, \"name\": 1, \"address\": 1 }):\n",
    "    print(x)\n"
   ]
  },
  {
   "cell_type": "markdown",
   "metadata": {
    "id": "B1W9jlEnB_cw"
   },
   "source": [
    "Sorting can be applied by invoking the sort() method after the find() method. Sort the collection by the name field:"
   ]
  },
  {
   "cell_type": "code",
   "execution_count": 93,
   "metadata": {
    "id": "fzxxFYrtB_cw"
   },
   "outputs": [
    {
     "name": "stdout",
     "output_type": "stream",
     "text": [
      "{'_id': 1, 'name': 'Alice', 'address': '123 Elm Street'}\n",
      "{'_id': 14, 'name': 'Alice', 'address': 'Maple Avenue'}\n",
      "{'_id': ObjectId('66b14e74424866c935a648f7'), 'name': 'Aparna', 'address': 'Yonder Dr'}\n",
      "{'_id': ObjectId('66b14e8e424866c935a64902'), 'name': 'Aparna', 'address': 'Yonder Dr'}\n",
      "{'_id': ObjectId('66b14f7b424866c935a64915'), 'name': 'Aparna', 'address': 'Yonder Dr'}\n",
      "{'_id': ObjectId('66b14f7d424866c935a64920'), 'name': 'Aparna', 'address': 'Yonder Dr'}\n",
      "{'_id': ObjectId('66b14e74424866c935a648f1'), 'name': 'Ashton', 'address': 'Axle St'}\n",
      "{'_id': ObjectId('66b14e8e424866c935a648fc'), 'name': 'Ashton', 'address': 'Axle St'}\n",
      "{'_id': ObjectId('66b14f7b424866c935a6490f'), 'name': 'Ashton', 'address': 'Axle St'}\n",
      "{'_id': ObjectId('66b14f7d424866c935a6491a'), 'name': 'Ashton', 'address': 'Axle St'}\n",
      "{'_id': ObjectId('66b14e74424866c935a648f2'), 'name': 'Benjamin', 'address': 'Green Dr'}\n",
      "{'_id': ObjectId('66b14e8e424866c935a648fd'), 'name': 'Benjamin', 'address': 'Green Dr'}\n",
      "{'_id': ObjectId('66b14f7b424866c935a64910'), 'name': 'Benjamin', 'address': 'Green Dr'}\n",
      "{'_id': ObjectId('66b14f7d424866c935a6491b'), 'name': 'Benjamin', 'address': 'Green Dr'}\n",
      "{'_id': ObjectId('66b14e74424866c935a648f6'), 'name': 'Betty', 'address': 'Watters St'}\n",
      "{'_id': ObjectId('66b14e8e424866c935a64901'), 'name': 'Betty', 'address': 'Watters St'}\n",
      "{'_id': ObjectId('66b14f7b424866c935a64914'), 'name': 'Betty', 'address': 'Watters St'}\n",
      "{'_id': ObjectId('66b14f7d424866c935a6491f'), 'name': 'Betty', 'address': 'Watters St'}\n",
      "{'_id': 2, 'name': 'Bob', 'address': '456 Oak Avenue'}\n",
      "{'_id': 15, 'name': 'Bob', 'address': 'Oak Drive'}\n",
      "{'_id': 16, 'name': 'Carol', 'address': 'Pine Lane'}\n",
      "{'_id': 3, 'name': 'Charlie', 'address': '789 Pine Road'}\n",
      "{'_id': ObjectId('66b14e74424866c935a648f5'), 'name': 'Craig', 'address': 'Parsons Way'}\n",
      "{'_id': ObjectId('66b14e8e424866c935a64900'), 'name': 'Craig', 'address': 'Parsons Way'}\n",
      "{'_id': ObjectId('66b14f7b424866c935a64913'), 'name': 'Craig', 'address': 'Parsons Way'}\n",
      "{'_id': ObjectId('66b14f7d424866c935a6491e'), 'name': 'Craig', 'address': 'Parsons Way'}\n",
      "{'_id': 17, 'name': 'Dave', 'address': 'Cedar Road'}\n",
      "{'_id': 4, 'name': 'David', 'address': '101 Maple Lane'}\n",
      "{'_id': 5, 'name': 'Eve', 'address': '202 Birch Blvd'}\n",
      "{'_id': ObjectId('66b14e74424866c935a648f4'), 'name': 'Helen', 'address': 'Castor Prom'}\n",
      "{'_id': ObjectId('66b14e8e424866c935a648ff'), 'name': 'Helen', 'address': 'Castor Prom'}\n",
      "{'_id': ObjectId('66b14f7b424866c935a64912'), 'name': 'Helen', 'address': 'Castor Prom'}\n",
      "{'_id': ObjectId('66b14f7d424866c935a6491d'), 'name': 'Helen', 'address': 'Castor Prom'}\n",
      "{'_id': 13, 'name': 'John', 'address': 'Elm Street'}\n",
      "{'_id': ObjectId('66b14e74424866c935a648f8'), 'name': 'Kent', 'address': 'Garrison St'}\n",
      "{'_id': ObjectId('66b14e8e424866c935a64903'), 'name': 'Kent', 'address': 'Garrison St'}\n",
      "{'_id': ObjectId('66b14f7b424866c935a64916'), 'name': 'Kent', 'address': 'Garrison St'}\n",
      "{'_id': ObjectId('66b14f7d424866c935a64921'), 'name': 'Kent', 'address': 'Garrison St'}\n",
      "{'_id': 12, 'name': 'Lola', 'address': 'Prospect Dr'}\n",
      "{'_id': ObjectId('66b14dce424866c935a648eb'), 'name': 'Paul', 'address': 'Mansfield Ave'}\n",
      "{'_id': ObjectId('66b14e0b424866c935a648ef'), 'name': 'Rafa', 'address': 'Holder Drive'}\n",
      "{'_id': ObjectId('66b14e74424866c935a648f3'), 'name': 'Sally', 'address': 'Holly Blvd'}\n",
      "{'_id': ObjectId('66b14e8e424866c935a648fe'), 'name': 'Sally', 'address': 'Holly Blvd'}\n",
      "{'_id': ObjectId('66b14f7b424866c935a64911'), 'name': 'Sally', 'address': 'Holly Blvd'}\n",
      "{'_id': ObjectId('66b14f7d424866c935a6491c'), 'name': 'Sally', 'address': 'Holly Blvd'}\n",
      "{'_id': ObjectId('66b14e74424866c935a648fa'), 'name': 'Svetlana', 'address': 'Wayman Ave'}\n",
      "{'_id': ObjectId('66b14e8e424866c935a64905'), 'name': 'Svetlana', 'address': 'Wayman Ave'}\n",
      "{'_id': ObjectId('66b14f7b424866c935a64918'), 'name': 'Svetlana', 'address': 'Wayman Ave'}\n",
      "{'_id': ObjectId('66b14f7d424866c935a64923'), 'name': 'Svetlana', 'address': 'Wayman Ave'}\n",
      "{'_id': ObjectId('66b14e74424866c935a648f9'), 'name': 'Violet', 'address': 'Station St'}\n",
      "{'_id': ObjectId('66b14e8e424866c935a64904'), 'name': 'Violet', 'address': 'Station St'}\n",
      "{'_id': ObjectId('66b14f7b424866c935a64917'), 'name': 'Violet', 'address': 'Station St'}\n",
      "{'_id': ObjectId('66b14f7d424866c935a64922'), 'name': 'Violet', 'address': 'Station St'}\n"
     ]
    }
   ],
   "source": [
    "#ANSWER:\n",
    "from pymongo import MongoClient\n",
    "\n",
    "# Connect to MongoDB server (default host and port)\n",
    "client = MongoClient('localhost', 27017)\n",
    "\n",
    "# Access the database (replace 'mydatabase' with your actual database name)\n",
    "db = client['mydatabase']\n",
    "\n",
    "# Access the collection (replace 'shoppers' with your actual collection name)\n",
    "mycol = db['shoppers']\n",
    "\n",
    "# Query to find all documents, sorted by the 'name' field in ascending order\n",
    "query = {}\n",
    "sort_order = [(\"name\", 1)]  # 1 for ascending order\n",
    "\n",
    "# Retrieve and print sorted documents\n",
    "for x in mycol.find(query).sort(sort_order):\n",
    "    print(x)\n"
   ]
  },
  {
   "cell_type": "markdown",
   "metadata": {
    "id": "esbldZv0B_cx"
   },
   "source": [
    "Now sort in reverse order (HINT: The sort() method takes an optional second parameter.)"
   ]
  },
  {
   "cell_type": "code",
   "execution_count": 95,
   "metadata": {
    "id": "k5oDnwVb4Naw"
   },
   "outputs": [
    {
     "name": "stdout",
     "output_type": "stream",
     "text": [
      "{'_id': ObjectId('66b14e74424866c935a648f9'), 'name': 'Violet', 'address': 'Station St'}\n",
      "{'_id': ObjectId('66b14e8e424866c935a64904'), 'name': 'Violet', 'address': 'Station St'}\n",
      "{'_id': ObjectId('66b14f7b424866c935a64917'), 'name': 'Violet', 'address': 'Station St'}\n",
      "{'_id': ObjectId('66b14f7d424866c935a64922'), 'name': 'Violet', 'address': 'Station St'}\n",
      "{'_id': ObjectId('66b14e74424866c935a648fa'), 'name': 'Svetlana', 'address': 'Wayman Ave'}\n",
      "{'_id': ObjectId('66b14e8e424866c935a64905'), 'name': 'Svetlana', 'address': 'Wayman Ave'}\n",
      "{'_id': ObjectId('66b14f7b424866c935a64918'), 'name': 'Svetlana', 'address': 'Wayman Ave'}\n",
      "{'_id': ObjectId('66b14f7d424866c935a64923'), 'name': 'Svetlana', 'address': 'Wayman Ave'}\n",
      "{'_id': ObjectId('66b14e74424866c935a648f3'), 'name': 'Sally', 'address': 'Holly Blvd'}\n",
      "{'_id': ObjectId('66b14e8e424866c935a648fe'), 'name': 'Sally', 'address': 'Holly Blvd'}\n",
      "{'_id': ObjectId('66b14f7b424866c935a64911'), 'name': 'Sally', 'address': 'Holly Blvd'}\n",
      "{'_id': ObjectId('66b14f7d424866c935a6491c'), 'name': 'Sally', 'address': 'Holly Blvd'}\n",
      "{'_id': ObjectId('66b14e0b424866c935a648ef'), 'name': 'Rafa', 'address': 'Holder Drive'}\n",
      "{'_id': ObjectId('66b14dce424866c935a648eb'), 'name': 'Paul', 'address': 'Mansfield Ave'}\n",
      "{'_id': 12, 'name': 'Lola', 'address': 'Prospect Dr'}\n",
      "{'_id': ObjectId('66b14e74424866c935a648f8'), 'name': 'Kent', 'address': 'Garrison St'}\n",
      "{'_id': ObjectId('66b14e8e424866c935a64903'), 'name': 'Kent', 'address': 'Garrison St'}\n",
      "{'_id': ObjectId('66b14f7b424866c935a64916'), 'name': 'Kent', 'address': 'Garrison St'}\n",
      "{'_id': ObjectId('66b14f7d424866c935a64921'), 'name': 'Kent', 'address': 'Garrison St'}\n",
      "{'_id': 13, 'name': 'John', 'address': 'Elm Street'}\n",
      "{'_id': ObjectId('66b14e74424866c935a648f4'), 'name': 'Helen', 'address': 'Castor Prom'}\n",
      "{'_id': ObjectId('66b14e8e424866c935a648ff'), 'name': 'Helen', 'address': 'Castor Prom'}\n",
      "{'_id': ObjectId('66b14f7b424866c935a64912'), 'name': 'Helen', 'address': 'Castor Prom'}\n",
      "{'_id': ObjectId('66b14f7d424866c935a6491d'), 'name': 'Helen', 'address': 'Castor Prom'}\n",
      "{'_id': 5, 'name': 'Eve', 'address': '202 Birch Blvd'}\n",
      "{'_id': 4, 'name': 'David', 'address': '101 Maple Lane'}\n",
      "{'_id': 17, 'name': 'Dave', 'address': 'Cedar Road'}\n",
      "{'_id': ObjectId('66b14e74424866c935a648f5'), 'name': 'Craig', 'address': 'Parsons Way'}\n",
      "{'_id': ObjectId('66b14e8e424866c935a64900'), 'name': 'Craig', 'address': 'Parsons Way'}\n",
      "{'_id': ObjectId('66b14f7b424866c935a64913'), 'name': 'Craig', 'address': 'Parsons Way'}\n",
      "{'_id': ObjectId('66b14f7d424866c935a6491e'), 'name': 'Craig', 'address': 'Parsons Way'}\n",
      "{'_id': 3, 'name': 'Charlie', 'address': '789 Pine Road'}\n",
      "{'_id': 16, 'name': 'Carol', 'address': 'Pine Lane'}\n",
      "{'_id': 2, 'name': 'Bob', 'address': '456 Oak Avenue'}\n",
      "{'_id': 15, 'name': 'Bob', 'address': 'Oak Drive'}\n",
      "{'_id': ObjectId('66b14e74424866c935a648f6'), 'name': 'Betty', 'address': 'Watters St'}\n",
      "{'_id': ObjectId('66b14e8e424866c935a64901'), 'name': 'Betty', 'address': 'Watters St'}\n",
      "{'_id': ObjectId('66b14f7b424866c935a64914'), 'name': 'Betty', 'address': 'Watters St'}\n",
      "{'_id': ObjectId('66b14f7d424866c935a6491f'), 'name': 'Betty', 'address': 'Watters St'}\n",
      "{'_id': ObjectId('66b14e74424866c935a648f2'), 'name': 'Benjamin', 'address': 'Green Dr'}\n",
      "{'_id': ObjectId('66b14e8e424866c935a648fd'), 'name': 'Benjamin', 'address': 'Green Dr'}\n",
      "{'_id': ObjectId('66b14f7b424866c935a64910'), 'name': 'Benjamin', 'address': 'Green Dr'}\n",
      "{'_id': ObjectId('66b14f7d424866c935a6491b'), 'name': 'Benjamin', 'address': 'Green Dr'}\n",
      "{'_id': ObjectId('66b14e74424866c935a648f1'), 'name': 'Ashton', 'address': 'Axle St'}\n",
      "{'_id': ObjectId('66b14e8e424866c935a648fc'), 'name': 'Ashton', 'address': 'Axle St'}\n",
      "{'_id': ObjectId('66b14f7b424866c935a6490f'), 'name': 'Ashton', 'address': 'Axle St'}\n",
      "{'_id': ObjectId('66b14f7d424866c935a6491a'), 'name': 'Ashton', 'address': 'Axle St'}\n",
      "{'_id': ObjectId('66b14e74424866c935a648f7'), 'name': 'Aparna', 'address': 'Yonder Dr'}\n",
      "{'_id': ObjectId('66b14e8e424866c935a64902'), 'name': 'Aparna', 'address': 'Yonder Dr'}\n",
      "{'_id': ObjectId('66b14f7b424866c935a64915'), 'name': 'Aparna', 'address': 'Yonder Dr'}\n",
      "{'_id': ObjectId('66b14f7d424866c935a64920'), 'name': 'Aparna', 'address': 'Yonder Dr'}\n",
      "{'_id': 1, 'name': 'Alice', 'address': '123 Elm Street'}\n",
      "{'_id': 14, 'name': 'Alice', 'address': 'Maple Avenue'}\n"
     ]
    }
   ],
   "source": [
    "#ANSWER\n",
    "from pymongo import MongoClient\n",
    "\n",
    "# Connect to MongoDB server (default host and port)\n",
    "client = MongoClient('localhost', 27017)\n",
    "\n",
    "# Access the database (replace 'mydatabase' with your actual database name)\n",
    "db = client['mydatabase']\n",
    "\n",
    "# Access the collection (replace 'shoppers' with your actual collection name)\n",
    "mycol = db['shoppers']\n",
    "\n",
    "# Query to find all documents, sorted by the 'name' field in descending order\n",
    "query = {}\n",
    "sort_order = [(\"name\", -1)]  # -1 for descending order\n",
    "\n",
    "# Retrieve and print sorted documents\n",
    "for x in mycol.find(query).sort(sort_order):\n",
    "    print(x)\n"
   ]
  },
  {
   "cell_type": "markdown",
   "metadata": {
    "id": "s0oVQyDGB_cy"
   },
   "source": [
    "A single record can be deleted by specifying some criterion:"
   ]
  },
  {
   "cell_type": "code",
   "execution_count": 97,
   "metadata": {
    "id": "8yxmQAs6B_cy",
    "outputId": "1bc9d528-4034-438e-a68b-acc7f11efce4"
   },
   "outputs": [
    {
     "data": {
      "text/plain": [
       "DeleteResult({'n': 1, 'ok': 1.0}, acknowledged=True)"
      ]
     },
     "execution_count": 97,
     "metadata": {},
     "output_type": "execute_result"
    }
   ],
   "source": [
    "mycol.delete_one({ \"address\": \"Castor Prom\" })"
   ]
  },
  {
   "cell_type": "markdown",
   "metadata": {
    "id": "QqH7lF-uB_c0"
   },
   "source": [
    "Now delete all docs with the 2-digit `Id` values:"
   ]
  },
  {
   "cell_type": "code",
   "execution_count": 99,
   "metadata": {
    "id": "0pyYX1YUB_c0"
   },
   "outputs": [
    {
     "name": "stdout",
     "output_type": "stream",
     "text": [
      "Number of documents deleted: 6\n"
     ]
    }
   ],
   "source": [
    "#ANSWER:\n",
    "from pymongo import MongoClient\n",
    "\n",
    "# Connect to MongoDB server (default host and port)\n",
    "client = MongoClient('localhost', 27017)\n",
    "\n",
    "# Access the database (replace 'mydatabase' with your actual database name)\n",
    "db = client['mydatabase']\n",
    "\n",
    "# Access the collection (replace 'shoppers' with your actual collection name)\n",
    "mycol = db['shoppers']\n",
    "\n",
    "# Query to match documents with 2-digit _id values (from 10 to 99)\n",
    "query = {\"_id\": {\"$gte\": 10, \"$lte\": 99}}\n",
    "\n",
    "# Delete matching documents\n",
    "result = mycol.delete_many(query)\n",
    "\n",
    "# Print the number of documents deleted\n",
    "print(f\"Number of documents deleted: {result.deleted_count}\")\n",
    "\n"
   ]
  },
  {
   "cell_type": "markdown",
   "metadata": {
    "id": "CsjxNZY6B_c1"
   },
   "source": [
    "This would delete all docs:\n",
    "`x = mycol.delete_many({})`\n",
    "\n",
    "This would remove the collection:\n",
    "`mycol.drop()`\n",
    "\n",
    "This would drop the database:\n",
    "`client.drop_database('test')`"
   ]
  },
  {
   "cell_type": "markdown",
   "metadata": {
    "id": "2Dnc3vItB_c2"
   },
   "source": [
    "Change the first instance of \"address\" == \"Garrison St\" to \"Somers Ave\" using update_one().  \n",
    "(HINT: The 1st parameter of update_one() is the criterion (query); the 2nd is dict specifying the field to change and its new value.)"
   ]
  },
  {
   "cell_type": "code",
   "execution_count": 101,
   "metadata": {
    "id": "lhd3SoGjB_c2"
   },
   "outputs": [
    {
     "name": "stdout",
     "output_type": "stream",
     "text": [
      "Matched count: 1\n",
      "Modified count: 1\n"
     ]
    }
   ],
   "source": [
    "#ANSWER:\n",
    "from pymongo import MongoClient\n",
    "\n",
    "# Connect to MongoDB server (default host and port)\n",
    "client = MongoClient('localhost', 27017)\n",
    "\n",
    "# Access the database (replace 'mydatabase' with your actual database name)\n",
    "db = client['mydatabase']\n",
    "\n",
    "# Access the collection (replace 'shoppers' with your actual collection name)\n",
    "mycol = db['shoppers']\n",
    "\n",
    "# Query to find the first document where address is \"Garrison St\"\n",
    "query = {\"address\": \"Garrison St\"}\n",
    "\n",
    "# Update operation to change address to \"Somers Ave\"\n",
    "update = {\"$set\": {\"address\": \"Somers Ave\"}}\n",
    "\n",
    "# Perform the update\n",
    "result = mycol.update_one(query, update)\n",
    "\n",
    "# Print the result of the update\n",
    "print(f\"Matched count: {result.matched_count}\")\n",
    "print(f\"Modified count: {result.modified_count}\")\n",
    "\n"
   ]
  },
  {
   "cell_type": "markdown",
   "metadata": {
    "id": "56frrtHFB_c3"
   },
   "source": [
    "The limit() method can be applied after the find() method to limit the number of docs returned. Show the first 5 docs:"
   ]
  },
  {
   "cell_type": "code",
   "execution_count": 103,
   "metadata": {
    "id": "iKI5zKUbB_c4",
    "scrolled": true
   },
   "outputs": [
    {
     "name": "stdout",
     "output_type": "stream",
     "text": [
      "{'_id': ObjectId('66b14dce424866c935a648eb'), 'name': 'Paul', 'address': 'Mansfield Ave'}\n",
      "{'_id': ObjectId('66b14e0b424866c935a648ef'), 'name': 'Rafa', 'address': 'Holder Drive'}\n",
      "{'_id': ObjectId('66b14e74424866c935a648f1'), 'name': 'Ashton', 'address': 'Axle St'}\n",
      "{'_id': ObjectId('66b14e74424866c935a648f2'), 'name': 'Benjamin', 'address': 'Green Dr'}\n",
      "{'_id': ObjectId('66b14e74424866c935a648f3'), 'name': 'Sally', 'address': 'Holly Blvd'}\n"
     ]
    }
   ],
   "source": [
    "#ANSWER:\n",
    "from pymongo import MongoClient\n",
    "\n",
    "# Connect to MongoDB server (default host and port)\n",
    "client = MongoClient('localhost', 27017)\n",
    "\n",
    "# Access the database (replace 'mydatabase' with your actual database name)\n",
    "db = client['mydatabase']\n",
    "\n",
    "# Access the collection (replace 'shoppers' with your actual collection name)\n",
    "mycol = db['shoppers']\n",
    "\n",
    "# Query to find all documents\n",
    "query = {}\n",
    "\n",
    "# Retrieve and print the first 5 documents\n",
    "for doc in mycol.find(query).limit(5):\n",
    "    print(doc)\n"
   ]
  },
  {
   "cell_type": "markdown",
   "metadata": {
    "id": "eT0nESi-B_c5"
   },
   "source": [
    "## PyMongo for Data Science"
   ]
  },
  {
   "cell_type": "markdown",
   "metadata": {
    "id": "S_MH0UFpB_c5"
   },
   "source": [
    "MongoDB has many more features of interest to developers, but the main focus of a data scientist will be wrangling and munging the data. It may or may not be desirable to do all the data munging in Pandas; for a large, distributed database, it may be imperative to perform aggregation in MongoDB."
   ]
  },
  {
   "cell_type": "code",
   "execution_count": 105,
   "metadata": {
    "id": "TM1rIsJuB_c5"
   },
   "outputs": [],
   "source": [
    "# Ref:  https://rsandstroem.github.io/MongoDBDemo.html\n",
    "\n",
    "import pandas as pd\n",
    "import numpy as np"
   ]
  },
  {
   "cell_type": "markdown",
   "metadata": {
    "id": "L6kZkdjRB_c7"
   },
   "source": [
    "The following code in the next few cells, will create a database named \"command_test\" which populates its data from a local JSON file called dummyData.json (you need to download this from the Google Classroom DATA folder) using the mongoimport program.\n",
    "\n",
    "**Step 1**. Using the command prompt (Windows) or Terminal (Mac) change to the directory containing the file mongoimport.exe (example: cd \"C:\\Program Files\\MongoDB\\Tools\\100\\bin\")"
   ]
  },
  {
   "cell_type": "markdown",
   "metadata": {
    "id": "gr7dgFCC4Naz"
   },
   "source": [
    "**Step 2**. After you have changed your directory, copy/paste the line below in the command prompt/ terminal after modifying \"dummydata.json\" to include the path on your system where the file is located:\n",
    "<br>\n",
    "\n",
    "      mongoimport --db command_test --collection people --drop --file \"dummyData.json\"       \n",
    "\n",
    "- db: stands for database name that you use --> in our case, it is \"command_test\"\n",
    "- collection: stands for the collection you created within the database --> in our case it is \"people\"\n",
    "- file: stands for the file path to your \"dummyData.json\" file, which you downloaded from our Google Classroom DATA folder - you may need to modify \"dummyData.json\""
   ]
  },
  {
   "cell_type": "markdown",
   "metadata": {
    "id": "xFH0rxoY4Naz"
   },
   "source": [
    "**Step 3**. Copy/paste the line below into the command prompt or terminal:\n",
    "<br>\n",
    "\n",
    "    mongoimport -d command_test -c people --file \"dummyData.json\"\n"
   ]
  },
  {
   "cell_type": "code",
   "execution_count": 115,
   "metadata": {
    "id": "6WP7YGNXKbpZ"
   },
   "outputs": [],
   "source": [
    "#client = MongoClient('localhost', 27017) #connects to your local mongoDB"
   ]
  },
  {
   "cell_type": "markdown",
   "metadata": {
    "id": "5ut5OAY14Naz"
   },
   "source": [
    "If the above is successful, running the next cell should produce three records corresponding to the youngest people."
   ]
  },
  {
   "cell_type": "code",
   "execution_count": 117,
   "metadata": {
    "id": "fXByi5IfB_c_"
   },
   "outputs": [
    {
     "name": "stdout",
     "output_type": "stream",
     "text": [
      "{'_id': ObjectId('66b153ddeb1472124cacdcd7'), 'Name': 'Sawyer, Neve M.', 'Age': 18, 'Country': 'Serbia', 'Location': '-34.37446, 174.0838'}\n",
      "{'_id': ObjectId('66b153ddeb1472124cacdc94'), 'Name': 'Townsend, Cadman I.', 'Age': 19, 'Country': 'Somalia', 'Location': '-87.69188, -144.16138'}\n",
      "{'_id': ObjectId('66b153ddeb1472124cacdcbf'), 'Name': 'Graham, Emerald O.', 'Age': 20, 'Country': 'Eritrea', 'Location': '61.35398, 28.04381'}\n"
     ]
    }
   ],
   "source": [
    "db = client.command_test\n",
    "collection = db.people\n",
    "cursor = collection.find().sort('Age',pymongo.ASCENDING).limit(3)\n",
    "for doc in cursor:\n",
    "    print (doc)"
   ]
  },
  {
   "cell_type": "markdown",
   "metadata": {
    "id": "vPnfkW2tB_dA"
   },
   "source": [
    "Here is a small demonstration of the MongoDB aggregation framework. We want to create a table of the number of persons in each country and their average age. To do it we group by country. We extract the results from MongoDB aggregation into a pandas dataframe, and use the country as index."
   ]
  },
  {
   "cell_type": "code",
   "execution_count": 119,
   "metadata": {
    "id": "s2q_B0m5B_dA"
   },
   "outputs": [
    {
     "data": {
      "text/html": [
       "<div>\n",
       "<style scoped>\n",
       "    .dataframe tbody tr th:only-of-type {\n",
       "        vertical-align: middle;\n",
       "    }\n",
       "\n",
       "    .dataframe tbody tr th {\n",
       "        vertical-align: top;\n",
       "    }\n",
       "\n",
       "    .dataframe thead th {\n",
       "        text-align: right;\n",
       "    }\n",
       "</style>\n",
       "<table border=\"1\" class=\"dataframe\">\n",
       "  <thead>\n",
       "    <tr style=\"text-align: right;\">\n",
       "      <th></th>\n",
       "      <th>AvgAge</th>\n",
       "      <th>Count</th>\n",
       "    </tr>\n",
       "    <tr>\n",
       "      <th>_id</th>\n",
       "      <th></th>\n",
       "      <th></th>\n",
       "    </tr>\n",
       "  </thead>\n",
       "  <tbody>\n",
       "    <tr>\n",
       "      <th>China</th>\n",
       "      <td>46.250000</td>\n",
       "      <td>4</td>\n",
       "    </tr>\n",
       "    <tr>\n",
       "      <th>Antarctica</th>\n",
       "      <td>46.333333</td>\n",
       "      <td>3</td>\n",
       "    </tr>\n",
       "    <tr>\n",
       "      <th>Guernsey</th>\n",
       "      <td>48.333333</td>\n",
       "      <td>3</td>\n",
       "    </tr>\n",
       "    <tr>\n",
       "      <th>Puerto Rico</th>\n",
       "      <td>26.500000</td>\n",
       "      <td>2</td>\n",
       "    </tr>\n",
       "    <tr>\n",
       "      <th>Heard Island and Mcdonald Islands</th>\n",
       "      <td>29.000000</td>\n",
       "      <td>2</td>\n",
       "    </tr>\n",
       "  </tbody>\n",
       "</table>\n",
       "</div>"
      ],
      "text/plain": [
       "                                      AvgAge  Count\n",
       "_id                                                \n",
       "China                              46.250000      4\n",
       "Antarctica                         46.333333      3\n",
       "Guernsey                           48.333333      3\n",
       "Puerto Rico                        26.500000      2\n",
       "Heard Island and Mcdonald Islands  29.000000      2"
      ]
     },
     "execution_count": 119,
     "metadata": {},
     "output_type": "execute_result"
    }
   ],
   "source": [
    "pipeline = [\n",
    "        {\"$group\": {\"_id\":\"$Country\",\n",
    "             \"AvgAge\":{\"$avg\":\"$Age\"},\n",
    "             \"Count\":{\"$sum\":1},\n",
    "        }},\n",
    "        {\"$sort\":{\"Count\":-1,\"AvgAge\":1}}\n",
    "]\n",
    "aggResult = collection.aggregate(pipeline) # returns a cursor\n",
    "\n",
    "df1 = pd.DataFrame(list(aggResult)) # use list to turn the cursor to an array of documents\n",
    "df1 = df1.set_index(\"_id\")\n",
    "df1.head()"
   ]
  },
  {
   "cell_type": "markdown",
   "metadata": {
    "id": "H9vaINaBB_dB"
   },
   "source": [
    "For simple cases one can either use a cursor through find(\"search term\") or use the \"$match\" operator in the aggregation framework, like this:"
   ]
  },
  {
   "cell_type": "code",
   "execution_count": 121,
   "metadata": {
    "id": "3oymmJpUB_dB"
   },
   "outputs": [
    {
     "data": {
      "text/html": [
       "<div>\n",
       "<style scoped>\n",
       "    .dataframe tbody tr th:only-of-type {\n",
       "        vertical-align: middle;\n",
       "    }\n",
       "\n",
       "    .dataframe tbody tr th {\n",
       "        vertical-align: top;\n",
       "    }\n",
       "\n",
       "    .dataframe thead th {\n",
       "        text-align: right;\n",
       "    }\n",
       "</style>\n",
       "<table border=\"1\" class=\"dataframe\">\n",
       "  <thead>\n",
       "    <tr style=\"text-align: right;\">\n",
       "      <th></th>\n",
       "      <th>_id</th>\n",
       "      <th>Name</th>\n",
       "      <th>Age</th>\n",
       "      <th>Country</th>\n",
       "      <th>Location</th>\n",
       "    </tr>\n",
       "  </thead>\n",
       "  <tbody>\n",
       "    <tr>\n",
       "      <th>0</th>\n",
       "      <td>66b153ddeb1472124cacdc91</td>\n",
       "      <td>Holman, Hasad O.</td>\n",
       "      <td>32</td>\n",
       "      <td>China</td>\n",
       "      <td>39.9127, 116.3833</td>\n",
       "    </tr>\n",
       "    <tr>\n",
       "      <th>1</th>\n",
       "      <td>66b153ddeb1472124cacdcd3</td>\n",
       "      <td>Byrd, Dante A.</td>\n",
       "      <td>43</td>\n",
       "      <td>China</td>\n",
       "      <td>31.2, 121.5</td>\n",
       "    </tr>\n",
       "    <tr>\n",
       "      <th>2</th>\n",
       "      <td>66b153ddeb1472124cacdcda</td>\n",
       "      <td>Carney, Tamekah I.</td>\n",
       "      <td>57</td>\n",
       "      <td>China</td>\n",
       "      <td>45.75, 126.6333</td>\n",
       "    </tr>\n",
       "    <tr>\n",
       "      <th>3</th>\n",
       "      <td>66b153ddeb1472124cacdce7</td>\n",
       "      <td>Mayer, Violet U.</td>\n",
       "      <td>53</td>\n",
       "      <td>China</td>\n",
       "      <td>40, 95</td>\n",
       "    </tr>\n",
       "  </tbody>\n",
       "</table>\n",
       "</div>"
      ],
      "text/plain": [
       "                        _id                Name  Age Country  \\\n",
       "0  66b153ddeb1472124cacdc91    Holman, Hasad O.   32   China   \n",
       "1  66b153ddeb1472124cacdcd3      Byrd, Dante A.   43   China   \n",
       "2  66b153ddeb1472124cacdcda  Carney, Tamekah I.   57   China   \n",
       "3  66b153ddeb1472124cacdce7    Mayer, Violet U.   53   China   \n",
       "\n",
       "            Location  \n",
       "0  39.9127, 116.3833  \n",
       "1        31.2, 121.5  \n",
       "2    45.75, 126.6333  \n",
       "3             40, 95  "
      ]
     },
     "execution_count": 121,
     "metadata": {},
     "output_type": "execute_result"
    }
   ],
   "source": [
    "pipeline = [\n",
    "        {\"$match\": {\"Country\":\"China\"}},\n",
    "]\n",
    "aggResult = collection.aggregate(pipeline)\n",
    "df2 = pd.DataFrame(list(aggResult))\n",
    "df2.head()"
   ]
  },
  {
   "cell_type": "markdown",
   "metadata": {
    "id": "terLdzDaB_dC"
   },
   "source": [
    "Now we can apply all the power of Python libraries to analyse and visualise the data. Here, we will use the folium package to plot markers for the locations of the people we just found in China (click on a marker to see their data):"
   ]
  },
  {
   "cell_type": "code",
   "execution_count": 123,
   "metadata": {
    "id": "v2lsaYlAB_dC"
   },
   "outputs": [],
   "source": [
    "# Un-comment and execute to install folium pkg (1st time only):\n",
    "# import sys\n",
    "# !{sys.executable} -m pip install folium"
   ]
  },
  {
   "cell_type": "code",
   "execution_count": 125,
   "metadata": {
    "id": "SuRbCt48B_dD"
   },
   "outputs": [
    {
     "name": "stdout",
     "output_type": "stream",
     "text": [
      "Folium version 0.14.0\n"
     ]
    },
    {
     "data": {
      "text/html": [
       "<div style=\"width:100%;\"><div style=\"position:relative;width:100%;height:0;padding-bottom:60%;\"><span style=\"color:#565656\">Make this Notebook Trusted to load map: File -> Trust Notebook</span><iframe srcdoc=\"&lt;!DOCTYPE html&gt;\n",
       "&lt;html&gt;\n",
       "&lt;head&gt;\n",
       "    \n",
       "    &lt;meta http-equiv=&quot;content-type&quot; content=&quot;text/html; charset=UTF-8&quot; /&gt;\n",
       "    \n",
       "        &lt;script&gt;\n",
       "            L_NO_TOUCH = false;\n",
       "            L_DISABLE_3D = false;\n",
       "        &lt;/script&gt;\n",
       "    \n",
       "    &lt;style&gt;html, body {width: 100%;height: 100%;margin: 0;padding: 0;}&lt;/style&gt;\n",
       "    &lt;style&gt;#map {position:absolute;top:0;bottom:0;right:0;left:0;}&lt;/style&gt;\n",
       "    &lt;script src=&quot;https://cdn.jsdelivr.net/npm/leaflet@1.9.3/dist/leaflet.js&quot;&gt;&lt;/script&gt;\n",
       "    &lt;script src=&quot;https://code.jquery.com/jquery-1.12.4.min.js&quot;&gt;&lt;/script&gt;\n",
       "    &lt;script src=&quot;https://cdn.jsdelivr.net/npm/bootstrap@5.2.2/dist/js/bootstrap.bundle.min.js&quot;&gt;&lt;/script&gt;\n",
       "    &lt;script src=&quot;https://cdnjs.cloudflare.com/ajax/libs/Leaflet.awesome-markers/2.0.2/leaflet.awesome-markers.js&quot;&gt;&lt;/script&gt;\n",
       "    &lt;link rel=&quot;stylesheet&quot; href=&quot;https://cdn.jsdelivr.net/npm/leaflet@1.9.3/dist/leaflet.css&quot;/&gt;\n",
       "    &lt;link rel=&quot;stylesheet&quot; href=&quot;https://cdn.jsdelivr.net/npm/bootstrap@5.2.2/dist/css/bootstrap.min.css&quot;/&gt;\n",
       "    &lt;link rel=&quot;stylesheet&quot; href=&quot;https://netdna.bootstrapcdn.com/bootstrap/3.0.0/css/bootstrap.min.css&quot;/&gt;\n",
       "    &lt;link rel=&quot;stylesheet&quot; href=&quot;https://cdn.jsdelivr.net/npm/@fortawesome/fontawesome-free@6.2.0/css/all.min.css&quot;/&gt;\n",
       "    &lt;link rel=&quot;stylesheet&quot; href=&quot;https://cdnjs.cloudflare.com/ajax/libs/Leaflet.awesome-markers/2.0.2/leaflet.awesome-markers.css&quot;/&gt;\n",
       "    &lt;link rel=&quot;stylesheet&quot; href=&quot;https://cdn.jsdelivr.net/gh/python-visualization/folium/folium/templates/leaflet.awesome.rotate.min.css&quot;/&gt;\n",
       "    \n",
       "            &lt;meta name=&quot;viewport&quot; content=&quot;width=device-width,\n",
       "                initial-scale=1.0, maximum-scale=1.0, user-scalable=no&quot; /&gt;\n",
       "            &lt;style&gt;\n",
       "                #map_242e66c997fb08598ae8e3c75d3e5b46 {\n",
       "                    position: relative;\n",
       "                    width: 100.0%;\n",
       "                    height: 100.0%;\n",
       "                    left: 0.0%;\n",
       "                    top: 0.0%;\n",
       "                }\n",
       "                .leaflet-container { font-size: 1rem; }\n",
       "            &lt;/style&gt;\n",
       "        \n",
       "&lt;/head&gt;\n",
       "&lt;body&gt;\n",
       "    \n",
       "    \n",
       "            &lt;div class=&quot;folium-map&quot; id=&quot;map_242e66c997fb08598ae8e3c75d3e5b46&quot; &gt;&lt;/div&gt;\n",
       "        \n",
       "&lt;/body&gt;\n",
       "&lt;script&gt;\n",
       "    \n",
       "    \n",
       "            var map_242e66c997fb08598ae8e3c75d3e5b46 = L.map(\n",
       "                &quot;map_242e66c997fb08598ae8e3c75d3e5b46&quot;,\n",
       "                {\n",
       "                    center: [35.0, 100.0],\n",
       "                    crs: L.CRS.EPSG3857,\n",
       "                    zoom: 4,\n",
       "                    zoomControl: true,\n",
       "                    preferCanvas: false,\n",
       "                }\n",
       "            );\n",
       "\n",
       "            \n",
       "\n",
       "        \n",
       "    \n",
       "            var tile_layer_6701a70756b39551fd49475614916ef9 = L.tileLayer(\n",
       "                &quot;https://{s}.tile.openstreetmap.org/{z}/{x}/{y}.png&quot;,\n",
       "                {&quot;attribution&quot;: &quot;Data by \\u0026copy; \\u003ca target=\\&quot;_blank\\&quot; href=\\&quot;http://openstreetmap.org\\&quot;\\u003eOpenStreetMap\\u003c/a\\u003e, under \\u003ca target=\\&quot;_blank\\&quot; href=\\&quot;http://www.openstreetmap.org/copyright\\&quot;\\u003eODbL\\u003c/a\\u003e.&quot;, &quot;detectRetina&quot;: false, &quot;maxNativeZoom&quot;: 18, &quot;maxZoom&quot;: 18, &quot;minZoom&quot;: 0, &quot;noWrap&quot;: false, &quot;opacity&quot;: 1, &quot;subdomains&quot;: &quot;abc&quot;, &quot;tms&quot;: false}\n",
       "            ).addTo(map_242e66c997fb08598ae8e3c75d3e5b46);\n",
       "        \n",
       "    \n",
       "            var marker_b817351c1f56ce5f6468ef15f47a0dc3 = L.marker(\n",
       "                [39.9127, 116.3833],\n",
       "                {}\n",
       "            ).addTo(map_242e66c997fb08598ae8e3c75d3e5b46);\n",
       "        \n",
       "    \n",
       "        var popup_a5344b046acc17ce2d6a614e5495a061 = L.popup({&quot;maxWidth&quot;: &quot;100%&quot;});\n",
       "\n",
       "        \n",
       "            \n",
       "                var html_e77b66a67a6179b2015be51456bdaf3f = $(`&lt;div id=&quot;html_e77b66a67a6179b2015be51456bdaf3f&quot; style=&quot;width: 100.0%; height: 100.0%;&quot;&gt;Holman, Hasad O., age:32&lt;/div&gt;`)[0];\n",
       "                popup_a5344b046acc17ce2d6a614e5495a061.setContent(html_e77b66a67a6179b2015be51456bdaf3f);\n",
       "            \n",
       "        \n",
       "\n",
       "        marker_b817351c1f56ce5f6468ef15f47a0dc3.bindPopup(popup_a5344b046acc17ce2d6a614e5495a061)\n",
       "        ;\n",
       "\n",
       "        \n",
       "    \n",
       "    \n",
       "            var marker_7bd81d5e38c0ab1ef803b7630ca2af1b = L.marker(\n",
       "                [31.2, 121.5],\n",
       "                {}\n",
       "            ).addTo(map_242e66c997fb08598ae8e3c75d3e5b46);\n",
       "        \n",
       "    \n",
       "        var popup_cc5c271be760591a2c757dd30438ce9d = L.popup({&quot;maxWidth&quot;: &quot;100%&quot;});\n",
       "\n",
       "        \n",
       "            \n",
       "                var html_b731572b684c6a0af777e23ad8be2253 = $(`&lt;div id=&quot;html_b731572b684c6a0af777e23ad8be2253&quot; style=&quot;width: 100.0%; height: 100.0%;&quot;&gt;Byrd, Dante A., age:43&lt;/div&gt;`)[0];\n",
       "                popup_cc5c271be760591a2c757dd30438ce9d.setContent(html_b731572b684c6a0af777e23ad8be2253);\n",
       "            \n",
       "        \n",
       "\n",
       "        marker_7bd81d5e38c0ab1ef803b7630ca2af1b.bindPopup(popup_cc5c271be760591a2c757dd30438ce9d)\n",
       "        ;\n",
       "\n",
       "        \n",
       "    \n",
       "    \n",
       "            var marker_4b13bbc31989ec5a7d1fbb47898d6c5b = L.marker(\n",
       "                [45.75, 126.6333],\n",
       "                {}\n",
       "            ).addTo(map_242e66c997fb08598ae8e3c75d3e5b46);\n",
       "        \n",
       "    \n",
       "        var popup_accca957b1b95e4679de02f8c5d99214 = L.popup({&quot;maxWidth&quot;: &quot;100%&quot;});\n",
       "\n",
       "        \n",
       "            \n",
       "                var html_088ef847e188b382b6cbe39c4daecc15 = $(`&lt;div id=&quot;html_088ef847e188b382b6cbe39c4daecc15&quot; style=&quot;width: 100.0%; height: 100.0%;&quot;&gt;Carney, Tamekah I., age:57&lt;/div&gt;`)[0];\n",
       "                popup_accca957b1b95e4679de02f8c5d99214.setContent(html_088ef847e188b382b6cbe39c4daecc15);\n",
       "            \n",
       "        \n",
       "\n",
       "        marker_4b13bbc31989ec5a7d1fbb47898d6c5b.bindPopup(popup_accca957b1b95e4679de02f8c5d99214)\n",
       "        ;\n",
       "\n",
       "        \n",
       "    \n",
       "    \n",
       "            var marker_162974031caf6304393533559a589b71 = L.marker(\n",
       "                [40.0, 95.0],\n",
       "                {}\n",
       "            ).addTo(map_242e66c997fb08598ae8e3c75d3e5b46);\n",
       "        \n",
       "    \n",
       "        var popup_fb7f6224e337890d9f392d7db1a05c8f = L.popup({&quot;maxWidth&quot;: &quot;100%&quot;});\n",
       "\n",
       "        \n",
       "            \n",
       "                var html_b73335d9382c207d50ea6f772409f5e6 = $(`&lt;div id=&quot;html_b73335d9382c207d50ea6f772409f5e6&quot; style=&quot;width: 100.0%; height: 100.0%;&quot;&gt;Mayer, Violet U., age:53&lt;/div&gt;`)[0];\n",
       "                popup_fb7f6224e337890d9f392d7db1a05c8f.setContent(html_b73335d9382c207d50ea6f772409f5e6);\n",
       "            \n",
       "        \n",
       "\n",
       "        marker_162974031caf6304393533559a589b71.bindPopup(popup_fb7f6224e337890d9f392d7db1a05c8f)\n",
       "        ;\n",
       "\n",
       "        \n",
       "    \n",
       "&lt;/script&gt;\n",
       "&lt;/html&gt;\" style=\"position:absolute;width:100%;height:100%;left:0;top:0;border:none !important;\" allowfullscreen webkitallowfullscreen mozallowfullscreen></iframe></div></div>"
      ],
      "text/plain": [
       "<folium.folium.Map at 0x111c822d0>"
      ]
     },
     "execution_count": 125,
     "metadata": {},
     "output_type": "execute_result"
    }
   ],
   "source": [
    "import folium\n",
    "print ('Folium version ' + folium.__version__)\n",
    "\n",
    "world_map = folium.Map(location = [35, 100], zoom_start = 4)\n",
    "for i in range(len(df2)):\n",
    "    location = [float(loc) for loc in df2.Location[i].split(',')]\n",
    "    folium.Marker(location = location, popup = df2.Name[i] + ', age:' + str(df2.Age[i])).add_to(world_map)\n",
    "\n",
    "world_map"
   ]
  },
  {
   "cell_type": "code",
   "execution_count": null,
   "metadata": {
    "id": "vYQ_XhoF4Na0"
   },
   "outputs": [],
   "source": [
    "#Finally drop the databases created in the lab:\n",
    "print(client.list_database_names())\n",
    "client.drop_database('test')\n",
    "client.drop_database('command_test')\n",
    "print(client.list_database_names())"
   ]
  },
  {
   "cell_type": "markdown",
   "metadata": {
    "id": "Sr0Uxfq8B_dD"
   },
   "source": [
    "## HOMEWORK:\n"
   ]
  },
  {
   "cell_type": "markdown",
   "metadata": {
    "id": "82_s5XvcB_dD"
   },
   "source": [
    "1. Read up on how to perform aggregation in mongoDB. Insert a duplicate record into the collection:\n",
    "        mydict = {\"name\": \"Benjamin\", \"address\": \"Green Dr\"}\n",
    "   Now write a command to find docs with a duplicate \"name\" field (using aggregation) and remove them.  \n",
    "   Print the collection."
   ]
  },
  {
   "cell_type": "code",
   "execution_count": null,
   "metadata": {
    "id": "hnSSNTBuB_dD"
   },
   "outputs": [],
   "source": []
  },
  {
   "cell_type": "markdown",
   "metadata": {
    "id": "1Ndwie7xB_dE"
   },
   "source": [
    "2. Read up on how to apply indexes in mongoDB. Create an index on the \"name\" and \"address\" fields in this collection.\n",
    "   Print the indexes for the collection."
   ]
  },
  {
   "cell_type": "code",
   "execution_count": null,
   "metadata": {
    "id": "bFyHLpKyB_dE"
   },
   "outputs": [],
   "source": []
  },
  {
   "cell_type": "markdown",
   "metadata": {
    "id": "Hj8GdoOXC-Lu"
   },
   "source": [
    "\n",
    "\n",
    ">\n",
    ">\n",
    ">\n",
    "\n",
    "\n"
   ]
  },
  {
   "cell_type": "markdown",
   "metadata": {
    "id": "MlasiTKgDGdA"
   },
   "source": [
    "\n",
    "\n",
    "---\n",
    "\n",
    "\n",
    "\n",
    "---\n",
    "\n",
    "\n",
    "\n",
    "> > > > > > > > > © 2024 Institute of Data\n",
    "\n",
    "\n",
    "---\n",
    "\n",
    "\n",
    "\n",
    "---\n",
    "\n",
    "\n",
    "\n"
   ]
  }
 ],
 "metadata": {
  "colab": {
   "provenance": [
    {
     "file_id": "17D0zRG20oX_57CwR4eNwdLhO4Qhlk4Dx",
     "timestamp": 1553134552284
    }
   ]
  },
  "kernelspec": {
   "display_name": "Python 3 (ipykernel)",
   "language": "python",
   "name": "python3"
  },
  "language_info": {
   "codemirror_mode": {
    "name": "ipython",
    "version": 3
   },
   "file_extension": ".py",
   "mimetype": "text/x-python",
   "name": "python",
   "nbconvert_exporter": "python",
   "pygments_lexer": "ipython3",
   "version": "3.12.4"
  }
 },
 "nbformat": 4,
 "nbformat_minor": 4
}
